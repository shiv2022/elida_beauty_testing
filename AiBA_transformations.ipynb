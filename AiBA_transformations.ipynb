{
  "nbformat": 4,
  "nbformat_minor": 0,
  "metadata": {
    "colab": {
      "provenance": [],
      "authorship_tag": "ABX9TyOxhS1wk4/5Z17BWgx+WOHV",
      "include_colab_link": true
    },
    "kernelspec": {
      "name": "python3",
      "display_name": "Python 3"
    },
    "language_info": {
      "name": "python"
    }
  },
  "cells": [
    {
      "cell_type": "markdown",
      "metadata": {
        "id": "view-in-github",
        "colab_type": "text"
      },
      "source": [
        "<a href=\"https://colab.research.google.com/github/shiv2022/elida_beauty_testing/blob/elida_beauty_testing/AiBA_transformations.ipynb\" target=\"_parent\"><img src=\"https://colab.research.google.com/assets/colab-badge.svg\" alt=\"Open In Colab\"/></a>"
      ]
    },
    {
      "cell_type": "code",
      "execution_count": 1,
      "metadata": {
        "id": "V0YPoIJrEV0d"
      },
      "outputs": [],
      "source": [
        "import numpy as np\n",
        "import pandas as pd\n",
        "import matplotlib.pyplot as plt\n",
        "import seaborn as sns\n",
        "import matplotlib\n",
        "%matplotlib inline\n",
        "import warnings\n",
        "warnings.filterwarnings(\"ignore\")\n"
      ]
    },
    {
      "cell_type": "code",
      "source": [
        "pd.set_option('display.max_rows', 500)\n",
        "pd.set_option('display.max_columns', 500)\n",
        "pd.set_option('display.width', 1000)\n",
        "pd.set_option('display.expand_frame_repr', False)"
      ],
      "metadata": {
        "id": "PI06yrPLOST-"
      },
      "execution_count": 2,
      "outputs": []
    },
    {
      "cell_type": "code",
      "source": [],
      "metadata": {
        "id": "jgCbwK-eN0H9"
      },
      "execution_count": 3,
      "outputs": []
    },
    {
      "cell_type": "code",
      "source": [],
      "metadata": {
        "id": "WVs1wCCUOgGe"
      },
      "execution_count": 3,
      "outputs": []
    },
    {
      "cell_type": "markdown",
      "source": [
        "Loading the csv file into dataframe"
      ],
      "metadata": {
        "id": "DnhAtr5MRrbg"
      }
    },
    {
      "cell_type": "code",
      "source": [
        "df1 = pd.read_csv('/content/elida_beauty_testing/elida_data.csv')\n",
        "print(df1)"
      ],
      "metadata": {
        "colab": {
          "base_uri": "https://localhost:8080/"
        },
        "id": "W-_QfiZfPLpf",
        "outputId": "bb957e08-c833-408a-95fd-c6fde08a4305"
      },
      "execution_count": 4,
      "outputs": [
        {
          "output_type": "stream",
          "name": "stdout",
          "text": [
            "                        Q1              Q2                                         Q3           Q4                                   P1                                        P2                                        P3                                    P4\n",
            "0     Fine, Medium, Thick   Straight/ Wavy                                  Hydration   Hair dryer  VO5 Hairdryer Protection Mist 200ml             Vo5 Serum Invisible Pump 50ml                                       NaN                                   NaN\n",
            "1     Fine, Medium, Thick   Straight/ Wavy                                     Volume   Hair dryer  VO5 Hairdryer Protection Mist 200ml   Vo5 Heat Protect Lot Spr Blow Dry 200ml          Vo5 Gel Spray Volume Boost 200ml                                   NaN\n",
            "2     Fine, Medium, Thick   Straight/ Wavy                                 Smoothness   Hair dryer  VO5 Hairdryer Protection Mist 200ml             Vo5 Serum Invisible Pump 50ml  V05 Taming Spray Heat Defence Aero 100ml        Vo5 Cream Frizzfree Tube 125ml\n",
            "3     Fine, Medium, Thick   Straight/ Wavy                                     Shine    Hair dryer  VO5 Hairdryer Protection Mist 200ml  V05 Taming Spray Heat Defence Aero 100ml                                       NaN                                   NaN\n",
            "4     Fine, Medium, Thick   Straight/ Wavy                            Curl Definition   Hair dryer  VO5 Hairdryer Protection Mist 200ml            Vo5 Cream Frizzfree Tube 125ml            Vo5 Mousse Curl Defining 200ml                                   NaN\n",
            "...                    ...             ...                                        ...          ...                                  ...                                       ...                                       ...                                   ...\n",
            "1784  Fine, Medium, Thick    Curly/ Coily             Repair ,Meduim Hold,Strong Hold  Air Drying            Vo5 Cream Curls Tube 125ml          Vo5 Wax Extreme Gel Wax Jar 75ml     VO5 Nourishing Coconut Hot Oil 4x15ml        Vo5 Wax Rework Putty Jar 150ml\n",
            "1785  Fine, Medium, Thick    Curly/ Coily    Colour Protection,Light Hold,Meduim Hold  Air Drying            Vo5 Cream Curls Tube 125ml     VO5 Nourishing Coconut Hot Oil 4x15ml              Vo5 Wax Surf Style Jar 150ml      Vo5 Wax Extreme Gel Wax Jar 75ml\n",
            "1786  Fine, Medium, Thick    Curly/ Coily    Colour Protection,Light Hold,Strong Hold  Air Drying            Vo5 Cream Curls Tube 125ml     VO5 Nourishing Coconut Hot Oil 4x15ml   Vo5 Paste Extreme Style Matt Pump 100ml  Vo5 Paste Extreme Matt Clay Tin 75ml\n",
            "1787  Fine, Medium, Thick    Curly/ Coily   Colour Protection,Meduim Hold,Strong Hold  Air Drying            Vo5 Cream Curls Tube 125ml                  Vo5 Wax Styling Jar 75ml     VO5 Nourishing Coconut Hot Oil 4x15ml        Vo5 Wax Rework Putty Jar 150ml\n",
            "1788  Fine, Medium, Thick    Curly/ Coily          Light Hold,Meduim Hold,Strong Hold  Air Drying            Vo5 Cream Curls Tube 125ml            Vo5 Wax Rework Putty Jar 150ml      Vo5 Paste Extreme Matt Clay Tin 75ml              Vo5 Matt Hair Fibre 75ml\n",
            "\n",
            "[1789 rows x 8 columns]\n"
          ]
        }
      ]
    },
    {
      "cell_type": "code",
      "source": [
        "df1"
      ],
      "metadata": {
        "colab": {
          "base_uri": "https://localhost:8080/",
          "height": 867
        },
        "id": "srtzayMVSphK",
        "outputId": "e5c0db70-aa47-4c38-cc7d-4218be82e93b"
      },
      "execution_count": 5,
      "outputs": [
        {
          "output_type": "execute_result",
          "data": {
            "text/plain": [
              "                        Q1              Q2                                         Q3           Q4                                   P1                                        P2                                        P3                                    P4\n",
              "0     Fine, Medium, Thick   Straight/ Wavy                                  Hydration   Hair dryer  VO5 Hairdryer Protection Mist 200ml             Vo5 Serum Invisible Pump 50ml                                       NaN                                   NaN\n",
              "1     Fine, Medium, Thick   Straight/ Wavy                                     Volume   Hair dryer  VO5 Hairdryer Protection Mist 200ml   Vo5 Heat Protect Lot Spr Blow Dry 200ml          Vo5 Gel Spray Volume Boost 200ml                                   NaN\n",
              "2     Fine, Medium, Thick   Straight/ Wavy                                 Smoothness   Hair dryer  VO5 Hairdryer Protection Mist 200ml             Vo5 Serum Invisible Pump 50ml  V05 Taming Spray Heat Defence Aero 100ml        Vo5 Cream Frizzfree Tube 125ml\n",
              "3     Fine, Medium, Thick   Straight/ Wavy                                     Shine    Hair dryer  VO5 Hairdryer Protection Mist 200ml  V05 Taming Spray Heat Defence Aero 100ml                                       NaN                                   NaN\n",
              "4     Fine, Medium, Thick   Straight/ Wavy                            Curl Definition   Hair dryer  VO5 Hairdryer Protection Mist 200ml            Vo5 Cream Frizzfree Tube 125ml            Vo5 Mousse Curl Defining 200ml                                   NaN\n",
              "...                    ...             ...                                        ...          ...                                  ...                                       ...                                       ...                                   ...\n",
              "1784  Fine, Medium, Thick    Curly/ Coily             Repair ,Meduim Hold,Strong Hold  Air Drying            Vo5 Cream Curls Tube 125ml          Vo5 Wax Extreme Gel Wax Jar 75ml     VO5 Nourishing Coconut Hot Oil 4x15ml        Vo5 Wax Rework Putty Jar 150ml\n",
              "1785  Fine, Medium, Thick    Curly/ Coily    Colour Protection,Light Hold,Meduim Hold  Air Drying            Vo5 Cream Curls Tube 125ml     VO5 Nourishing Coconut Hot Oil 4x15ml              Vo5 Wax Surf Style Jar 150ml      Vo5 Wax Extreme Gel Wax Jar 75ml\n",
              "1786  Fine, Medium, Thick    Curly/ Coily    Colour Protection,Light Hold,Strong Hold  Air Drying            Vo5 Cream Curls Tube 125ml     VO5 Nourishing Coconut Hot Oil 4x15ml   Vo5 Paste Extreme Style Matt Pump 100ml  Vo5 Paste Extreme Matt Clay Tin 75ml\n",
              "1787  Fine, Medium, Thick    Curly/ Coily   Colour Protection,Meduim Hold,Strong Hold  Air Drying            Vo5 Cream Curls Tube 125ml                  Vo5 Wax Styling Jar 75ml     VO5 Nourishing Coconut Hot Oil 4x15ml        Vo5 Wax Rework Putty Jar 150ml\n",
              "1788  Fine, Medium, Thick    Curly/ Coily          Light Hold,Meduim Hold,Strong Hold  Air Drying            Vo5 Cream Curls Tube 125ml            Vo5 Wax Rework Putty Jar 150ml      Vo5 Paste Extreme Matt Clay Tin 75ml              Vo5 Matt Hair Fibre 75ml\n",
              "\n",
              "[1789 rows x 8 columns]"
            ],
            "text/html": [
              "\n",
              "  <div id=\"df-3c260bb2-00a9-4044-86a9-c969f5971f70\">\n",
              "    <div class=\"colab-df-container\">\n",
              "      <div>\n",
              "<style scoped>\n",
              "    .dataframe tbody tr th:only-of-type {\n",
              "        vertical-align: middle;\n",
              "    }\n",
              "\n",
              "    .dataframe tbody tr th {\n",
              "        vertical-align: top;\n",
              "    }\n",
              "\n",
              "    .dataframe thead th {\n",
              "        text-align: right;\n",
              "    }\n",
              "</style>\n",
              "<table border=\"1\" class=\"dataframe\">\n",
              "  <thead>\n",
              "    <tr style=\"text-align: right;\">\n",
              "      <th></th>\n",
              "      <th>Q1</th>\n",
              "      <th>Q2</th>\n",
              "      <th>Q3</th>\n",
              "      <th>Q4</th>\n",
              "      <th>P1</th>\n",
              "      <th>P2</th>\n",
              "      <th>P3</th>\n",
              "      <th>P4</th>\n",
              "    </tr>\n",
              "  </thead>\n",
              "  <tbody>\n",
              "    <tr>\n",
              "      <th>0</th>\n",
              "      <td>Fine, Medium, Thick</td>\n",
              "      <td>Straight/ Wavy</td>\n",
              "      <td>Hydration</td>\n",
              "      <td>Hair dryer</td>\n",
              "      <td>VO5 Hairdryer Protection Mist 200ml</td>\n",
              "      <td>Vo5 Serum Invisible Pump 50ml</td>\n",
              "      <td>NaN</td>\n",
              "      <td>NaN</td>\n",
              "    </tr>\n",
              "    <tr>\n",
              "      <th>1</th>\n",
              "      <td>Fine, Medium, Thick</td>\n",
              "      <td>Straight/ Wavy</td>\n",
              "      <td>Volume</td>\n",
              "      <td>Hair dryer</td>\n",
              "      <td>VO5 Hairdryer Protection Mist 200ml</td>\n",
              "      <td>Vo5 Heat Protect Lot Spr Blow Dry 200ml</td>\n",
              "      <td>Vo5 Gel Spray Volume Boost 200ml</td>\n",
              "      <td>NaN</td>\n",
              "    </tr>\n",
              "    <tr>\n",
              "      <th>2</th>\n",
              "      <td>Fine, Medium, Thick</td>\n",
              "      <td>Straight/ Wavy</td>\n",
              "      <td>Smoothness</td>\n",
              "      <td>Hair dryer</td>\n",
              "      <td>VO5 Hairdryer Protection Mist 200ml</td>\n",
              "      <td>Vo5 Serum Invisible Pump 50ml</td>\n",
              "      <td>V05 Taming Spray Heat Defence Aero 100ml</td>\n",
              "      <td>Vo5 Cream Frizzfree Tube 125ml</td>\n",
              "    </tr>\n",
              "    <tr>\n",
              "      <th>3</th>\n",
              "      <td>Fine, Medium, Thick</td>\n",
              "      <td>Straight/ Wavy</td>\n",
              "      <td>Shine</td>\n",
              "      <td>Hair dryer</td>\n",
              "      <td>VO5 Hairdryer Protection Mist 200ml</td>\n",
              "      <td>V05 Taming Spray Heat Defence Aero 100ml</td>\n",
              "      <td>NaN</td>\n",
              "      <td>NaN</td>\n",
              "    </tr>\n",
              "    <tr>\n",
              "      <th>4</th>\n",
              "      <td>Fine, Medium, Thick</td>\n",
              "      <td>Straight/ Wavy</td>\n",
              "      <td>Curl Definition</td>\n",
              "      <td>Hair dryer</td>\n",
              "      <td>VO5 Hairdryer Protection Mist 200ml</td>\n",
              "      <td>Vo5 Cream Frizzfree Tube 125ml</td>\n",
              "      <td>Vo5 Mousse Curl Defining 200ml</td>\n",
              "      <td>NaN</td>\n",
              "    </tr>\n",
              "    <tr>\n",
              "      <th>...</th>\n",
              "      <td>...</td>\n",
              "      <td>...</td>\n",
              "      <td>...</td>\n",
              "      <td>...</td>\n",
              "      <td>...</td>\n",
              "      <td>...</td>\n",
              "      <td>...</td>\n",
              "      <td>...</td>\n",
              "    </tr>\n",
              "    <tr>\n",
              "      <th>1784</th>\n",
              "      <td>Fine, Medium, Thick</td>\n",
              "      <td>Curly/ Coily</td>\n",
              "      <td>Repair ,Meduim Hold,Strong Hold</td>\n",
              "      <td>Air Drying</td>\n",
              "      <td>Vo5 Cream Curls Tube 125ml</td>\n",
              "      <td>Vo5 Wax Extreme Gel Wax Jar 75ml</td>\n",
              "      <td>VO5 Nourishing Coconut Hot Oil 4x15ml</td>\n",
              "      <td>Vo5 Wax Rework Putty Jar 150ml</td>\n",
              "    </tr>\n",
              "    <tr>\n",
              "      <th>1785</th>\n",
              "      <td>Fine, Medium, Thick</td>\n",
              "      <td>Curly/ Coily</td>\n",
              "      <td>Colour Protection,Light Hold,Meduim Hold</td>\n",
              "      <td>Air Drying</td>\n",
              "      <td>Vo5 Cream Curls Tube 125ml</td>\n",
              "      <td>VO5 Nourishing Coconut Hot Oil 4x15ml</td>\n",
              "      <td>Vo5 Wax Surf Style Jar 150ml</td>\n",
              "      <td>Vo5 Wax Extreme Gel Wax Jar 75ml</td>\n",
              "    </tr>\n",
              "    <tr>\n",
              "      <th>1786</th>\n",
              "      <td>Fine, Medium, Thick</td>\n",
              "      <td>Curly/ Coily</td>\n",
              "      <td>Colour Protection,Light Hold,Strong Hold</td>\n",
              "      <td>Air Drying</td>\n",
              "      <td>Vo5 Cream Curls Tube 125ml</td>\n",
              "      <td>VO5 Nourishing Coconut Hot Oil 4x15ml</td>\n",
              "      <td>Vo5 Paste Extreme Style Matt Pump 100ml</td>\n",
              "      <td>Vo5 Paste Extreme Matt Clay Tin 75ml</td>\n",
              "    </tr>\n",
              "    <tr>\n",
              "      <th>1787</th>\n",
              "      <td>Fine, Medium, Thick</td>\n",
              "      <td>Curly/ Coily</td>\n",
              "      <td>Colour Protection,Meduim Hold,Strong Hold</td>\n",
              "      <td>Air Drying</td>\n",
              "      <td>Vo5 Cream Curls Tube 125ml</td>\n",
              "      <td>Vo5 Wax Styling Jar 75ml</td>\n",
              "      <td>VO5 Nourishing Coconut Hot Oil 4x15ml</td>\n",
              "      <td>Vo5 Wax Rework Putty Jar 150ml</td>\n",
              "    </tr>\n",
              "    <tr>\n",
              "      <th>1788</th>\n",
              "      <td>Fine, Medium, Thick</td>\n",
              "      <td>Curly/ Coily</td>\n",
              "      <td>Light Hold,Meduim Hold,Strong Hold</td>\n",
              "      <td>Air Drying</td>\n",
              "      <td>Vo5 Cream Curls Tube 125ml</td>\n",
              "      <td>Vo5 Wax Rework Putty Jar 150ml</td>\n",
              "      <td>Vo5 Paste Extreme Matt Clay Tin 75ml</td>\n",
              "      <td>Vo5 Matt Hair Fibre 75ml</td>\n",
              "    </tr>\n",
              "  </tbody>\n",
              "</table>\n",
              "<p>1789 rows × 8 columns</p>\n",
              "</div>\n",
              "      <button class=\"colab-df-convert\" onclick=\"convertToInteractive('df-3c260bb2-00a9-4044-86a9-c969f5971f70')\"\n",
              "              title=\"Convert this dataframe to an interactive table.\"\n",
              "              style=\"display:none;\">\n",
              "        \n",
              "  <svg xmlns=\"http://www.w3.org/2000/svg\" height=\"24px\"viewBox=\"0 0 24 24\"\n",
              "       width=\"24px\">\n",
              "    <path d=\"M0 0h24v24H0V0z\" fill=\"none\"/>\n",
              "    <path d=\"M18.56 5.44l.94 2.06.94-2.06 2.06-.94-2.06-.94-.94-2.06-.94 2.06-2.06.94zm-11 1L8.5 8.5l.94-2.06 2.06-.94-2.06-.94L8.5 2.5l-.94 2.06-2.06.94zm10 10l.94 2.06.94-2.06 2.06-.94-2.06-.94-.94-2.06-.94 2.06-2.06.94z\"/><path d=\"M17.41 7.96l-1.37-1.37c-.4-.4-.92-.59-1.43-.59-.52 0-1.04.2-1.43.59L10.3 9.45l-7.72 7.72c-.78.78-.78 2.05 0 2.83L4 21.41c.39.39.9.59 1.41.59.51 0 1.02-.2 1.41-.59l7.78-7.78 2.81-2.81c.8-.78.8-2.07 0-2.86zM5.41 20L4 18.59l7.72-7.72 1.47 1.35L5.41 20z\"/>\n",
              "  </svg>\n",
              "      </button>\n",
              "      \n",
              "  <style>\n",
              "    .colab-df-container {\n",
              "      display:flex;\n",
              "      flex-wrap:wrap;\n",
              "      gap: 12px;\n",
              "    }\n",
              "\n",
              "    .colab-df-convert {\n",
              "      background-color: #E8F0FE;\n",
              "      border: none;\n",
              "      border-radius: 50%;\n",
              "      cursor: pointer;\n",
              "      display: none;\n",
              "      fill: #1967D2;\n",
              "      height: 32px;\n",
              "      padding: 0 0 0 0;\n",
              "      width: 32px;\n",
              "    }\n",
              "\n",
              "    .colab-df-convert:hover {\n",
              "      background-color: #E2EBFA;\n",
              "      box-shadow: 0px 1px 2px rgba(60, 64, 67, 0.3), 0px 1px 3px 1px rgba(60, 64, 67, 0.15);\n",
              "      fill: #174EA6;\n",
              "    }\n",
              "\n",
              "    [theme=dark] .colab-df-convert {\n",
              "      background-color: #3B4455;\n",
              "      fill: #D2E3FC;\n",
              "    }\n",
              "\n",
              "    [theme=dark] .colab-df-convert:hover {\n",
              "      background-color: #434B5C;\n",
              "      box-shadow: 0px 1px 3px 1px rgba(0, 0, 0, 0.15);\n",
              "      filter: drop-shadow(0px 1px 2px rgba(0, 0, 0, 0.3));\n",
              "      fill: #FFFFFF;\n",
              "    }\n",
              "  </style>\n",
              "\n",
              "      <script>\n",
              "        const buttonEl =\n",
              "          document.querySelector('#df-3c260bb2-00a9-4044-86a9-c969f5971f70 button.colab-df-convert');\n",
              "        buttonEl.style.display =\n",
              "          google.colab.kernel.accessAllowed ? 'block' : 'none';\n",
              "\n",
              "        async function convertToInteractive(key) {\n",
              "          const element = document.querySelector('#df-3c260bb2-00a9-4044-86a9-c969f5971f70');\n",
              "          const dataTable =\n",
              "            await google.colab.kernel.invokeFunction('convertToInteractive',\n",
              "                                                     [key], {});\n",
              "          if (!dataTable) return;\n",
              "\n",
              "          const docLinkHtml = 'Like what you see? Visit the ' +\n",
              "            '<a target=\"_blank\" href=https://colab.research.google.com/notebooks/data_table.ipynb>data table notebook</a>'\n",
              "            + ' to learn more about interactive tables.';\n",
              "          element.innerHTML = '';\n",
              "          dataTable['output_type'] = 'display_data';\n",
              "          await google.colab.output.renderOutput(dataTable, element);\n",
              "          const docLink = document.createElement('div');\n",
              "          docLink.innerHTML = docLinkHtml;\n",
              "          element.appendChild(docLink);\n",
              "        }\n",
              "      </script>\n",
              "    </div>\n",
              "  </div>\n",
              "  "
            ]
          },
          "metadata": {},
          "execution_count": 5
        }
      ]
    },
    {
      "cell_type": "code",
      "source": [
        "\t\n",
        "df1=df1.assign(Q1=df1.Q1.str.split(\", \")).explode('Q1')\n",
        "\t\n",
        "df1=df1.assign(Q2=df1.Q2.str.split(\"/ \")).explode('Q2')\n",
        "\t\n",
        "df1=df1.assign(Q3=df1.Q3.str.split(\",\")).explode('Q3')\n",
        "\t\n",
        "df1=df1.assign(Q4=df1.Q4.str.split(\"/ \")).explode('Q4')"
      ],
      "metadata": {
        "id": "Z8X9eTMCPdH0"
      },
      "execution_count": 6,
      "outputs": []
    },
    {
      "cell_type": "code",
      "source": [
        "print(df1)"
      ],
      "metadata": {
        "colab": {
          "base_uri": "https://localhost:8080/"
        },
        "id": "SamgXDg5RbJF",
        "outputId": "3c61c18c-58c8-4e9b-86df-db62c6e94bc0"
      },
      "execution_count": 7,
      "outputs": [
        {
          "output_type": "stream",
          "name": "stdout",
          "text": [
            "          Q1        Q2           Q3           Q4                                   P1                              P2                                    P3                        P4\n",
            "0       Fine  Straight    Hydration   Hair dryer  VO5 Hairdryer Protection Mist 200ml   Vo5 Serum Invisible Pump 50ml                                   NaN                       NaN\n",
            "0       Fine      Wavy    Hydration   Hair dryer  VO5 Hairdryer Protection Mist 200ml   Vo5 Serum Invisible Pump 50ml                                   NaN                       NaN\n",
            "0     Medium  Straight    Hydration   Hair dryer  VO5 Hairdryer Protection Mist 200ml   Vo5 Serum Invisible Pump 50ml                                   NaN                       NaN\n",
            "0     Medium      Wavy    Hydration   Hair dryer  VO5 Hairdryer Protection Mist 200ml   Vo5 Serum Invisible Pump 50ml                                   NaN                       NaN\n",
            "0     Thick   Straight    Hydration   Hair dryer  VO5 Hairdryer Protection Mist 200ml   Vo5 Serum Invisible Pump 50ml                                   NaN                       NaN\n",
            "...      ...       ...          ...          ...                                  ...                             ...                                   ...                       ...\n",
            "1788  Thick      Curly  Meduim Hold  Air Drying            Vo5 Cream Curls Tube 125ml  Vo5 Wax Rework Putty Jar 150ml  Vo5 Paste Extreme Matt Clay Tin 75ml  Vo5 Matt Hair Fibre 75ml\n",
            "1788  Thick      Curly  Strong Hold  Air Drying            Vo5 Cream Curls Tube 125ml  Vo5 Wax Rework Putty Jar 150ml  Vo5 Paste Extreme Matt Clay Tin 75ml  Vo5 Matt Hair Fibre 75ml\n",
            "1788  Thick     Coily    Light Hold  Air Drying            Vo5 Cream Curls Tube 125ml  Vo5 Wax Rework Putty Jar 150ml  Vo5 Paste Extreme Matt Clay Tin 75ml  Vo5 Matt Hair Fibre 75ml\n",
            "1788  Thick     Coily   Meduim Hold  Air Drying            Vo5 Cream Curls Tube 125ml  Vo5 Wax Rework Putty Jar 150ml  Vo5 Paste Extreme Matt Clay Tin 75ml  Vo5 Matt Hair Fibre 75ml\n",
            "1788  Thick     Coily   Strong Hold  Air Drying            Vo5 Cream Curls Tube 125ml  Vo5 Wax Rework Putty Jar 150ml  Vo5 Paste Extreme Matt Clay Tin 75ml  Vo5 Matt Hair Fibre 75ml\n",
            "\n",
            "[38610 rows x 8 columns]\n"
          ]
        }
      ]
    },
    {
      "cell_type": "code",
      "source": [
        "df1.to_csv(\"product_response_combinations_file\")"
      ],
      "metadata": {
        "id": "wQdK0OCycfYI"
      },
      "execution_count": 32,
      "outputs": []
    },
    {
      "cell_type": "markdown",
      "source": [
        "Loading the json file and creating a dataframe"
      ],
      "metadata": {
        "id": "1qCKv7WpniSF"
      }
    },
    {
      "cell_type": "code",
      "source": [
        "import json\n",
        "# load data using Python JSON module\n",
        "with open('/content/elida_beauty_testing/question_response.json','r') as f:\n",
        "    data = json.loads(f.read())\n",
        "# Flatten data\n",
        "\n",
        "df2 = pd.json_normalize(data, record_path =['Q&A','responses'],meta=[['Q&A','questionId'],['Q&A','questionText'],['Q&A','questionDescription'],['Q&A','multiSelect']])\n"
      ],
      "metadata": {
        "id": "znU-__tLwbVf"
      },
      "execution_count": 25,
      "outputs": []
    },
    {
      "cell_type": "code",
      "source": [
        "df2.columns"
      ],
      "metadata": {
        "colab": {
          "base_uri": "https://localhost:8080/"
        },
        "id": "e-2nhHFNspp2",
        "outputId": "66cbc952-e54d-4750-c85b-47f12535ab9d"
      },
      "execution_count": 26,
      "outputs": [
        {
          "output_type": "execute_result",
          "data": {
            "text/plain": [
              "Index(['answerInEnglish', 'seedWords', 'mustKeys', 'mustNotKeys', 'responseDescription', 'responseID', 'responseText', 'Q&A.questionId', 'Q&A.questionText', 'Q&A.questionDescription', 'Q&A.multiSelect'], dtype='object')"
            ]
          },
          "metadata": {},
          "execution_count": 26
        }
      ]
    },
    {
      "cell_type": "markdown",
      "source": [
        "Arranging the columns in proper order"
      ],
      "metadata": {
        "id": "Yl8thjMvYGRg"
      }
    },
    {
      "cell_type": "code",
      "source": [
        "df2=df2.loc[:,['Q&A.questionId', 'Q&A.questionText', 'Q&A.questionDescription', 'Q&A.multiSelect','answerInEnglish','responseID', 'responseDescription',  'responseText' , 'seedWords']]"
      ],
      "metadata": {
        "id": "gd1xKA11VSKC"
      },
      "execution_count": 27,
      "outputs": []
    },
    {
      "cell_type": "code",
      "source": [
        "df2.columns"
      ],
      "metadata": {
        "colab": {
          "base_uri": "https://localhost:8080/"
        },
        "id": "HjBIU3UlYokU",
        "outputId": "f2034351-08e0-4ffe-d635-f3c4238fbab4"
      },
      "execution_count": 28,
      "outputs": [
        {
          "output_type": "execute_result",
          "data": {
            "text/plain": [
              "Index(['Q&A.questionId', 'Q&A.questionText', 'Q&A.questionDescription', 'Q&A.multiSelect', 'answerInEnglish', 'responseID', 'responseDescription', 'responseText', 'seedWords'], dtype='object')"
            ]
          },
          "metadata": {},
          "execution_count": 28
        }
      ]
    },
    {
      "cell_type": "markdown",
      "source": [
        "Renaming the columns"
      ],
      "metadata": {
        "id": "u0HFeFfJZV69"
      }
    },
    {
      "cell_type": "code",
      "source": [
        "df2.rename(columns={'Q&A.questionId': 'questionId', 'Q&A.questionText':'questionText', 'Q&A.questionDescription':'questionDescription', 'Q&A.multiSelect':'multiSelect'},inplace=True)"
      ],
      "metadata": {
        "id": "A-GX9P4_VSMi"
      },
      "execution_count": 29,
      "outputs": []
    },
    {
      "cell_type": "code",
      "source": [
        "df2"
      ],
      "metadata": {
        "colab": {
          "base_uri": "https://localhost:8080/",
          "height": 1000
        },
        "id": "RPg6LjLiZZqz",
        "outputId": "5581a186-3e01-453d-d7fb-2ce1dd88ed44"
      },
      "execution_count": 30,
      "outputs": [
        {
          "output_type": "execute_result",
          "data": {
            "text/plain": [
              "   questionId                                       questionText                                questionDescription multiSelect    answerInEnglish responseID responseDescription       responseText                                          seedWords\n",
              "0        3031                            How thick is your hair?                            How thick is your hair?       False               Fine       1111                Fine               Fine  [fine, thick, volume, smooth, glossy, soft, sh...\n",
              "1        3031                            How thick is your hair?                            How thick is your hair?       False             Medium       1112              Medium             Medium  [thick, volume, strength, smooth, glossy, soft...\n",
              "2        3032                            What is your hair type?                            What is your hair type?       False           Straight       2221            Straight           Straight  [straight, sleek, shiny, smooth, glossy, soft,...\n",
              "3        3032                            What is your hair type?                            What is your hair type?       False               Wavy       2222                Wavy               Wavy  [wavy, curly, smooth, glossy, soft, shiny, hyd...\n",
              "4        3032                            What is your hair type?                            What is your hair type?       False              Curly       2223               Curly              Curly  [curl, curly, dry, messy, defined, coily, smoo...\n",
              "5        3032                            What is your hair type?                            What is your hair type?       False              Coily       2224               Coily              Coily  [curl, curly, dry, messy, defined, coily, smoo...\n",
              "6        3033                What do you use to style your hair?                What do you use to style your hair?       False         Hair dryer       3331          Hair dryer         Hair dryer  [heat protect, dryer, heat, smooth, glossy, so...\n",
              "7        3033                What do you use to style your hair?                What do you use to style your hair?       False             Curler       3332              Curler             Curler  [curl, curler, roller, mousse, heat, smooth, g...\n",
              "8        3033                What do you use to style your hair?                What do you use to style your hair?       False       Straightener       3333        Straightener       Straightener  [straight, gel, rebound, keratin, frizz, sleek...\n",
              "9        3033                What do you use to style your hair?                What do you use to style your hair?       False         Air drying       3334          Air drying         Air drying  [air drying, serum, towel, smooth, glossy, sof...\n",
              "10       3034  When it comes to your hair, you care the most ...  When it comes to your hair, you care the most ...        True          Hydration       4441           Hydration          Hydration           [hydration, shiny, soft, dull, moisture]\n",
              "11       3034  When it comes to your hair, you care the most ...  When it comes to your hair, you care the most ...        True             Volume       4442              Volume             Volume                [volume, lustrous, thick, strength]\n",
              "12       3034  When it comes to your hair, you care the most ...  When it comes to your hair, you care the most ...        True         Smoothness       4443          Smoothness         Smoothness                      [smooth, glossy, soft, shiny]\n",
              "13       3034  When it comes to your hair, you care the most ...  When it comes to your hair, you care the most ...        True              Shine       4444               Shine              Shine               [smooth, glossy, soft, shiny, shine]\n",
              "14       3034  When it comes to your hair, you care the most ...  When it comes to your hair, you care the most ...        True    Clean & Refresh       4445     Clean & Refresh    Clean & Refresh                                            [cddcd]\n",
              "15       3034  When it comes to your hair, you care the most ...  When it comes to your hair, you care the most ...        True    Curl Definition       4446     Curl Definition    Curl Definition         [curl, defined, curly, wavy, messy, shape]\n",
              "16       3034  When it comes to your hair, you care the most ...  When it comes to your hair, you care the most ...        True           Strength       4447            Strength           Strength                      [strength, dull, weak, thick]\n",
              "17       3034  When it comes to your hair, you care the most ...  When it comes to your hair, you care the most ...        True   Preventing Frizz       4448    Preventing Frizz   Preventing Frizz        [frizz, detangle, frizz-free, damage, heat]\n",
              "18       3034  When it comes to your hair, you care the most ...  When it comes to your hair, you care the most ...        True             Repair       4449              Repair             Repair  [repair, damage, heat, dull, weak, strength, n...\n",
              "19       3034  When it comes to your hair, you care the most ...  When it comes to your hair, you care the most ...        True  Colour Protection      44450   Colour Protection  Colour Protection          [colour, damage, dull, dry, rough, color]"
            ],
            "text/html": [
              "\n",
              "  <div id=\"df-1635ce49-0a36-4ebf-b097-3d014c11e1f6\">\n",
              "    <div class=\"colab-df-container\">\n",
              "      <div>\n",
              "<style scoped>\n",
              "    .dataframe tbody tr th:only-of-type {\n",
              "        vertical-align: middle;\n",
              "    }\n",
              "\n",
              "    .dataframe tbody tr th {\n",
              "        vertical-align: top;\n",
              "    }\n",
              "\n",
              "    .dataframe thead th {\n",
              "        text-align: right;\n",
              "    }\n",
              "</style>\n",
              "<table border=\"1\" class=\"dataframe\">\n",
              "  <thead>\n",
              "    <tr style=\"text-align: right;\">\n",
              "      <th></th>\n",
              "      <th>questionId</th>\n",
              "      <th>questionText</th>\n",
              "      <th>questionDescription</th>\n",
              "      <th>multiSelect</th>\n",
              "      <th>answerInEnglish</th>\n",
              "      <th>responseID</th>\n",
              "      <th>responseDescription</th>\n",
              "      <th>responseText</th>\n",
              "      <th>seedWords</th>\n",
              "    </tr>\n",
              "  </thead>\n",
              "  <tbody>\n",
              "    <tr>\n",
              "      <th>0</th>\n",
              "      <td>3031</td>\n",
              "      <td>How thick is your hair?</td>\n",
              "      <td>How thick is your hair?</td>\n",
              "      <td>False</td>\n",
              "      <td>Fine</td>\n",
              "      <td>1111</td>\n",
              "      <td>Fine</td>\n",
              "      <td>Fine</td>\n",
              "      <td>[fine, thick, volume, smooth, glossy, soft, sh...</td>\n",
              "    </tr>\n",
              "    <tr>\n",
              "      <th>1</th>\n",
              "      <td>3031</td>\n",
              "      <td>How thick is your hair?</td>\n",
              "      <td>How thick is your hair?</td>\n",
              "      <td>False</td>\n",
              "      <td>Medium</td>\n",
              "      <td>1112</td>\n",
              "      <td>Medium</td>\n",
              "      <td>Medium</td>\n",
              "      <td>[thick, volume, strength, smooth, glossy, soft...</td>\n",
              "    </tr>\n",
              "    <tr>\n",
              "      <th>2</th>\n",
              "      <td>3032</td>\n",
              "      <td>What is your hair type?</td>\n",
              "      <td>What is your hair type?</td>\n",
              "      <td>False</td>\n",
              "      <td>Straight</td>\n",
              "      <td>2221</td>\n",
              "      <td>Straight</td>\n",
              "      <td>Straight</td>\n",
              "      <td>[straight, sleek, shiny, smooth, glossy, soft,...</td>\n",
              "    </tr>\n",
              "    <tr>\n",
              "      <th>3</th>\n",
              "      <td>3032</td>\n",
              "      <td>What is your hair type?</td>\n",
              "      <td>What is your hair type?</td>\n",
              "      <td>False</td>\n",
              "      <td>Wavy</td>\n",
              "      <td>2222</td>\n",
              "      <td>Wavy</td>\n",
              "      <td>Wavy</td>\n",
              "      <td>[wavy, curly, smooth, glossy, soft, shiny, hyd...</td>\n",
              "    </tr>\n",
              "    <tr>\n",
              "      <th>4</th>\n",
              "      <td>3032</td>\n",
              "      <td>What is your hair type?</td>\n",
              "      <td>What is your hair type?</td>\n",
              "      <td>False</td>\n",
              "      <td>Curly</td>\n",
              "      <td>2223</td>\n",
              "      <td>Curly</td>\n",
              "      <td>Curly</td>\n",
              "      <td>[curl, curly, dry, messy, defined, coily, smoo...</td>\n",
              "    </tr>\n",
              "    <tr>\n",
              "      <th>5</th>\n",
              "      <td>3032</td>\n",
              "      <td>What is your hair type?</td>\n",
              "      <td>What is your hair type?</td>\n",
              "      <td>False</td>\n",
              "      <td>Coily</td>\n",
              "      <td>2224</td>\n",
              "      <td>Coily</td>\n",
              "      <td>Coily</td>\n",
              "      <td>[curl, curly, dry, messy, defined, coily, smoo...</td>\n",
              "    </tr>\n",
              "    <tr>\n",
              "      <th>6</th>\n",
              "      <td>3033</td>\n",
              "      <td>What do you use to style your hair?</td>\n",
              "      <td>What do you use to style your hair?</td>\n",
              "      <td>False</td>\n",
              "      <td>Hair dryer</td>\n",
              "      <td>3331</td>\n",
              "      <td>Hair dryer</td>\n",
              "      <td>Hair dryer</td>\n",
              "      <td>[heat protect, dryer, heat, smooth, glossy, so...</td>\n",
              "    </tr>\n",
              "    <tr>\n",
              "      <th>7</th>\n",
              "      <td>3033</td>\n",
              "      <td>What do you use to style your hair?</td>\n",
              "      <td>What do you use to style your hair?</td>\n",
              "      <td>False</td>\n",
              "      <td>Curler</td>\n",
              "      <td>3332</td>\n",
              "      <td>Curler</td>\n",
              "      <td>Curler</td>\n",
              "      <td>[curl, curler, roller, mousse, heat, smooth, g...</td>\n",
              "    </tr>\n",
              "    <tr>\n",
              "      <th>8</th>\n",
              "      <td>3033</td>\n",
              "      <td>What do you use to style your hair?</td>\n",
              "      <td>What do you use to style your hair?</td>\n",
              "      <td>False</td>\n",
              "      <td>Straightener</td>\n",
              "      <td>3333</td>\n",
              "      <td>Straightener</td>\n",
              "      <td>Straightener</td>\n",
              "      <td>[straight, gel, rebound, keratin, frizz, sleek...</td>\n",
              "    </tr>\n",
              "    <tr>\n",
              "      <th>9</th>\n",
              "      <td>3033</td>\n",
              "      <td>What do you use to style your hair?</td>\n",
              "      <td>What do you use to style your hair?</td>\n",
              "      <td>False</td>\n",
              "      <td>Air drying</td>\n",
              "      <td>3334</td>\n",
              "      <td>Air drying</td>\n",
              "      <td>Air drying</td>\n",
              "      <td>[air drying, serum, towel, smooth, glossy, sof...</td>\n",
              "    </tr>\n",
              "    <tr>\n",
              "      <th>10</th>\n",
              "      <td>3034</td>\n",
              "      <td>When it comes to your hair, you care the most ...</td>\n",
              "      <td>When it comes to your hair, you care the most ...</td>\n",
              "      <td>True</td>\n",
              "      <td>Hydration</td>\n",
              "      <td>4441</td>\n",
              "      <td>Hydration</td>\n",
              "      <td>Hydration</td>\n",
              "      <td>[hydration, shiny, soft, dull, moisture]</td>\n",
              "    </tr>\n",
              "    <tr>\n",
              "      <th>11</th>\n",
              "      <td>3034</td>\n",
              "      <td>When it comes to your hair, you care the most ...</td>\n",
              "      <td>When it comes to your hair, you care the most ...</td>\n",
              "      <td>True</td>\n",
              "      <td>Volume</td>\n",
              "      <td>4442</td>\n",
              "      <td>Volume</td>\n",
              "      <td>Volume</td>\n",
              "      <td>[volume, lustrous, thick, strength]</td>\n",
              "    </tr>\n",
              "    <tr>\n",
              "      <th>12</th>\n",
              "      <td>3034</td>\n",
              "      <td>When it comes to your hair, you care the most ...</td>\n",
              "      <td>When it comes to your hair, you care the most ...</td>\n",
              "      <td>True</td>\n",
              "      <td>Smoothness</td>\n",
              "      <td>4443</td>\n",
              "      <td>Smoothness</td>\n",
              "      <td>Smoothness</td>\n",
              "      <td>[smooth, glossy, soft, shiny]</td>\n",
              "    </tr>\n",
              "    <tr>\n",
              "      <th>13</th>\n",
              "      <td>3034</td>\n",
              "      <td>When it comes to your hair, you care the most ...</td>\n",
              "      <td>When it comes to your hair, you care the most ...</td>\n",
              "      <td>True</td>\n",
              "      <td>Shine</td>\n",
              "      <td>4444</td>\n",
              "      <td>Shine</td>\n",
              "      <td>Shine</td>\n",
              "      <td>[smooth, glossy, soft, shiny, shine]</td>\n",
              "    </tr>\n",
              "    <tr>\n",
              "      <th>14</th>\n",
              "      <td>3034</td>\n",
              "      <td>When it comes to your hair, you care the most ...</td>\n",
              "      <td>When it comes to your hair, you care the most ...</td>\n",
              "      <td>True</td>\n",
              "      <td>Clean &amp; Refresh</td>\n",
              "      <td>4445</td>\n",
              "      <td>Clean &amp; Refresh</td>\n",
              "      <td>Clean &amp; Refresh</td>\n",
              "      <td>[cddcd]</td>\n",
              "    </tr>\n",
              "    <tr>\n",
              "      <th>15</th>\n",
              "      <td>3034</td>\n",
              "      <td>When it comes to your hair, you care the most ...</td>\n",
              "      <td>When it comes to your hair, you care the most ...</td>\n",
              "      <td>True</td>\n",
              "      <td>Curl Definition</td>\n",
              "      <td>4446</td>\n",
              "      <td>Curl Definition</td>\n",
              "      <td>Curl Definition</td>\n",
              "      <td>[curl, defined, curly, wavy, messy, shape]</td>\n",
              "    </tr>\n",
              "    <tr>\n",
              "      <th>16</th>\n",
              "      <td>3034</td>\n",
              "      <td>When it comes to your hair, you care the most ...</td>\n",
              "      <td>When it comes to your hair, you care the most ...</td>\n",
              "      <td>True</td>\n",
              "      <td>Strength</td>\n",
              "      <td>4447</td>\n",
              "      <td>Strength</td>\n",
              "      <td>Strength</td>\n",
              "      <td>[strength, dull, weak, thick]</td>\n",
              "    </tr>\n",
              "    <tr>\n",
              "      <th>17</th>\n",
              "      <td>3034</td>\n",
              "      <td>When it comes to your hair, you care the most ...</td>\n",
              "      <td>When it comes to your hair, you care the most ...</td>\n",
              "      <td>True</td>\n",
              "      <td>Preventing Frizz</td>\n",
              "      <td>4448</td>\n",
              "      <td>Preventing Frizz</td>\n",
              "      <td>Preventing Frizz</td>\n",
              "      <td>[frizz, detangle, frizz-free, damage, heat]</td>\n",
              "    </tr>\n",
              "    <tr>\n",
              "      <th>18</th>\n",
              "      <td>3034</td>\n",
              "      <td>When it comes to your hair, you care the most ...</td>\n",
              "      <td>When it comes to your hair, you care the most ...</td>\n",
              "      <td>True</td>\n",
              "      <td>Repair</td>\n",
              "      <td>4449</td>\n",
              "      <td>Repair</td>\n",
              "      <td>Repair</td>\n",
              "      <td>[repair, damage, heat, dull, weak, strength, n...</td>\n",
              "    </tr>\n",
              "    <tr>\n",
              "      <th>19</th>\n",
              "      <td>3034</td>\n",
              "      <td>When it comes to your hair, you care the most ...</td>\n",
              "      <td>When it comes to your hair, you care the most ...</td>\n",
              "      <td>True</td>\n",
              "      <td>Colour Protection</td>\n",
              "      <td>44450</td>\n",
              "      <td>Colour Protection</td>\n",
              "      <td>Colour Protection</td>\n",
              "      <td>[colour, damage, dull, dry, rough, color]</td>\n",
              "    </tr>\n",
              "  </tbody>\n",
              "</table>\n",
              "</div>\n",
              "      <button class=\"colab-df-convert\" onclick=\"convertToInteractive('df-1635ce49-0a36-4ebf-b097-3d014c11e1f6')\"\n",
              "              title=\"Convert this dataframe to an interactive table.\"\n",
              "              style=\"display:none;\">\n",
              "        \n",
              "  <svg xmlns=\"http://www.w3.org/2000/svg\" height=\"24px\"viewBox=\"0 0 24 24\"\n",
              "       width=\"24px\">\n",
              "    <path d=\"M0 0h24v24H0V0z\" fill=\"none\"/>\n",
              "    <path d=\"M18.56 5.44l.94 2.06.94-2.06 2.06-.94-2.06-.94-.94-2.06-.94 2.06-2.06.94zm-11 1L8.5 8.5l.94-2.06 2.06-.94-2.06-.94L8.5 2.5l-.94 2.06-2.06.94zm10 10l.94 2.06.94-2.06 2.06-.94-2.06-.94-.94-2.06-.94 2.06-2.06.94z\"/><path d=\"M17.41 7.96l-1.37-1.37c-.4-.4-.92-.59-1.43-.59-.52 0-1.04.2-1.43.59L10.3 9.45l-7.72 7.72c-.78.78-.78 2.05 0 2.83L4 21.41c.39.39.9.59 1.41.59.51 0 1.02-.2 1.41-.59l7.78-7.78 2.81-2.81c.8-.78.8-2.07 0-2.86zM5.41 20L4 18.59l7.72-7.72 1.47 1.35L5.41 20z\"/>\n",
              "  </svg>\n",
              "      </button>\n",
              "      \n",
              "  <style>\n",
              "    .colab-df-container {\n",
              "      display:flex;\n",
              "      flex-wrap:wrap;\n",
              "      gap: 12px;\n",
              "    }\n",
              "\n",
              "    .colab-df-convert {\n",
              "      background-color: #E8F0FE;\n",
              "      border: none;\n",
              "      border-radius: 50%;\n",
              "      cursor: pointer;\n",
              "      display: none;\n",
              "      fill: #1967D2;\n",
              "      height: 32px;\n",
              "      padding: 0 0 0 0;\n",
              "      width: 32px;\n",
              "    }\n",
              "\n",
              "    .colab-df-convert:hover {\n",
              "      background-color: #E2EBFA;\n",
              "      box-shadow: 0px 1px 2px rgba(60, 64, 67, 0.3), 0px 1px 3px 1px rgba(60, 64, 67, 0.15);\n",
              "      fill: #174EA6;\n",
              "    }\n",
              "\n",
              "    [theme=dark] .colab-df-convert {\n",
              "      background-color: #3B4455;\n",
              "      fill: #D2E3FC;\n",
              "    }\n",
              "\n",
              "    [theme=dark] .colab-df-convert:hover {\n",
              "      background-color: #434B5C;\n",
              "      box-shadow: 0px 1px 3px 1px rgba(0, 0, 0, 0.15);\n",
              "      filter: drop-shadow(0px 1px 2px rgba(0, 0, 0, 0.3));\n",
              "      fill: #FFFFFF;\n",
              "    }\n",
              "  </style>\n",
              "\n",
              "      <script>\n",
              "        const buttonEl =\n",
              "          document.querySelector('#df-1635ce49-0a36-4ebf-b097-3d014c11e1f6 button.colab-df-convert');\n",
              "        buttonEl.style.display =\n",
              "          google.colab.kernel.accessAllowed ? 'block' : 'none';\n",
              "\n",
              "        async function convertToInteractive(key) {\n",
              "          const element = document.querySelector('#df-1635ce49-0a36-4ebf-b097-3d014c11e1f6');\n",
              "          const dataTable =\n",
              "            await google.colab.kernel.invokeFunction('convertToInteractive',\n",
              "                                                     [key], {});\n",
              "          if (!dataTable) return;\n",
              "\n",
              "          const docLinkHtml = 'Like what you see? Visit the ' +\n",
              "            '<a target=\"_blank\" href=https://colab.research.google.com/notebooks/data_table.ipynb>data table notebook</a>'\n",
              "            + ' to learn more about interactive tables.';\n",
              "          element.innerHTML = '';\n",
              "          dataTable['output_type'] = 'display_data';\n",
              "          await google.colab.output.renderOutput(dataTable, element);\n",
              "          const docLink = document.createElement('div');\n",
              "          docLink.innerHTML = docLinkHtml;\n",
              "          element.appendChild(docLink);\n",
              "        }\n",
              "      </script>\n",
              "    </div>\n",
              "  </div>\n",
              "  "
            ]
          },
          "metadata": {},
          "execution_count": 30
        }
      ]
    },
    {
      "cell_type": "code",
      "source": [
        "df2.to_csv('question_response.csv')"
      ],
      "metadata": {
        "id": "kiF12c0xaZOL"
      },
      "execution_count": 31,
      "outputs": []
    },
    {
      "cell_type": "markdown",
      "source": [
        "Joining the 2 dataframes"
      ],
      "metadata": {
        "id": "-uLtivu1caZX"
      }
    },
    {
      "cell_type": "code",
      "source": [
        "df3=df1\n",
        "df4=df2"
      ],
      "metadata": {
        "id": "YgtG9iE-aZ_m"
      },
      "execution_count": 34,
      "outputs": []
    },
    {
      "cell_type": "code",
      "source": [
        "df3.query(\"select * from df3\")"
      ],
      "metadata": {
        "colab": {
          "base_uri": "https://localhost:8080/",
          "height": 686
        },
        "id": "X4hz_36caaCS",
        "outputId": "ae6ee9f2-3583-4994-86ab-058572dd0bde"
      },
      "execution_count": 45,
      "outputs": [
        {
          "output_type": "error",
          "ename": "SyntaxError",
          "evalue": "ignored",
          "traceback": [
            "Traceback \u001b[0;36m(most recent call last)\u001b[0m:\n",
            "  File \u001b[1;32m\"/usr/local/lib/python3.8/dist-packages/IPython/core/interactiveshell.py\"\u001b[0m, line \u001b[1;32m3326\u001b[0m, in \u001b[1;35mrun_code\u001b[0m\n    exec(code_obj, self.user_global_ns, self.user_ns)\n",
            "  File \u001b[1;32m\"<ipython-input-45-999dd82dff87>\"\u001b[0m, line \u001b[1;32m1\u001b[0m, in \u001b[1;35m<module>\u001b[0m\n    df3.query(\"select * from df3\")\n",
            "  File \u001b[1;32m\"/usr/local/lib/python3.8/dist-packages/pandas/core/frame.py\"\u001b[0m, line \u001b[1;32m4060\u001b[0m, in \u001b[1;35mquery\u001b[0m\n    res = self.eval(expr, **kwargs)\n",
            "  File \u001b[1;32m\"/usr/local/lib/python3.8/dist-packages/pandas/core/frame.py\"\u001b[0m, line \u001b[1;32m4191\u001b[0m, in \u001b[1;35meval\u001b[0m\n    return _eval(expr, inplace=inplace, **kwargs)\n",
            "  File \u001b[1;32m\"/usr/local/lib/python3.8/dist-packages/pandas/core/computation/eval.py\"\u001b[0m, line \u001b[1;32m348\u001b[0m, in \u001b[1;35meval\u001b[0m\n    parsed_expr = Expr(expr, engine=engine, parser=parser, env=env)\n",
            "  File \u001b[1;32m\"/usr/local/lib/python3.8/dist-packages/pandas/core/computation/expr.py\"\u001b[0m, line \u001b[1;32m806\u001b[0m, in \u001b[1;35m__init__\u001b[0m\n    self.terms = self.parse()\n",
            "  File \u001b[1;32m\"/usr/local/lib/python3.8/dist-packages/pandas/core/computation/expr.py\"\u001b[0m, line \u001b[1;32m825\u001b[0m, in \u001b[1;35mparse\u001b[0m\n    return self._visitor.visit(self.expr)\n",
            "  File \u001b[1;32m\"/usr/local/lib/python3.8/dist-packages/pandas/core/computation/expr.py\"\u001b[0m, line \u001b[1;32m407\u001b[0m, in \u001b[1;35mvisit\u001b[0m\n    raise e\n",
            "  File \u001b[1;32m\"/usr/local/lib/python3.8/dist-packages/pandas/core/computation/expr.py\"\u001b[0m, line \u001b[1;32m403\u001b[0m, in \u001b[1;35mvisit\u001b[0m\n    node = ast.fix_missing_locations(ast.parse(clean))\n",
            "\u001b[0;36m  File \u001b[0;32m\"/usr/lib/python3.8/ast.py\"\u001b[0;36m, line \u001b[0;32m47\u001b[0;36m, in \u001b[0;35mparse\u001b[0;36m\u001b[0m\n\u001b[0;31m    return compile(source, filename, mode, flags,\u001b[0m\n",
            "\u001b[0;36m  File \u001b[0;32m\"<unknown>\"\u001b[0;36m, line \u001b[0;32m1\u001b[0m\n\u001b[0;31m    select *from df3\u001b[0m\n\u001b[0m            ^\u001b[0m\n\u001b[0;31mSyntaxError\u001b[0m\u001b[0;31m:\u001b[0m invalid syntax\n"
          ]
        }
      ]
    },
    {
      "cell_type": "code",
      "source": [],
      "metadata": {
        "id": "j_EfEAoJaaE5"
      },
      "execution_count": null,
      "outputs": []
    },
    {
      "cell_type": "code",
      "source": [],
      "metadata": {
        "id": "s6Jmo0fTaaIY"
      },
      "execution_count": null,
      "outputs": []
    },
    {
      "cell_type": "code",
      "source": [
        "#df2.to_csv(\"CSV.csv\",index=False)\n",
        "df2.to_csv(\"file.csv\")\n",
        "result = pd.read_csv(\"file.csv\")\n",
        "print(result)"
      ],
      "metadata": {
        "colab": {
          "base_uri": "https://localhost:8080/"
        },
        "id": "NkGRuSztnnG0",
        "outputId": "54a00c8c-9977-42b5-a2e9-88ac4021ddf6"
      },
      "execution_count": 30,
      "outputs": [
        {
          "output_type": "stream",
          "name": "stdout",
          "text": [
            "   Unnamed: 0                                                Q&A\n",
            "0           0  {'questionId': '3031', 'questionText': 'How th...\n",
            "1           1  {'questionId': '3032', 'questionText': 'What i...\n",
            "2           2  {'questionId': '3033', 'questionText': 'What d...\n",
            "3           3  {'questionId': '3034', 'questionText': 'When i...\n"
          ]
        }
      ]
    },
    {
      "cell_type": "code",
      "source": [],
      "metadata": {
        "colab": {
          "base_uri": "https://localhost:8080/"
        },
        "id": "YybE0IG1o_Wl",
        "outputId": "433653e9-0aa4-4948-aa3f-b595348cbc9c"
      },
      "execution_count": 33,
      "outputs": [
        {
          "output_type": "stream",
          "name": "stdout",
          "text": [
            "                                                   0\n",
            "0  {'questionId': '3031', 'questionText': 'How th...\n",
            "1  {'questionId': '3032', 'questionText': 'What i...\n",
            "2  {'questionId': '3033', 'questionText': 'What d...\n",
            "3  {'questionId': '3034', 'questionText': 'When i...\n"
          ]
        }
      ]
    }
  ]
}