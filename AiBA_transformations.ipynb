{
  "nbformat": 4,
  "nbformat_minor": 0,
  "metadata": {
    "colab": {
      "provenance": [],
      "authorship_tag": "ABX9TyNCofGXv9GaD20n7Icdqm0X",
      "include_colab_link": true
    },
    "kernelspec": {
      "name": "python3",
      "display_name": "Python 3"
    },
    "language_info": {
      "name": "python"
    }
  },
  "cells": [
    {
      "cell_type": "markdown",
      "metadata": {
        "id": "view-in-github",
        "colab_type": "text"
      },
      "source": [
        "<a href=\"https://colab.research.google.com/github/shiv2022/elida_beauty_testing/blob/main/AiBA_transformations.ipynb\" target=\"_parent\"><img src=\"https://colab.research.google.com/assets/colab-badge.svg\" alt=\"Open In Colab\"/></a>"
      ]
    },
    {
      "cell_type": "code",
      "execution_count": 2,
      "metadata": {
        "id": "V0YPoIJrEV0d"
      },
      "outputs": [],
      "source": [
        "import numpy as np\n",
        "import pandas as pd\n",
        "import matplotlib.pyplot as plt\n",
        "import seaborn as sns\n",
        "import matplotlib\n",
        "%matplotlib inline\n",
        "import warnings\n",
        "warnings.filterwarnings(\"ignore\")\n"
      ]
    },
    {
      "cell_type": "code",
      "source": [
        "pd.set_option('display.max_rows', 500)\n",
        "pd.set_option('display.max_columns', 500)\n",
        "pd.set_option('display.width', 1000)\n",
        "pd.set_option('display.expand_frame_repr', False)"
      ],
      "metadata": {
        "id": "PI06yrPLOST-"
      },
      "execution_count": 3,
      "outputs": []
    },
    {
      "cell_type": "code",
      "source": [],
      "metadata": {
        "id": "jgCbwK-eN0H9"
      },
      "execution_count": 3,
      "outputs": []
    },
    {
      "cell_type": "code",
      "source": [],
      "metadata": {
        "id": "WVs1wCCUOgGe"
      },
      "execution_count": 3,
      "outputs": []
    },
    {
      "cell_type": "markdown",
      "source": [
        "Loading the csv file into dataframe"
      ],
      "metadata": {
        "id": "DnhAtr5MRrbg"
      }
    },
    {
      "cell_type": "code",
      "source": [
        "df1 = pd.read_csv('/content/elida_beauty_testing/elida_data.csv')\n",
        "print(df1)"
      ],
      "metadata": {
        "colab": {
          "base_uri": "https://localhost:8080/"
        },
        "id": "W-_QfiZfPLpf",
        "outputId": "8112b140-c2ee-4a7a-efae-becc790e5ae1"
      },
      "execution_count": 5,
      "outputs": [
        {
          "output_type": "stream",
          "name": "stdout",
          "text": [
            "                        Q1              Q2                                         Q3           Q4                                   P1                                        P2                                        P3                                    P4\n",
            "0     Fine, Medium, Thick   Straight/ Wavy                                  Hydration   Hair dryer  VO5 Hairdryer Protection Mist 200ml             Vo5 Serum Invisible Pump 50ml                                       NaN                                   NaN\n",
            "1     Fine, Medium, Thick   Straight/ Wavy                                     Volume   Hair dryer  VO5 Hairdryer Protection Mist 200ml   Vo5 Heat Protect Lot Spr Blow Dry 200ml          Vo5 Gel Spray Volume Boost 200ml                                   NaN\n",
            "2     Fine, Medium, Thick   Straight/ Wavy                                 Smoothness   Hair dryer  VO5 Hairdryer Protection Mist 200ml             Vo5 Serum Invisible Pump 50ml  V05 Taming Spray Heat Defence Aero 100ml        Vo5 Cream Frizzfree Tube 125ml\n",
            "3     Fine, Medium, Thick   Straight/ Wavy                                     Shine    Hair dryer  VO5 Hairdryer Protection Mist 200ml  V05 Taming Spray Heat Defence Aero 100ml                                       NaN                                   NaN\n",
            "4     Fine, Medium, Thick   Straight/ Wavy                            Curl Definition   Hair dryer  VO5 Hairdryer Protection Mist 200ml            Vo5 Cream Frizzfree Tube 125ml            Vo5 Mousse Curl Defining 200ml                                   NaN\n",
            "...                    ...             ...                                        ...          ...                                  ...                                       ...                                       ...                                   ...\n",
            "1784  Fine, Medium, Thick    Curly/ Coily             Repair ,Meduim Hold,Strong Hold  Air Drying            Vo5 Cream Curls Tube 125ml          Vo5 Wax Extreme Gel Wax Jar 75ml     VO5 Nourishing Coconut Hot Oil 4x15ml        Vo5 Wax Rework Putty Jar 150ml\n",
            "1785  Fine, Medium, Thick    Curly/ Coily    Colour Protection,Light Hold,Meduim Hold  Air Drying            Vo5 Cream Curls Tube 125ml     VO5 Nourishing Coconut Hot Oil 4x15ml              Vo5 Wax Surf Style Jar 150ml      Vo5 Wax Extreme Gel Wax Jar 75ml\n",
            "1786  Fine, Medium, Thick    Curly/ Coily    Colour Protection,Light Hold,Strong Hold  Air Drying            Vo5 Cream Curls Tube 125ml     VO5 Nourishing Coconut Hot Oil 4x15ml   Vo5 Paste Extreme Style Matt Pump 100ml  Vo5 Paste Extreme Matt Clay Tin 75ml\n",
            "1787  Fine, Medium, Thick    Curly/ Coily   Colour Protection,Meduim Hold,Strong Hold  Air Drying            Vo5 Cream Curls Tube 125ml                  Vo5 Wax Styling Jar 75ml     VO5 Nourishing Coconut Hot Oil 4x15ml        Vo5 Wax Rework Putty Jar 150ml\n",
            "1788  Fine, Medium, Thick    Curly/ Coily          Light Hold,Meduim Hold,Strong Hold  Air Drying            Vo5 Cream Curls Tube 125ml            Vo5 Wax Rework Putty Jar 150ml      Vo5 Paste Extreme Matt Clay Tin 75ml              Vo5 Matt Hair Fibre 75ml\n",
            "\n",
            "[1789 rows x 8 columns]\n"
          ]
        }
      ]
    },
    {
      "cell_type": "code",
      "source": [
        "df1"
      ],
      "metadata": {
        "colab": {
          "base_uri": "https://localhost:8080/",
          "height": 867
        },
        "id": "srtzayMVSphK",
        "outputId": "b13e4981-e5dd-4c69-b12e-9284d46733ed"
      },
      "execution_count": 6,
      "outputs": [
        {
          "output_type": "execute_result",
          "data": {
            "text/plain": [
              "                        Q1              Q2                                         Q3           Q4                                   P1                                        P2                                        P3                                    P4\n",
              "0     Fine, Medium, Thick   Straight/ Wavy                                  Hydration   Hair dryer  VO5 Hairdryer Protection Mist 200ml             Vo5 Serum Invisible Pump 50ml                                       NaN                                   NaN\n",
              "1     Fine, Medium, Thick   Straight/ Wavy                                     Volume   Hair dryer  VO5 Hairdryer Protection Mist 200ml   Vo5 Heat Protect Lot Spr Blow Dry 200ml          Vo5 Gel Spray Volume Boost 200ml                                   NaN\n",
              "2     Fine, Medium, Thick   Straight/ Wavy                                 Smoothness   Hair dryer  VO5 Hairdryer Protection Mist 200ml             Vo5 Serum Invisible Pump 50ml  V05 Taming Spray Heat Defence Aero 100ml        Vo5 Cream Frizzfree Tube 125ml\n",
              "3     Fine, Medium, Thick   Straight/ Wavy                                     Shine    Hair dryer  VO5 Hairdryer Protection Mist 200ml  V05 Taming Spray Heat Defence Aero 100ml                                       NaN                                   NaN\n",
              "4     Fine, Medium, Thick   Straight/ Wavy                            Curl Definition   Hair dryer  VO5 Hairdryer Protection Mist 200ml            Vo5 Cream Frizzfree Tube 125ml            Vo5 Mousse Curl Defining 200ml                                   NaN\n",
              "...                    ...             ...                                        ...          ...                                  ...                                       ...                                       ...                                   ...\n",
              "1784  Fine, Medium, Thick    Curly/ Coily             Repair ,Meduim Hold,Strong Hold  Air Drying            Vo5 Cream Curls Tube 125ml          Vo5 Wax Extreme Gel Wax Jar 75ml     VO5 Nourishing Coconut Hot Oil 4x15ml        Vo5 Wax Rework Putty Jar 150ml\n",
              "1785  Fine, Medium, Thick    Curly/ Coily    Colour Protection,Light Hold,Meduim Hold  Air Drying            Vo5 Cream Curls Tube 125ml     VO5 Nourishing Coconut Hot Oil 4x15ml              Vo5 Wax Surf Style Jar 150ml      Vo5 Wax Extreme Gel Wax Jar 75ml\n",
              "1786  Fine, Medium, Thick    Curly/ Coily    Colour Protection,Light Hold,Strong Hold  Air Drying            Vo5 Cream Curls Tube 125ml     VO5 Nourishing Coconut Hot Oil 4x15ml   Vo5 Paste Extreme Style Matt Pump 100ml  Vo5 Paste Extreme Matt Clay Tin 75ml\n",
              "1787  Fine, Medium, Thick    Curly/ Coily   Colour Protection,Meduim Hold,Strong Hold  Air Drying            Vo5 Cream Curls Tube 125ml                  Vo5 Wax Styling Jar 75ml     VO5 Nourishing Coconut Hot Oil 4x15ml        Vo5 Wax Rework Putty Jar 150ml\n",
              "1788  Fine, Medium, Thick    Curly/ Coily          Light Hold,Meduim Hold,Strong Hold  Air Drying            Vo5 Cream Curls Tube 125ml            Vo5 Wax Rework Putty Jar 150ml      Vo5 Paste Extreme Matt Clay Tin 75ml              Vo5 Matt Hair Fibre 75ml\n",
              "\n",
              "[1789 rows x 8 columns]"
            ],
            "text/html": [
              "\n",
              "  <div id=\"df-ea307cfd-876f-4f58-b239-7cc9c1937f1f\">\n",
              "    <div class=\"colab-df-container\">\n",
              "      <div>\n",
              "<style scoped>\n",
              "    .dataframe tbody tr th:only-of-type {\n",
              "        vertical-align: middle;\n",
              "    }\n",
              "\n",
              "    .dataframe tbody tr th {\n",
              "        vertical-align: top;\n",
              "    }\n",
              "\n",
              "    .dataframe thead th {\n",
              "        text-align: right;\n",
              "    }\n",
              "</style>\n",
              "<table border=\"1\" class=\"dataframe\">\n",
              "  <thead>\n",
              "    <tr style=\"text-align: right;\">\n",
              "      <th></th>\n",
              "      <th>Q1</th>\n",
              "      <th>Q2</th>\n",
              "      <th>Q3</th>\n",
              "      <th>Q4</th>\n",
              "      <th>P1</th>\n",
              "      <th>P2</th>\n",
              "      <th>P3</th>\n",
              "      <th>P4</th>\n",
              "    </tr>\n",
              "  </thead>\n",
              "  <tbody>\n",
              "    <tr>\n",
              "      <th>0</th>\n",
              "      <td>Fine, Medium, Thick</td>\n",
              "      <td>Straight/ Wavy</td>\n",
              "      <td>Hydration</td>\n",
              "      <td>Hair dryer</td>\n",
              "      <td>VO5 Hairdryer Protection Mist 200ml</td>\n",
              "      <td>Vo5 Serum Invisible Pump 50ml</td>\n",
              "      <td>NaN</td>\n",
              "      <td>NaN</td>\n",
              "    </tr>\n",
              "    <tr>\n",
              "      <th>1</th>\n",
              "      <td>Fine, Medium, Thick</td>\n",
              "      <td>Straight/ Wavy</td>\n",
              "      <td>Volume</td>\n",
              "      <td>Hair dryer</td>\n",
              "      <td>VO5 Hairdryer Protection Mist 200ml</td>\n",
              "      <td>Vo5 Heat Protect Lot Spr Blow Dry 200ml</td>\n",
              "      <td>Vo5 Gel Spray Volume Boost 200ml</td>\n",
              "      <td>NaN</td>\n",
              "    </tr>\n",
              "    <tr>\n",
              "      <th>2</th>\n",
              "      <td>Fine, Medium, Thick</td>\n",
              "      <td>Straight/ Wavy</td>\n",
              "      <td>Smoothness</td>\n",
              "      <td>Hair dryer</td>\n",
              "      <td>VO5 Hairdryer Protection Mist 200ml</td>\n",
              "      <td>Vo5 Serum Invisible Pump 50ml</td>\n",
              "      <td>V05 Taming Spray Heat Defence Aero 100ml</td>\n",
              "      <td>Vo5 Cream Frizzfree Tube 125ml</td>\n",
              "    </tr>\n",
              "    <tr>\n",
              "      <th>3</th>\n",
              "      <td>Fine, Medium, Thick</td>\n",
              "      <td>Straight/ Wavy</td>\n",
              "      <td>Shine</td>\n",
              "      <td>Hair dryer</td>\n",
              "      <td>VO5 Hairdryer Protection Mist 200ml</td>\n",
              "      <td>V05 Taming Spray Heat Defence Aero 100ml</td>\n",
              "      <td>NaN</td>\n",
              "      <td>NaN</td>\n",
              "    </tr>\n",
              "    <tr>\n",
              "      <th>4</th>\n",
              "      <td>Fine, Medium, Thick</td>\n",
              "      <td>Straight/ Wavy</td>\n",
              "      <td>Curl Definition</td>\n",
              "      <td>Hair dryer</td>\n",
              "      <td>VO5 Hairdryer Protection Mist 200ml</td>\n",
              "      <td>Vo5 Cream Frizzfree Tube 125ml</td>\n",
              "      <td>Vo5 Mousse Curl Defining 200ml</td>\n",
              "      <td>NaN</td>\n",
              "    </tr>\n",
              "    <tr>\n",
              "      <th>...</th>\n",
              "      <td>...</td>\n",
              "      <td>...</td>\n",
              "      <td>...</td>\n",
              "      <td>...</td>\n",
              "      <td>...</td>\n",
              "      <td>...</td>\n",
              "      <td>...</td>\n",
              "      <td>...</td>\n",
              "    </tr>\n",
              "    <tr>\n",
              "      <th>1784</th>\n",
              "      <td>Fine, Medium, Thick</td>\n",
              "      <td>Curly/ Coily</td>\n",
              "      <td>Repair ,Meduim Hold,Strong Hold</td>\n",
              "      <td>Air Drying</td>\n",
              "      <td>Vo5 Cream Curls Tube 125ml</td>\n",
              "      <td>Vo5 Wax Extreme Gel Wax Jar 75ml</td>\n",
              "      <td>VO5 Nourishing Coconut Hot Oil 4x15ml</td>\n",
              "      <td>Vo5 Wax Rework Putty Jar 150ml</td>\n",
              "    </tr>\n",
              "    <tr>\n",
              "      <th>1785</th>\n",
              "      <td>Fine, Medium, Thick</td>\n",
              "      <td>Curly/ Coily</td>\n",
              "      <td>Colour Protection,Light Hold,Meduim Hold</td>\n",
              "      <td>Air Drying</td>\n",
              "      <td>Vo5 Cream Curls Tube 125ml</td>\n",
              "      <td>VO5 Nourishing Coconut Hot Oil 4x15ml</td>\n",
              "      <td>Vo5 Wax Surf Style Jar 150ml</td>\n",
              "      <td>Vo5 Wax Extreme Gel Wax Jar 75ml</td>\n",
              "    </tr>\n",
              "    <tr>\n",
              "      <th>1786</th>\n",
              "      <td>Fine, Medium, Thick</td>\n",
              "      <td>Curly/ Coily</td>\n",
              "      <td>Colour Protection,Light Hold,Strong Hold</td>\n",
              "      <td>Air Drying</td>\n",
              "      <td>Vo5 Cream Curls Tube 125ml</td>\n",
              "      <td>VO5 Nourishing Coconut Hot Oil 4x15ml</td>\n",
              "      <td>Vo5 Paste Extreme Style Matt Pump 100ml</td>\n",
              "      <td>Vo5 Paste Extreme Matt Clay Tin 75ml</td>\n",
              "    </tr>\n",
              "    <tr>\n",
              "      <th>1787</th>\n",
              "      <td>Fine, Medium, Thick</td>\n",
              "      <td>Curly/ Coily</td>\n",
              "      <td>Colour Protection,Meduim Hold,Strong Hold</td>\n",
              "      <td>Air Drying</td>\n",
              "      <td>Vo5 Cream Curls Tube 125ml</td>\n",
              "      <td>Vo5 Wax Styling Jar 75ml</td>\n",
              "      <td>VO5 Nourishing Coconut Hot Oil 4x15ml</td>\n",
              "      <td>Vo5 Wax Rework Putty Jar 150ml</td>\n",
              "    </tr>\n",
              "    <tr>\n",
              "      <th>1788</th>\n",
              "      <td>Fine, Medium, Thick</td>\n",
              "      <td>Curly/ Coily</td>\n",
              "      <td>Light Hold,Meduim Hold,Strong Hold</td>\n",
              "      <td>Air Drying</td>\n",
              "      <td>Vo5 Cream Curls Tube 125ml</td>\n",
              "      <td>Vo5 Wax Rework Putty Jar 150ml</td>\n",
              "      <td>Vo5 Paste Extreme Matt Clay Tin 75ml</td>\n",
              "      <td>Vo5 Matt Hair Fibre 75ml</td>\n",
              "    </tr>\n",
              "  </tbody>\n",
              "</table>\n",
              "<p>1789 rows × 8 columns</p>\n",
              "</div>\n",
              "      <button class=\"colab-df-convert\" onclick=\"convertToInteractive('df-ea307cfd-876f-4f58-b239-7cc9c1937f1f')\"\n",
              "              title=\"Convert this dataframe to an interactive table.\"\n",
              "              style=\"display:none;\">\n",
              "        \n",
              "  <svg xmlns=\"http://www.w3.org/2000/svg\" height=\"24px\"viewBox=\"0 0 24 24\"\n",
              "       width=\"24px\">\n",
              "    <path d=\"M0 0h24v24H0V0z\" fill=\"none\"/>\n",
              "    <path d=\"M18.56 5.44l.94 2.06.94-2.06 2.06-.94-2.06-.94-.94-2.06-.94 2.06-2.06.94zm-11 1L8.5 8.5l.94-2.06 2.06-.94-2.06-.94L8.5 2.5l-.94 2.06-2.06.94zm10 10l.94 2.06.94-2.06 2.06-.94-2.06-.94-.94-2.06-.94 2.06-2.06.94z\"/><path d=\"M17.41 7.96l-1.37-1.37c-.4-.4-.92-.59-1.43-.59-.52 0-1.04.2-1.43.59L10.3 9.45l-7.72 7.72c-.78.78-.78 2.05 0 2.83L4 21.41c.39.39.9.59 1.41.59.51 0 1.02-.2 1.41-.59l7.78-7.78 2.81-2.81c.8-.78.8-2.07 0-2.86zM5.41 20L4 18.59l7.72-7.72 1.47 1.35L5.41 20z\"/>\n",
              "  </svg>\n",
              "      </button>\n",
              "      \n",
              "  <style>\n",
              "    .colab-df-container {\n",
              "      display:flex;\n",
              "      flex-wrap:wrap;\n",
              "      gap: 12px;\n",
              "    }\n",
              "\n",
              "    .colab-df-convert {\n",
              "      background-color: #E8F0FE;\n",
              "      border: none;\n",
              "      border-radius: 50%;\n",
              "      cursor: pointer;\n",
              "      display: none;\n",
              "      fill: #1967D2;\n",
              "      height: 32px;\n",
              "      padding: 0 0 0 0;\n",
              "      width: 32px;\n",
              "    }\n",
              "\n",
              "    .colab-df-convert:hover {\n",
              "      background-color: #E2EBFA;\n",
              "      box-shadow: 0px 1px 2px rgba(60, 64, 67, 0.3), 0px 1px 3px 1px rgba(60, 64, 67, 0.15);\n",
              "      fill: #174EA6;\n",
              "    }\n",
              "\n",
              "    [theme=dark] .colab-df-convert {\n",
              "      background-color: #3B4455;\n",
              "      fill: #D2E3FC;\n",
              "    }\n",
              "\n",
              "    [theme=dark] .colab-df-convert:hover {\n",
              "      background-color: #434B5C;\n",
              "      box-shadow: 0px 1px 3px 1px rgba(0, 0, 0, 0.15);\n",
              "      filter: drop-shadow(0px 1px 2px rgba(0, 0, 0, 0.3));\n",
              "      fill: #FFFFFF;\n",
              "    }\n",
              "  </style>\n",
              "\n",
              "      <script>\n",
              "        const buttonEl =\n",
              "          document.querySelector('#df-ea307cfd-876f-4f58-b239-7cc9c1937f1f button.colab-df-convert');\n",
              "        buttonEl.style.display =\n",
              "          google.colab.kernel.accessAllowed ? 'block' : 'none';\n",
              "\n",
              "        async function convertToInteractive(key) {\n",
              "          const element = document.querySelector('#df-ea307cfd-876f-4f58-b239-7cc9c1937f1f');\n",
              "          const dataTable =\n",
              "            await google.colab.kernel.invokeFunction('convertToInteractive',\n",
              "                                                     [key], {});\n",
              "          if (!dataTable) return;\n",
              "\n",
              "          const docLinkHtml = 'Like what you see? Visit the ' +\n",
              "            '<a target=\"_blank\" href=https://colab.research.google.com/notebooks/data_table.ipynb>data table notebook</a>'\n",
              "            + ' to learn more about interactive tables.';\n",
              "          element.innerHTML = '';\n",
              "          dataTable['output_type'] = 'display_data';\n",
              "          await google.colab.output.renderOutput(dataTable, element);\n",
              "          const docLink = document.createElement('div');\n",
              "          docLink.innerHTML = docLinkHtml;\n",
              "          element.appendChild(docLink);\n",
              "        }\n",
              "      </script>\n",
              "    </div>\n",
              "  </div>\n",
              "  "
            ]
          },
          "metadata": {},
          "execution_count": 6
        }
      ]
    },
    {
      "cell_type": "code",
      "source": [
        "\t\n",
        "df1=df1.assign(Q1=df1.Q1.str.split(\", \")).explode('Q1')\n",
        "\t\n",
        "df1=df1.assign(Q2=df1.Q2.str.split(\"/ \")).explode('Q2')\n",
        "\t\n",
        "df1=df1.assign(Q3=df1.Q3.str.split(\",\")).explode('Q3')\n",
        "\t\n",
        "df1=df1.assign(Q4=df1.Q4.str.split(\"/ \")).explode('Q4')"
      ],
      "metadata": {
        "id": "Z8X9eTMCPdH0"
      },
      "execution_count": 7,
      "outputs": []
    },
    {
      "cell_type": "code",
      "source": [
        "print(df1)"
      ],
      "metadata": {
        "colab": {
          "base_uri": "https://localhost:8080/"
        },
        "id": "SamgXDg5RbJF",
        "outputId": "dc846d42-431d-44ef-96e3-70df582751fd"
      },
      "execution_count": 17,
      "outputs": [
        {
          "output_type": "stream",
          "name": "stdout",
          "text": [
            "          Q1        Q2           Q3           Q4                                   P1                              P2                                    P3                        P4\n",
            "0       Fine  Straight    Hydration   Hair dryer  VO5 Hairdryer Protection Mist 200ml   Vo5 Serum Invisible Pump 50ml                                   NaN                       NaN\n",
            "0       Fine      Wavy    Hydration   Hair dryer  VO5 Hairdryer Protection Mist 200ml   Vo5 Serum Invisible Pump 50ml                                   NaN                       NaN\n",
            "0     Medium  Straight    Hydration   Hair dryer  VO5 Hairdryer Protection Mist 200ml   Vo5 Serum Invisible Pump 50ml                                   NaN                       NaN\n",
            "0     Medium      Wavy    Hydration   Hair dryer  VO5 Hairdryer Protection Mist 200ml   Vo5 Serum Invisible Pump 50ml                                   NaN                       NaN\n",
            "0     Thick   Straight    Hydration   Hair dryer  VO5 Hairdryer Protection Mist 200ml   Vo5 Serum Invisible Pump 50ml                                   NaN                       NaN\n",
            "...      ...       ...          ...          ...                                  ...                             ...                                   ...                       ...\n",
            "1788  Thick      Curly  Meduim Hold  Air Drying            Vo5 Cream Curls Tube 125ml  Vo5 Wax Rework Putty Jar 150ml  Vo5 Paste Extreme Matt Clay Tin 75ml  Vo5 Matt Hair Fibre 75ml\n",
            "1788  Thick      Curly  Strong Hold  Air Drying            Vo5 Cream Curls Tube 125ml  Vo5 Wax Rework Putty Jar 150ml  Vo5 Paste Extreme Matt Clay Tin 75ml  Vo5 Matt Hair Fibre 75ml\n",
            "1788  Thick     Coily    Light Hold  Air Drying            Vo5 Cream Curls Tube 125ml  Vo5 Wax Rework Putty Jar 150ml  Vo5 Paste Extreme Matt Clay Tin 75ml  Vo5 Matt Hair Fibre 75ml\n",
            "1788  Thick     Coily   Meduim Hold  Air Drying            Vo5 Cream Curls Tube 125ml  Vo5 Wax Rework Putty Jar 150ml  Vo5 Paste Extreme Matt Clay Tin 75ml  Vo5 Matt Hair Fibre 75ml\n",
            "1788  Thick     Coily   Strong Hold  Air Drying            Vo5 Cream Curls Tube 125ml  Vo5 Wax Rework Putty Jar 150ml  Vo5 Paste Extreme Matt Clay Tin 75ml  Vo5 Matt Hair Fibre 75ml\n",
            "\n",
            "[38610 rows x 8 columns]\n"
          ]
        }
      ]
    },
    {
      "cell_type": "markdown",
      "source": [
        "Loading the json file and creating a dataframe"
      ],
      "metadata": {
        "id": "1qCKv7WpniSF"
      }
    },
    {
      "cell_type": "code",
      "source": [
        "df2 = pd.read_json('/content/elida_beauty_testing/question_response.json')\n",
        "df2"
      ],
      "metadata": {
        "colab": {
          "base_uri": "https://localhost:8080/",
          "height": 870
        },
        "id": "znU-__tLwbVf",
        "outputId": "bb303220-e049-4d1f-b210-579d8fd43962"
      },
      "execution_count": 23,
      "outputs": [
        {
          "output_type": "execute_result",
          "data": {
            "text/plain": [
              "                                                 Q&A\n",
              "0  {'questionId': '3031', 'questionText': 'How th...\n",
              "1  {'questionId': '3032', 'questionText': 'What i...\n",
              "2  {'questionId': '3033', 'questionText': 'What d...\n",
              "3  {'questionId': '3034', 'questionText': 'When i..."
            ],
            "text/html": [
              "\n",
              "  <div id=\"df-43b64f5f-3e9f-4aa1-a5e6-6cb157924600\">\n",
              "    <div class=\"colab-df-container\">\n",
              "      <div>\n",
              "<style scoped>\n",
              "    .dataframe tbody tr th:only-of-type {\n",
              "        vertical-align: middle;\n",
              "    }\n",
              "\n",
              "    .dataframe tbody tr th {\n",
              "        vertical-align: top;\n",
              "    }\n",
              "\n",
              "    .dataframe thead th {\n",
              "        text-align: right;\n",
              "    }\n",
              "</style>\n",
              "<table border=\"1\" class=\"dataframe\">\n",
              "  <thead>\n",
              "    <tr style=\"text-align: right;\">\n",
              "      <th></th>\n",
              "      <th>Q&amp;A</th>\n",
              "    </tr>\n",
              "  </thead>\n",
              "  <tbody>\n",
              "    <tr>\n",
              "      <th>0</th>\n",
              "      <td>{'questionId': '3031', 'questionText': 'How th...</td>\n",
              "    </tr>\n",
              "    <tr>\n",
              "      <th>1</th>\n",
              "      <td>{'questionId': '3032', 'questionText': 'What i...</td>\n",
              "    </tr>\n",
              "    <tr>\n",
              "      <th>2</th>\n",
              "      <td>{'questionId': '3033', 'questionText': 'What d...</td>\n",
              "    </tr>\n",
              "    <tr>\n",
              "      <th>3</th>\n",
              "      <td>{'questionId': '3034', 'questionText': 'When i...</td>\n",
              "    </tr>\n",
              "  </tbody>\n",
              "</table>\n",
              "</div>\n",
              "      <button class=\"colab-df-convert\" onclick=\"convertToInteractive('df-43b64f5f-3e9f-4aa1-a5e6-6cb157924600')\"\n",
              "              title=\"Convert this dataframe to an interactive table.\"\n",
              "              style=\"display:none;\">\n",
              "        \n",
              "  <svg xmlns=\"http://www.w3.org/2000/svg\" height=\"24px\"viewBox=\"0 0 24 24\"\n",
              "       width=\"24px\">\n",
              "    <path d=\"M0 0h24v24H0V0z\" fill=\"none\"/>\n",
              "    <path d=\"M18.56 5.44l.94 2.06.94-2.06 2.06-.94-2.06-.94-.94-2.06-.94 2.06-2.06.94zm-11 1L8.5 8.5l.94-2.06 2.06-.94-2.06-.94L8.5 2.5l-.94 2.06-2.06.94zm10 10l.94 2.06.94-2.06 2.06-.94-2.06-.94-.94-2.06-.94 2.06-2.06.94z\"/><path d=\"M17.41 7.96l-1.37-1.37c-.4-.4-.92-.59-1.43-.59-.52 0-1.04.2-1.43.59L10.3 9.45l-7.72 7.72c-.78.78-.78 2.05 0 2.83L4 21.41c.39.39.9.59 1.41.59.51 0 1.02-.2 1.41-.59l7.78-7.78 2.81-2.81c.8-.78.8-2.07 0-2.86zM5.41 20L4 18.59l7.72-7.72 1.47 1.35L5.41 20z\"/>\n",
              "  </svg>\n",
              "      </button>\n",
              "      \n",
              "  <style>\n",
              "    .colab-df-container {\n",
              "      display:flex;\n",
              "      flex-wrap:wrap;\n",
              "      gap: 12px;\n",
              "    }\n",
              "\n",
              "    .colab-df-convert {\n",
              "      background-color: #E8F0FE;\n",
              "      border: none;\n",
              "      border-radius: 50%;\n",
              "      cursor: pointer;\n",
              "      display: none;\n",
              "      fill: #1967D2;\n",
              "      height: 32px;\n",
              "      padding: 0 0 0 0;\n",
              "      width: 32px;\n",
              "    }\n",
              "\n",
              "    .colab-df-convert:hover {\n",
              "      background-color: #E2EBFA;\n",
              "      box-shadow: 0px 1px 2px rgba(60, 64, 67, 0.3), 0px 1px 3px 1px rgba(60, 64, 67, 0.15);\n",
              "      fill: #174EA6;\n",
              "    }\n",
              "\n",
              "    [theme=dark] .colab-df-convert {\n",
              "      background-color: #3B4455;\n",
              "      fill: #D2E3FC;\n",
              "    }\n",
              "\n",
              "    [theme=dark] .colab-df-convert:hover {\n",
              "      background-color: #434B5C;\n",
              "      box-shadow: 0px 1px 3px 1px rgba(0, 0, 0, 0.15);\n",
              "      filter: drop-shadow(0px 1px 2px rgba(0, 0, 0, 0.3));\n",
              "      fill: #FFFFFF;\n",
              "    }\n",
              "  </style>\n",
              "\n",
              "      <script>\n",
              "        const buttonEl =\n",
              "          document.querySelector('#df-43b64f5f-3e9f-4aa1-a5e6-6cb157924600 button.colab-df-convert');\n",
              "        buttonEl.style.display =\n",
              "          google.colab.kernel.accessAllowed ? 'block' : 'none';\n",
              "\n",
              "        async function convertToInteractive(key) {\n",
              "          const element = document.querySelector('#df-43b64f5f-3e9f-4aa1-a5e6-6cb157924600');\n",
              "          const dataTable =\n",
              "            await google.colab.kernel.invokeFunction('convertToInteractive',\n",
              "                                                     [key], {});\n",
              "          if (!dataTable) return;\n",
              "\n",
              "          const docLinkHtml = 'Like what you see? Visit the ' +\n",
              "            '<a target=\"_blank\" href=https://colab.research.google.com/notebooks/data_table.ipynb>data table notebook</a>'\n",
              "            + ' to learn more about interactive tables.';\n",
              "          element.innerHTML = '';\n",
              "          dataTable['output_type'] = 'display_data';\n",
              "          await google.colab.output.renderOutput(dataTable, element);\n",
              "          const docLink = document.createElement('div');\n",
              "          docLink.innerHTML = docLinkHtml;\n",
              "          element.appendChild(docLink);\n",
              "        }\n",
              "      </script>\n",
              "    </div>\n",
              "  </div>\n",
              "  "
            ]
          },
          "metadata": {},
          "execution_count": 23
        }
      ]
    },
    {
      "cell_type": "code",
      "source": [
        "type(df2)"
      ],
      "metadata": {
        "colab": {
          "base_uri": "https://localhost:8080/"
        },
        "id": "e-2nhHFNspp2",
        "outputId": "b09eedbd-a130-48bf-abc4-cb53986a8f25"
      },
      "execution_count": 24,
      "outputs": [
        {
          "output_type": "execute_result",
          "data": {
            "text/plain": [
              "pandas.core.frame.DataFrame"
            ]
          },
          "metadata": {},
          "execution_count": 24
        }
      ]
    },
    {
      "cell_type": "code",
      "source": [
        "#df2.to_csv(\"CSV.csv\",index=False)\n",
        "df2.to_csv(\"file.csv\")\n",
        "result = pd.read_csv(\"file.csv\")\n",
        "print(result)"
      ],
      "metadata": {
        "colab": {
          "base_uri": "https://localhost:8080/"
        },
        "id": "NkGRuSztnnG0",
        "outputId": "32865f67-5dfb-4e51-b1bf-11207c1d5fee"
      },
      "execution_count": 26,
      "outputs": [
        {
          "output_type": "stream",
          "name": "stdout",
          "text": [
            "   Unnamed: 0                                                Q&A\n",
            "0           0  {'questionId': '3031', 'questionText': 'How th...\n",
            "1           1  {'questionId': '3032', 'questionText': 'What i...\n",
            "2           2  {'questionId': '3033', 'questionText': 'What d...\n",
            "3           3  {'questionId': '3034', 'questionText': 'When i...\n"
          ]
        }
      ]
    },
    {
      "cell_type": "code",
      "source": [
        "json_obj = {'questionId': '3031', 'questionText': 'How thick is your hair?', 'questionDescription': 'How thick is your hair?', 'questionInEnglish': 'How thick is your hair?', 'multiSelect': False, 'responses': [{'answerInEnglish': 'Fine', 'seedWords': ['fine', 'thick', 'volume', 'smooth', 'glossy', 'soft', 'shiny', 'hydration', 'shiny', 'soft', 'dull', 'moisture'], 'mustKeys': ['tyety'], 'mustNotKeys': [], 'responseDescription': 'Fine', 'responseID': '1111', 'responseText': 'Fine'}, {'answerInEnglish': 'Medium', 'seedWords': ['thick', 'volume', 'strength', 'smooth', 'glossy', 'soft', 'shiny', 'hydration', 'shiny', 'soft', 'dull', 'moisture'], 'mustKeys': ['tyety'], 'mustNotKeys': [], 'responseDescription': 'Medium', 'responseID': '1112', 'responseText': 'Medium'}]}\n",
        "# Convert the JSON object to a Pandas DataFrame\n",
        "df3 = pd.json_normalize(json_obj)\n",
        "\n",
        "# Convert the DataFrame to CSV format\n",
        "df3.to_csv('file1.csv', index=False)\n",
        "result=pd.read_csv(\"file1.csv\")\n",
        "print(result)"
      ],
      "metadata": {
        "colab": {
          "base_uri": "https://localhost:8080/"
        },
        "id": "YybE0IG1o_Wl",
        "outputId": "3fc91507-ef51-462d-e8ff-95a669e39794"
      },
      "execution_count": 29,
      "outputs": [
        {
          "output_type": "stream",
          "name": "stdout",
          "text": [
            "   questionId             questionText      questionDescription        questionInEnglish  multiSelect                                          responses\n",
            "0        3031  How thick is your hair?  How thick is your hair?  How thick is your hair?        False  [{'answerInEnglish': 'Fine', 'seedWords': ['fi...\n"
          ]
        }
      ]
    }
  ]
}