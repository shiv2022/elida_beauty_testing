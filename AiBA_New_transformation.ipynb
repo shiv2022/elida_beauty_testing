{
  "nbformat": 4,
  "nbformat_minor": 0,
  "metadata": {
    "colab": {
      "provenance": [],
      "authorship_tag": "ABX9TyM4HotSKkhtT6mFSogSUrFw",
      "include_colab_link": true
    },
    "kernelspec": {
      "name": "python3",
      "display_name": "Python 3"
    },
    "language_info": {
      "name": "python"
    }
  },
  "cells": [
    {
      "cell_type": "markdown",
      "metadata": {
        "id": "view-in-github",
        "colab_type": "text"
      },
      "source": [
        "<a href=\"https://colab.research.google.com/github/shiv2022/elida_beauty_testing/blob/elida_beauty_testing/AiBA_New_transformation.ipynb\" target=\"_parent\"><img src=\"https://colab.research.google.com/assets/colab-badge.svg\" alt=\"Open In Colab\"/></a>"
      ]
    },
    {
      "cell_type": "code",
      "execution_count": 1,
      "metadata": {
        "id": "QDJ9FkCLog7Q"
      },
      "outputs": [],
      "source": [
        "import numpy as np\n",
        "import pandas as pd\n",
        "import json\n",
        "import warnings\n",
        "warnings.filterwarnings(\"ignore\")\n",
        "\n",
        "pd.set_option('display.max_rows', 500)\n",
        "pd.set_option('display.max_columns', 500)\n",
        "pd.set_option('display.width', 1000)\n",
        "pd.set_option('display.expand_frame_repr', False)"
      ]
    },
    {
      "cell_type": "code",
      "source": [
        "# Loading the csv file \n",
        "df1 = pd.read_csv('/content/elida_beauty_testing/elida_data.csv')\n",
        "df1.columns"
      ],
      "metadata": {
        "colab": {
          "base_uri": "https://localhost:8080/"
        },
        "id": "MIiNMcpjon5z",
        "outputId": "a3444997-70f8-42c0-ee41-54299d158439"
      },
      "execution_count": 2,
      "outputs": [
        {
          "output_type": "execute_result",
          "data": {
            "text/plain": [
              "Index(['How thick is your hair?', 'What is your hair type?', 'When it comes to your hair, you care the most about:', 'What do you use to style your hair? ', 'P1', 'P2', 'P3', 'P4'], dtype='object')"
            ]
          },
          "metadata": {},
          "execution_count": 2
        }
      ]
    },
    {
      "cell_type": "code",
      "source": [
        "len(df1)"
      ],
      "metadata": {
        "colab": {
          "base_uri": "https://localhost:8080/"
        },
        "id": "ufK98FdRpk8S",
        "outputId": "e2c57a5e-da37-4785-cc44-c037b2b126ec"
      },
      "execution_count": 5,
      "outputs": [
        {
          "output_type": "execute_result",
          "data": {
            "text/plain": [
              "1789"
            ]
          },
          "metadata": {},
          "execution_count": 5
        }
      ]
    },
    {
      "cell_type": "code",
      "source": [
        "df1.head()"
      ],
      "metadata": {
        "colab": {
          "base_uri": "https://localhost:8080/",
          "height": 580
        },
        "id": "jsWpcZEFopz8",
        "outputId": "428b64f3-a9d3-475e-959c-114d7c3aaf20"
      },
      "execution_count": 4,
      "outputs": [
        {
          "output_type": "execute_result",
          "data": {
            "text/plain": [
              "  How thick is your hair? What is your hair type? When it comes to your hair, you care the most about: What do you use to style your hair?                                    P1                                        P2                                        P3                              P4\n",
              "0    Fine, Medium, Thick           Straight/ Wavy                                          Hydration                             Hair dryer  VO5 Hairdryer Protection Mist 200ml             Vo5 Serum Invisible Pump 50ml                                       NaN                             NaN\n",
              "1    Fine, Medium, Thick           Straight/ Wavy                                             Volume                             Hair dryer  VO5 Hairdryer Protection Mist 200ml   Vo5 Heat Protect Lot Spr Blow Dry 200ml          Vo5 Gel Spray Volume Boost 200ml                             NaN\n",
              "2    Fine, Medium, Thick           Straight/ Wavy                                         Smoothness                             Hair dryer  VO5 Hairdryer Protection Mist 200ml             Vo5 Serum Invisible Pump 50ml  V05 Taming Spray Heat Defence Aero 100ml  Vo5 Cream Frizzfree Tube 125ml\n",
              "3    Fine, Medium, Thick           Straight/ Wavy                                             Shine                              Hair dryer  VO5 Hairdryer Protection Mist 200ml  V05 Taming Spray Heat Defence Aero 100ml                                       NaN                             NaN\n",
              "4    Fine, Medium, Thick           Straight/ Wavy                                    Curl Definition                             Hair dryer  VO5 Hairdryer Protection Mist 200ml            Vo5 Cream Frizzfree Tube 125ml            Vo5 Mousse Curl Defining 200ml                             NaN"
            ],
            "text/html": [
              "\n",
              "  <div id=\"df-c6b9a202-cc8b-4056-b782-bfb72a0cfe22\">\n",
              "    <div class=\"colab-df-container\">\n",
              "      <div>\n",
              "<style scoped>\n",
              "    .dataframe tbody tr th:only-of-type {\n",
              "        vertical-align: middle;\n",
              "    }\n",
              "\n",
              "    .dataframe tbody tr th {\n",
              "        vertical-align: top;\n",
              "    }\n",
              "\n",
              "    .dataframe thead th {\n",
              "        text-align: right;\n",
              "    }\n",
              "</style>\n",
              "<table border=\"1\" class=\"dataframe\">\n",
              "  <thead>\n",
              "    <tr style=\"text-align: right;\">\n",
              "      <th></th>\n",
              "      <th>How thick is your hair?</th>\n",
              "      <th>What is your hair type?</th>\n",
              "      <th>When it comes to your hair, you care the most about:</th>\n",
              "      <th>What do you use to style your hair?</th>\n",
              "      <th>P1</th>\n",
              "      <th>P2</th>\n",
              "      <th>P3</th>\n",
              "      <th>P4</th>\n",
              "    </tr>\n",
              "  </thead>\n",
              "  <tbody>\n",
              "    <tr>\n",
              "      <th>0</th>\n",
              "      <td>Fine, Medium, Thick</td>\n",
              "      <td>Straight/ Wavy</td>\n",
              "      <td>Hydration</td>\n",
              "      <td>Hair dryer</td>\n",
              "      <td>VO5 Hairdryer Protection Mist 200ml</td>\n",
              "      <td>Vo5 Serum Invisible Pump 50ml</td>\n",
              "      <td>NaN</td>\n",
              "      <td>NaN</td>\n",
              "    </tr>\n",
              "    <tr>\n",
              "      <th>1</th>\n",
              "      <td>Fine, Medium, Thick</td>\n",
              "      <td>Straight/ Wavy</td>\n",
              "      <td>Volume</td>\n",
              "      <td>Hair dryer</td>\n",
              "      <td>VO5 Hairdryer Protection Mist 200ml</td>\n",
              "      <td>Vo5 Heat Protect Lot Spr Blow Dry 200ml</td>\n",
              "      <td>Vo5 Gel Spray Volume Boost 200ml</td>\n",
              "      <td>NaN</td>\n",
              "    </tr>\n",
              "    <tr>\n",
              "      <th>2</th>\n",
              "      <td>Fine, Medium, Thick</td>\n",
              "      <td>Straight/ Wavy</td>\n",
              "      <td>Smoothness</td>\n",
              "      <td>Hair dryer</td>\n",
              "      <td>VO5 Hairdryer Protection Mist 200ml</td>\n",
              "      <td>Vo5 Serum Invisible Pump 50ml</td>\n",
              "      <td>V05 Taming Spray Heat Defence Aero 100ml</td>\n",
              "      <td>Vo5 Cream Frizzfree Tube 125ml</td>\n",
              "    </tr>\n",
              "    <tr>\n",
              "      <th>3</th>\n",
              "      <td>Fine, Medium, Thick</td>\n",
              "      <td>Straight/ Wavy</td>\n",
              "      <td>Shine</td>\n",
              "      <td>Hair dryer</td>\n",
              "      <td>VO5 Hairdryer Protection Mist 200ml</td>\n",
              "      <td>V05 Taming Spray Heat Defence Aero 100ml</td>\n",
              "      <td>NaN</td>\n",
              "      <td>NaN</td>\n",
              "    </tr>\n",
              "    <tr>\n",
              "      <th>4</th>\n",
              "      <td>Fine, Medium, Thick</td>\n",
              "      <td>Straight/ Wavy</td>\n",
              "      <td>Curl Definition</td>\n",
              "      <td>Hair dryer</td>\n",
              "      <td>VO5 Hairdryer Protection Mist 200ml</td>\n",
              "      <td>Vo5 Cream Frizzfree Tube 125ml</td>\n",
              "      <td>Vo5 Mousse Curl Defining 200ml</td>\n",
              "      <td>NaN</td>\n",
              "    </tr>\n",
              "  </tbody>\n",
              "</table>\n",
              "</div>\n",
              "      <button class=\"colab-df-convert\" onclick=\"convertToInteractive('df-c6b9a202-cc8b-4056-b782-bfb72a0cfe22')\"\n",
              "              title=\"Convert this dataframe to an interactive table.\"\n",
              "              style=\"display:none;\">\n",
              "        \n",
              "  <svg xmlns=\"http://www.w3.org/2000/svg\" height=\"24px\"viewBox=\"0 0 24 24\"\n",
              "       width=\"24px\">\n",
              "    <path d=\"M0 0h24v24H0V0z\" fill=\"none\"/>\n",
              "    <path d=\"M18.56 5.44l.94 2.06.94-2.06 2.06-.94-2.06-.94-.94-2.06-.94 2.06-2.06.94zm-11 1L8.5 8.5l.94-2.06 2.06-.94-2.06-.94L8.5 2.5l-.94 2.06-2.06.94zm10 10l.94 2.06.94-2.06 2.06-.94-2.06-.94-.94-2.06-.94 2.06-2.06.94z\"/><path d=\"M17.41 7.96l-1.37-1.37c-.4-.4-.92-.59-1.43-.59-.52 0-1.04.2-1.43.59L10.3 9.45l-7.72 7.72c-.78.78-.78 2.05 0 2.83L4 21.41c.39.39.9.59 1.41.59.51 0 1.02-.2 1.41-.59l7.78-7.78 2.81-2.81c.8-.78.8-2.07 0-2.86zM5.41 20L4 18.59l7.72-7.72 1.47 1.35L5.41 20z\"/>\n",
              "  </svg>\n",
              "      </button>\n",
              "      \n",
              "  <style>\n",
              "    .colab-df-container {\n",
              "      display:flex;\n",
              "      flex-wrap:wrap;\n",
              "      gap: 12px;\n",
              "    }\n",
              "\n",
              "    .colab-df-convert {\n",
              "      background-color: #E8F0FE;\n",
              "      border: none;\n",
              "      border-radius: 50%;\n",
              "      cursor: pointer;\n",
              "      display: none;\n",
              "      fill: #1967D2;\n",
              "      height: 32px;\n",
              "      padding: 0 0 0 0;\n",
              "      width: 32px;\n",
              "    }\n",
              "\n",
              "    .colab-df-convert:hover {\n",
              "      background-color: #E2EBFA;\n",
              "      box-shadow: 0px 1px 2px rgba(60, 64, 67, 0.3), 0px 1px 3px 1px rgba(60, 64, 67, 0.15);\n",
              "      fill: #174EA6;\n",
              "    }\n",
              "\n",
              "    [theme=dark] .colab-df-convert {\n",
              "      background-color: #3B4455;\n",
              "      fill: #D2E3FC;\n",
              "    }\n",
              "\n",
              "    [theme=dark] .colab-df-convert:hover {\n",
              "      background-color: #434B5C;\n",
              "      box-shadow: 0px 1px 3px 1px rgba(0, 0, 0, 0.15);\n",
              "      filter: drop-shadow(0px 1px 2px rgba(0, 0, 0, 0.3));\n",
              "      fill: #FFFFFF;\n",
              "    }\n",
              "  </style>\n",
              "\n",
              "      <script>\n",
              "        const buttonEl =\n",
              "          document.querySelector('#df-c6b9a202-cc8b-4056-b782-bfb72a0cfe22 button.colab-df-convert');\n",
              "        buttonEl.style.display =\n",
              "          google.colab.kernel.accessAllowed ? 'block' : 'none';\n",
              "\n",
              "        async function convertToInteractive(key) {\n",
              "          const element = document.querySelector('#df-c6b9a202-cc8b-4056-b782-bfb72a0cfe22');\n",
              "          const dataTable =\n",
              "            await google.colab.kernel.invokeFunction('convertToInteractive',\n",
              "                                                     [key], {});\n",
              "          if (!dataTable) return;\n",
              "\n",
              "          const docLinkHtml = 'Like what you see? Visit the ' +\n",
              "            '<a target=\"_blank\" href=https://colab.research.google.com/notebooks/data_table.ipynb>data table notebook</a>'\n",
              "            + ' to learn more about interactive tables.';\n",
              "          element.innerHTML = '';\n",
              "          dataTable['output_type'] = 'display_data';\n",
              "          await google.colab.output.renderOutput(dataTable, element);\n",
              "          const docLink = document.createElement('div');\n",
              "          docLink.innerHTML = docLinkHtml;\n",
              "          element.appendChild(docLink);\n",
              "        }\n",
              "      </script>\n",
              "    </div>\n",
              "  </div>\n",
              "  "
            ]
          },
          "metadata": {},
          "execution_count": 4
        }
      ]
    },
    {
      "cell_type": "code",
      "source": [
        "cols = df1.columns\n",
        "df1.rename (columns = {cols[0]:'Q1',cols[1]:'Q2',cols[2]:'Q3',cols[3]:'Q4'}, inplace=True)\n",
        "\n",
        "df1.columns"
      ],
      "metadata": {
        "colab": {
          "base_uri": "https://localhost:8080/"
        },
        "id": "8m_4E2J2povV",
        "outputId": "fcca7228-c65a-45c6-f2c8-f1b511ad4dd4"
      },
      "execution_count": 6,
      "outputs": [
        {
          "output_type": "execute_result",
          "data": {
            "text/plain": [
              "Index(['Q1', 'Q2', 'Q3', 'Q4', 'P1', 'P2', 'P3', 'P4'], dtype='object')"
            ]
          },
          "metadata": {},
          "execution_count": 6
        }
      ]
    },
    {
      "cell_type": "code",
      "source": [
        "# Splitting the values present in the column into multiple values based on the separator\t\n",
        "df1 = df1.assign(Q2=df1.Q2.str.split(\"/ \")).explode('Q2')\n",
        "df1 = df1.assign(Q3=df1.Q3.str.split(\",\")).explode('Q3')\n",
        "df1 = df1.assign(Q4=df1.Q4.str.split(\"/ \")).explode('Q4')"
      ],
      "metadata": {
        "id": "VCRxAm8tpGBU"
      },
      "execution_count": 7,
      "outputs": []
    },
    {
      "cell_type": "code",
      "source": [
        "len(df1)"
      ],
      "metadata": {
        "colab": {
          "base_uri": "https://localhost:8080/"
        },
        "id": "zRp4YlW3qaZ0",
        "outputId": "3bc3eed3-b998-4e4d-bce0-5413b4af1b72"
      },
      "execution_count": 8,
      "outputs": [
        {
          "output_type": "execute_result",
          "data": {
            "text/plain": [
              "12870"
            ]
          },
          "metadata": {},
          "execution_count": 8
        }
      ]
    },
    {
      "cell_type": "code",
      "source": [
        "# Removing the leading and trailing spaces from columns\n",
        "\n",
        "col_list = ['Q1','Q2','Q3','Q4']\n",
        "for col in df1.columns:\n",
        "  df1[col] = df1[col].str.strip()\n",
        "  "
      ],
      "metadata": {
        "id": "GTirOE2Wqg3s"
      },
      "execution_count": 9,
      "outputs": []
    },
    {
      "cell_type": "code",
      "source": [
        "df1.head()"
      ],
      "metadata": {
        "colab": {
          "base_uri": "https://localhost:8080/",
          "height": 441
        },
        "id": "MOZ542GBqsn6",
        "outputId": "57633634-3169-4d2c-f935-96bddede7ab7"
      },
      "execution_count": 10,
      "outputs": [
        {
          "output_type": "execute_result",
          "data": {
            "text/plain": [
              "                    Q1        Q2          Q3          Q4                                   P1                                       P2                                        P3                              P4\n",
              "0  Fine, Medium, Thick  Straight   Hydration  Hair dryer  VO5 Hairdryer Protection Mist 200ml            Vo5 Serum Invisible Pump 50ml                                       NaN                             NaN\n",
              "0  Fine, Medium, Thick      Wavy   Hydration  Hair dryer  VO5 Hairdryer Protection Mist 200ml            Vo5 Serum Invisible Pump 50ml                                       NaN                             NaN\n",
              "1  Fine, Medium, Thick  Straight      Volume  Hair dryer  VO5 Hairdryer Protection Mist 200ml  Vo5 Heat Protect Lot Spr Blow Dry 200ml          Vo5 Gel Spray Volume Boost 200ml                             NaN\n",
              "1  Fine, Medium, Thick      Wavy      Volume  Hair dryer  VO5 Hairdryer Protection Mist 200ml  Vo5 Heat Protect Lot Spr Blow Dry 200ml          Vo5 Gel Spray Volume Boost 200ml                             NaN\n",
              "2  Fine, Medium, Thick  Straight  Smoothness  Hair dryer  VO5 Hairdryer Protection Mist 200ml            Vo5 Serum Invisible Pump 50ml  V05 Taming Spray Heat Defence Aero 100ml  Vo5 Cream Frizzfree Tube 125ml"
            ],
            "text/html": [
              "\n",
              "  <div id=\"df-1a35bd90-cb17-4e33-9593-bc2c7eee354f\">\n",
              "    <div class=\"colab-df-container\">\n",
              "      <div>\n",
              "<style scoped>\n",
              "    .dataframe tbody tr th:only-of-type {\n",
              "        vertical-align: middle;\n",
              "    }\n",
              "\n",
              "    .dataframe tbody tr th {\n",
              "        vertical-align: top;\n",
              "    }\n",
              "\n",
              "    .dataframe thead th {\n",
              "        text-align: right;\n",
              "    }\n",
              "</style>\n",
              "<table border=\"1\" class=\"dataframe\">\n",
              "  <thead>\n",
              "    <tr style=\"text-align: right;\">\n",
              "      <th></th>\n",
              "      <th>Q1</th>\n",
              "      <th>Q2</th>\n",
              "      <th>Q3</th>\n",
              "      <th>Q4</th>\n",
              "      <th>P1</th>\n",
              "      <th>P2</th>\n",
              "      <th>P3</th>\n",
              "      <th>P4</th>\n",
              "    </tr>\n",
              "  </thead>\n",
              "  <tbody>\n",
              "    <tr>\n",
              "      <th>0</th>\n",
              "      <td>Fine, Medium, Thick</td>\n",
              "      <td>Straight</td>\n",
              "      <td>Hydration</td>\n",
              "      <td>Hair dryer</td>\n",
              "      <td>VO5 Hairdryer Protection Mist 200ml</td>\n",
              "      <td>Vo5 Serum Invisible Pump 50ml</td>\n",
              "      <td>NaN</td>\n",
              "      <td>NaN</td>\n",
              "    </tr>\n",
              "    <tr>\n",
              "      <th>0</th>\n",
              "      <td>Fine, Medium, Thick</td>\n",
              "      <td>Wavy</td>\n",
              "      <td>Hydration</td>\n",
              "      <td>Hair dryer</td>\n",
              "      <td>VO5 Hairdryer Protection Mist 200ml</td>\n",
              "      <td>Vo5 Serum Invisible Pump 50ml</td>\n",
              "      <td>NaN</td>\n",
              "      <td>NaN</td>\n",
              "    </tr>\n",
              "    <tr>\n",
              "      <th>1</th>\n",
              "      <td>Fine, Medium, Thick</td>\n",
              "      <td>Straight</td>\n",
              "      <td>Volume</td>\n",
              "      <td>Hair dryer</td>\n",
              "      <td>VO5 Hairdryer Protection Mist 200ml</td>\n",
              "      <td>Vo5 Heat Protect Lot Spr Blow Dry 200ml</td>\n",
              "      <td>Vo5 Gel Spray Volume Boost 200ml</td>\n",
              "      <td>NaN</td>\n",
              "    </tr>\n",
              "    <tr>\n",
              "      <th>1</th>\n",
              "      <td>Fine, Medium, Thick</td>\n",
              "      <td>Wavy</td>\n",
              "      <td>Volume</td>\n",
              "      <td>Hair dryer</td>\n",
              "      <td>VO5 Hairdryer Protection Mist 200ml</td>\n",
              "      <td>Vo5 Heat Protect Lot Spr Blow Dry 200ml</td>\n",
              "      <td>Vo5 Gel Spray Volume Boost 200ml</td>\n",
              "      <td>NaN</td>\n",
              "    </tr>\n",
              "    <tr>\n",
              "      <th>2</th>\n",
              "      <td>Fine, Medium, Thick</td>\n",
              "      <td>Straight</td>\n",
              "      <td>Smoothness</td>\n",
              "      <td>Hair dryer</td>\n",
              "      <td>VO5 Hairdryer Protection Mist 200ml</td>\n",
              "      <td>Vo5 Serum Invisible Pump 50ml</td>\n",
              "      <td>V05 Taming Spray Heat Defence Aero 100ml</td>\n",
              "      <td>Vo5 Cream Frizzfree Tube 125ml</td>\n",
              "    </tr>\n",
              "  </tbody>\n",
              "</table>\n",
              "</div>\n",
              "      <button class=\"colab-df-convert\" onclick=\"convertToInteractive('df-1a35bd90-cb17-4e33-9593-bc2c7eee354f')\"\n",
              "              title=\"Convert this dataframe to an interactive table.\"\n",
              "              style=\"display:none;\">\n",
              "        \n",
              "  <svg xmlns=\"http://www.w3.org/2000/svg\" height=\"24px\"viewBox=\"0 0 24 24\"\n",
              "       width=\"24px\">\n",
              "    <path d=\"M0 0h24v24H0V0z\" fill=\"none\"/>\n",
              "    <path d=\"M18.56 5.44l.94 2.06.94-2.06 2.06-.94-2.06-.94-.94-2.06-.94 2.06-2.06.94zm-11 1L8.5 8.5l.94-2.06 2.06-.94-2.06-.94L8.5 2.5l-.94 2.06-2.06.94zm10 10l.94 2.06.94-2.06 2.06-.94-2.06-.94-.94-2.06-.94 2.06-2.06.94z\"/><path d=\"M17.41 7.96l-1.37-1.37c-.4-.4-.92-.59-1.43-.59-.52 0-1.04.2-1.43.59L10.3 9.45l-7.72 7.72c-.78.78-.78 2.05 0 2.83L4 21.41c.39.39.9.59 1.41.59.51 0 1.02-.2 1.41-.59l7.78-7.78 2.81-2.81c.8-.78.8-2.07 0-2.86zM5.41 20L4 18.59l7.72-7.72 1.47 1.35L5.41 20z\"/>\n",
              "  </svg>\n",
              "      </button>\n",
              "      \n",
              "  <style>\n",
              "    .colab-df-container {\n",
              "      display:flex;\n",
              "      flex-wrap:wrap;\n",
              "      gap: 12px;\n",
              "    }\n",
              "\n",
              "    .colab-df-convert {\n",
              "      background-color: #E8F0FE;\n",
              "      border: none;\n",
              "      border-radius: 50%;\n",
              "      cursor: pointer;\n",
              "      display: none;\n",
              "      fill: #1967D2;\n",
              "      height: 32px;\n",
              "      padding: 0 0 0 0;\n",
              "      width: 32px;\n",
              "    }\n",
              "\n",
              "    .colab-df-convert:hover {\n",
              "      background-color: #E2EBFA;\n",
              "      box-shadow: 0px 1px 2px rgba(60, 64, 67, 0.3), 0px 1px 3px 1px rgba(60, 64, 67, 0.15);\n",
              "      fill: #174EA6;\n",
              "    }\n",
              "\n",
              "    [theme=dark] .colab-df-convert {\n",
              "      background-color: #3B4455;\n",
              "      fill: #D2E3FC;\n",
              "    }\n",
              "\n",
              "    [theme=dark] .colab-df-convert:hover {\n",
              "      background-color: #434B5C;\n",
              "      box-shadow: 0px 1px 3px 1px rgba(0, 0, 0, 0.15);\n",
              "      filter: drop-shadow(0px 1px 2px rgba(0, 0, 0, 0.3));\n",
              "      fill: #FFFFFF;\n",
              "    }\n",
              "  </style>\n",
              "\n",
              "      <script>\n",
              "        const buttonEl =\n",
              "          document.querySelector('#df-1a35bd90-cb17-4e33-9593-bc2c7eee354f button.colab-df-convert');\n",
              "        buttonEl.style.display =\n",
              "          google.colab.kernel.accessAllowed ? 'block' : 'none';\n",
              "\n",
              "        async function convertToInteractive(key) {\n",
              "          const element = document.querySelector('#df-1a35bd90-cb17-4e33-9593-bc2c7eee354f');\n",
              "          const dataTable =\n",
              "            await google.colab.kernel.invokeFunction('convertToInteractive',\n",
              "                                                     [key], {});\n",
              "          if (!dataTable) return;\n",
              "\n",
              "          const docLinkHtml = 'Like what you see? Visit the ' +\n",
              "            '<a target=\"_blank\" href=https://colab.research.google.com/notebooks/data_table.ipynb>data table notebook</a>'\n",
              "            + ' to learn more about interactive tables.';\n",
              "          element.innerHTML = '';\n",
              "          dataTable['output_type'] = 'display_data';\n",
              "          await google.colab.output.renderOutput(dataTable, element);\n",
              "          const docLink = document.createElement('div');\n",
              "          docLink.innerHTML = docLinkHtml;\n",
              "          element.appendChild(docLink);\n",
              "        }\n",
              "      </script>\n",
              "    </div>\n",
              "  </div>\n",
              "  "
            ]
          },
          "metadata": {},
          "execution_count": 10
        }
      ]
    },
    {
      "cell_type": "code",
      "source": [
        "df2 = df1.copy()"
      ],
      "metadata": {
        "id": "01HWB9a-tgtn"
      },
      "execution_count": 11,
      "outputs": []
    },
    {
      "cell_type": "code",
      "source": [
        "# Working with pim_df sheet\n",
        "\n",
        "pim_df = pd.read_csv('/content/elida_beauty_testing/Updated_Pim_sheet.csv')\n",
        "pim_df.columns\n"
      ],
      "metadata": {
        "colab": {
          "base_uri": "https://localhost:8080/"
        },
        "id": "MH2kK3X5tgqL",
        "outputId": "68b176b7-6a63-4abb-8b22-f653e3509fcd"
      },
      "execution_count": 12,
      "outputs": [
        {
          "output_type": "execute_result",
          "data": {
            "text/plain": [
              "Index(['identifierValue', 'category', 'productName', 'productDescription', 'lastModifiedTime', 'productTags', 'binidentifier', 'pdpUrl', 'imageUrl'], dtype='object')"
            ]
          },
          "metadata": {},
          "execution_count": 12
        }
      ]
    },
    {
      "cell_type": "code",
      "source": [
        "# Working with pim_df sheet\n",
        "\n",
        "pim_df = pd.read_csv('/content/elida_beauty_testing/Updated_Pim_sheet.csv')\n",
        "pim_df.columns\n"
      ],
      "metadata": {
        "colab": {
          "base_uri": "https://localhost:8080/"
        },
        "id": "nygqguuWB1dh",
        "outputId": "6033c280-1054-4d13-ab95-edf27a74e669"
      },
      "execution_count": 13,
      "outputs": [
        {
          "output_type": "execute_result",
          "data": {
            "text/plain": [
              "Index(['identifierValue', 'category', 'productName', 'productDescription', 'lastModifiedTime', 'productTags', 'binidentifier', 'pdpUrl', 'imageUrl'], dtype='object')"
            ]
          },
          "metadata": {},
          "execution_count": 13
        }
      ]
    },
    {
      "cell_type": "code",
      "source": [
        "pim_df = pim_df.dropna(how='all', axis=1)\n",
        "pim_df.columns\n"
      ],
      "metadata": {
        "colab": {
          "base_uri": "https://localhost:8080/"
        },
        "id": "IXVF-1M4CUkI",
        "outputId": "11e6aab0-1cf7-435d-f7dc-c78aa67b2bc9"
      },
      "execution_count": 14,
      "outputs": [
        {
          "output_type": "execute_result",
          "data": {
            "text/plain": [
              "Index(['identifierValue', 'category', 'productName', 'productDescription', 'pdpUrl', 'imageUrl'], dtype='object')"
            ]
          },
          "metadata": {},
          "execution_count": 14
        }
      ]
    },
    {
      "cell_type": "code",
      "source": [
        "pim_df1 = pim_df.copy()\n",
        "# pim_df1.columns\n",
        "pim_df1['identifierValue'] = pim_df1['identifierValue'].str.strip('GTIN:')\n",
        "\n",
        "# Stripping any unwanted space before and after the values in the columns\n",
        "for col in pim_df1.columns:\n",
        "  pim_df1[col] = pim_df1[col].str.strip()"
      ],
      "metadata": {
        "id": "aWPEGIcvCUqH"
      },
      "execution_count": 15,
      "outputs": []
    },
    {
      "cell_type": "code",
      "source": [
        "pim_df1.columns"
      ],
      "metadata": {
        "colab": {
          "base_uri": "https://localhost:8080/"
        },
        "id": "bdW3nrr6CUsf",
        "outputId": "7870c124-958c-4c79-b283-9dd20d69ae08"
      },
      "execution_count": 16,
      "outputs": [
        {
          "output_type": "execute_result",
          "data": {
            "text/plain": [
              "Index(['identifierValue', 'category', 'productName', 'productDescription', 'pdpUrl', 'imageUrl'], dtype='object')"
            ]
          },
          "metadata": {},
          "execution_count": 16
        }
      ]
    },
    {
      "cell_type": "code",
      "source": [
        "# Adding additional columns to pim_df1\n",
        "\n",
        "pim_df1.rename(columns={'pdpUrl': 'pageUrl'},inplace=True)\n",
        "pim_df1[['shortDescription','variants','range','score','smartProductId','routineName']]=''\n",
        "pim_df1['imageAltText'] = pim_df1['productName'].copy()\n",
        "pim_df1['brandName']='elida'\n",
        "pim_df1.columns\n",
        "# pim_df1.head()"
      ],
      "metadata": {
        "colab": {
          "base_uri": "https://localhost:8080/"
        },
        "id": "-aMvZjFUbMi5",
        "outputId": "0c30e2b7-ea82-4c15-8733-7a6593a8bfe2"
      },
      "execution_count": 17,
      "outputs": [
        {
          "output_type": "execute_result",
          "data": {
            "text/plain": [
              "Index(['identifierValue', 'category', 'productName', 'productDescription', 'pageUrl', 'imageUrl', 'shortDescription', 'variants', 'range', 'score', 'smartProductId', 'routineName', 'imageAltText', 'brandName'], dtype='object')"
            ]
          },
          "metadata": {},
          "execution_count": 17
        }
      ]
    },
    {
      "cell_type": "code",
      "source": [
        "pim_df1.head()"
      ],
      "metadata": {
        "colab": {
          "base_uri": "https://localhost:8080/",
          "height": 461
        },
        "id": "h9LDRzS2djm5",
        "outputId": "7934adeb-2b91-4188-ff8d-c8e6ceee81bb"
      },
      "execution_count": 18,
      "outputs": [
        {
          "output_type": "execute_result",
          "data": {
            "text/plain": [
              "  identifierValue category                              productName                                 productDescription                                            pageUrl                     imageUrl shortDescription variants range score smartProductId routineName                             imageAltText brandName\n",
              "0  00000050398645      wax           Vo5 Wax Rework Putty Jar 150ml  Rework Putty offers all day reworkable hold an...  https://www.vo5.co.uk/products/men/rework-hold...  https://postimg.cc/3WJhKFFY                                                                            Vo5 Wax Rework Putty Jar 150ml     elida\n",
              "1  08710908578656    paste               VO5 Matt Rework Paste 75ml  Matt Rework Paste combines a matt finish with ...  https://www.vo5.co.uk/products/men/rework-hold...  https://postimg.cc/hzzkN2q0                                                                                VO5 Matt Rework Paste 75ml     elida\n",
              "2  00000050398621      wax                 Vo5 Wax Styling Jar 75ml  Styling Wax Creates a long lasting firm hold w...  https://www.vo5.co.uk/products/men/rework-hold...  https://postimg.cc/k283j1qF                                                                                  Vo5 Wax Styling Jar 75ml     elida\n",
              "3  00000050398676      gum             Vo5 Gum Texturising Tin 75ml  Texturising Gum shapes hair and is great for s...  https://www.vo5.co.uk/products/men/extra-hold/...  https://postimg.cc/N5FDp3sZ                                                                              Vo5 Gum Texturising Tin 75ml     elida\n",
              "4  05012254066409    paste  Vo5 Paste Extreme Style Matt Pump 100ml  Use Matt Styling Paste to shape hair with rewo...  https://www.vo5.co.uk/products/men/extra-hold/...  https://postimg.cc/PPh7MXNy                                                                   Vo5 Paste Extreme Style Matt Pump 100ml     elida"
            ],
            "text/html": [
              "\n",
              "  <div id=\"df-dd9bccca-bf4f-434d-b502-3f12c35ccce9\">\n",
              "    <div class=\"colab-df-container\">\n",
              "      <div>\n",
              "<style scoped>\n",
              "    .dataframe tbody tr th:only-of-type {\n",
              "        vertical-align: middle;\n",
              "    }\n",
              "\n",
              "    .dataframe tbody tr th {\n",
              "        vertical-align: top;\n",
              "    }\n",
              "\n",
              "    .dataframe thead th {\n",
              "        text-align: right;\n",
              "    }\n",
              "</style>\n",
              "<table border=\"1\" class=\"dataframe\">\n",
              "  <thead>\n",
              "    <tr style=\"text-align: right;\">\n",
              "      <th></th>\n",
              "      <th>identifierValue</th>\n",
              "      <th>category</th>\n",
              "      <th>productName</th>\n",
              "      <th>productDescription</th>\n",
              "      <th>pageUrl</th>\n",
              "      <th>imageUrl</th>\n",
              "      <th>shortDescription</th>\n",
              "      <th>variants</th>\n",
              "      <th>range</th>\n",
              "      <th>score</th>\n",
              "      <th>smartProductId</th>\n",
              "      <th>routineName</th>\n",
              "      <th>imageAltText</th>\n",
              "      <th>brandName</th>\n",
              "    </tr>\n",
              "  </thead>\n",
              "  <tbody>\n",
              "    <tr>\n",
              "      <th>0</th>\n",
              "      <td>00000050398645</td>\n",
              "      <td>wax</td>\n",
              "      <td>Vo5 Wax Rework Putty Jar 150ml</td>\n",
              "      <td>Rework Putty offers all day reworkable hold an...</td>\n",
              "      <td>https://www.vo5.co.uk/products/men/rework-hold...</td>\n",
              "      <td>https://postimg.cc/3WJhKFFY</td>\n",
              "      <td></td>\n",
              "      <td></td>\n",
              "      <td></td>\n",
              "      <td></td>\n",
              "      <td></td>\n",
              "      <td></td>\n",
              "      <td>Vo5 Wax Rework Putty Jar 150ml</td>\n",
              "      <td>elida</td>\n",
              "    </tr>\n",
              "    <tr>\n",
              "      <th>1</th>\n",
              "      <td>08710908578656</td>\n",
              "      <td>paste</td>\n",
              "      <td>VO5 Matt Rework Paste 75ml</td>\n",
              "      <td>Matt Rework Paste combines a matt finish with ...</td>\n",
              "      <td>https://www.vo5.co.uk/products/men/rework-hold...</td>\n",
              "      <td>https://postimg.cc/hzzkN2q0</td>\n",
              "      <td></td>\n",
              "      <td></td>\n",
              "      <td></td>\n",
              "      <td></td>\n",
              "      <td></td>\n",
              "      <td></td>\n",
              "      <td>VO5 Matt Rework Paste 75ml</td>\n",
              "      <td>elida</td>\n",
              "    </tr>\n",
              "    <tr>\n",
              "      <th>2</th>\n",
              "      <td>00000050398621</td>\n",
              "      <td>wax</td>\n",
              "      <td>Vo5 Wax Styling Jar 75ml</td>\n",
              "      <td>Styling Wax Creates a long lasting firm hold w...</td>\n",
              "      <td>https://www.vo5.co.uk/products/men/rework-hold...</td>\n",
              "      <td>https://postimg.cc/k283j1qF</td>\n",
              "      <td></td>\n",
              "      <td></td>\n",
              "      <td></td>\n",
              "      <td></td>\n",
              "      <td></td>\n",
              "      <td></td>\n",
              "      <td>Vo5 Wax Styling Jar 75ml</td>\n",
              "      <td>elida</td>\n",
              "    </tr>\n",
              "    <tr>\n",
              "      <th>3</th>\n",
              "      <td>00000050398676</td>\n",
              "      <td>gum</td>\n",
              "      <td>Vo5 Gum Texturising Tin 75ml</td>\n",
              "      <td>Texturising Gum shapes hair and is great for s...</td>\n",
              "      <td>https://www.vo5.co.uk/products/men/extra-hold/...</td>\n",
              "      <td>https://postimg.cc/N5FDp3sZ</td>\n",
              "      <td></td>\n",
              "      <td></td>\n",
              "      <td></td>\n",
              "      <td></td>\n",
              "      <td></td>\n",
              "      <td></td>\n",
              "      <td>Vo5 Gum Texturising Tin 75ml</td>\n",
              "      <td>elida</td>\n",
              "    </tr>\n",
              "    <tr>\n",
              "      <th>4</th>\n",
              "      <td>05012254066409</td>\n",
              "      <td>paste</td>\n",
              "      <td>Vo5 Paste Extreme Style Matt Pump 100ml</td>\n",
              "      <td>Use Matt Styling Paste to shape hair with rewo...</td>\n",
              "      <td>https://www.vo5.co.uk/products/men/extra-hold/...</td>\n",
              "      <td>https://postimg.cc/PPh7MXNy</td>\n",
              "      <td></td>\n",
              "      <td></td>\n",
              "      <td></td>\n",
              "      <td></td>\n",
              "      <td></td>\n",
              "      <td></td>\n",
              "      <td>Vo5 Paste Extreme Style Matt Pump 100ml</td>\n",
              "      <td>elida</td>\n",
              "    </tr>\n",
              "  </tbody>\n",
              "</table>\n",
              "</div>\n",
              "      <button class=\"colab-df-convert\" onclick=\"convertToInteractive('df-dd9bccca-bf4f-434d-b502-3f12c35ccce9')\"\n",
              "              title=\"Convert this dataframe to an interactive table.\"\n",
              "              style=\"display:none;\">\n",
              "        \n",
              "  <svg xmlns=\"http://www.w3.org/2000/svg\" height=\"24px\"viewBox=\"0 0 24 24\"\n",
              "       width=\"24px\">\n",
              "    <path d=\"M0 0h24v24H0V0z\" fill=\"none\"/>\n",
              "    <path d=\"M18.56 5.44l.94 2.06.94-2.06 2.06-.94-2.06-.94-.94-2.06-.94 2.06-2.06.94zm-11 1L8.5 8.5l.94-2.06 2.06-.94-2.06-.94L8.5 2.5l-.94 2.06-2.06.94zm10 10l.94 2.06.94-2.06 2.06-.94-2.06-.94-.94-2.06-.94 2.06-2.06.94z\"/><path d=\"M17.41 7.96l-1.37-1.37c-.4-.4-.92-.59-1.43-.59-.52 0-1.04.2-1.43.59L10.3 9.45l-7.72 7.72c-.78.78-.78 2.05 0 2.83L4 21.41c.39.39.9.59 1.41.59.51 0 1.02-.2 1.41-.59l7.78-7.78 2.81-2.81c.8-.78.8-2.07 0-2.86zM5.41 20L4 18.59l7.72-7.72 1.47 1.35L5.41 20z\"/>\n",
              "  </svg>\n",
              "      </button>\n",
              "      \n",
              "  <style>\n",
              "    .colab-df-container {\n",
              "      display:flex;\n",
              "      flex-wrap:wrap;\n",
              "      gap: 12px;\n",
              "    }\n",
              "\n",
              "    .colab-df-convert {\n",
              "      background-color: #E8F0FE;\n",
              "      border: none;\n",
              "      border-radius: 50%;\n",
              "      cursor: pointer;\n",
              "      display: none;\n",
              "      fill: #1967D2;\n",
              "      height: 32px;\n",
              "      padding: 0 0 0 0;\n",
              "      width: 32px;\n",
              "    }\n",
              "\n",
              "    .colab-df-convert:hover {\n",
              "      background-color: #E2EBFA;\n",
              "      box-shadow: 0px 1px 2px rgba(60, 64, 67, 0.3), 0px 1px 3px 1px rgba(60, 64, 67, 0.15);\n",
              "      fill: #174EA6;\n",
              "    }\n",
              "\n",
              "    [theme=dark] .colab-df-convert {\n",
              "      background-color: #3B4455;\n",
              "      fill: #D2E3FC;\n",
              "    }\n",
              "\n",
              "    [theme=dark] .colab-df-convert:hover {\n",
              "      background-color: #434B5C;\n",
              "      box-shadow: 0px 1px 3px 1px rgba(0, 0, 0, 0.15);\n",
              "      filter: drop-shadow(0px 1px 2px rgba(0, 0, 0, 0.3));\n",
              "      fill: #FFFFFF;\n",
              "    }\n",
              "  </style>\n",
              "\n",
              "      <script>\n",
              "        const buttonEl =\n",
              "          document.querySelector('#df-dd9bccca-bf4f-434d-b502-3f12c35ccce9 button.colab-df-convert');\n",
              "        buttonEl.style.display =\n",
              "          google.colab.kernel.accessAllowed ? 'block' : 'none';\n",
              "\n",
              "        async function convertToInteractive(key) {\n",
              "          const element = document.querySelector('#df-dd9bccca-bf4f-434d-b502-3f12c35ccce9');\n",
              "          const dataTable =\n",
              "            await google.colab.kernel.invokeFunction('convertToInteractive',\n",
              "                                                     [key], {});\n",
              "          if (!dataTable) return;\n",
              "\n",
              "          const docLinkHtml = 'Like what you see? Visit the ' +\n",
              "            '<a target=\"_blank\" href=https://colab.research.google.com/notebooks/data_table.ipynb>data table notebook</a>'\n",
              "            + ' to learn more about interactive tables.';\n",
              "          element.innerHTML = '';\n",
              "          dataTable['output_type'] = 'display_data';\n",
              "          await google.colab.output.renderOutput(dataTable, element);\n",
              "          const docLink = document.createElement('div');\n",
              "          docLink.innerHTML = docLinkHtml;\n",
              "          element.appendChild(docLink);\n",
              "        }\n",
              "      </script>\n",
              "    </div>\n",
              "  </div>\n",
              "  "
            ]
          },
          "metadata": {},
          "execution_count": 18
        }
      ]
    },
    {
      "cell_type": "code",
      "source": [
        "\n",
        "\n",
        "# use to_dict() to convert dataframe to dictionary\n",
        "pim_df1_dict = pim_df1.to_dict()\n",
        "\n",
        "# create a new dictionary with desired structure\n",
        "result = {productName: [{'routineName': pim_df1_dict['routineName'][i],\n",
        "\t\t\t\t\t\t'category': pim_df1_dict['category'][i],\n",
        "\t\t\t\t\t\t'shortDescription':pim_df1_dict['shortDescription'][i],\n",
        "\t\t\t\t\t\t'pageUrl': pim_df1_dict['pageUrl'][i],\n",
        "\t\t\t\t\t\t'productName': pim_df1_dict['productName'][i],\n",
        "\t\t\t\t\t\t'variants':pim_df1['variants'][i], \n",
        "\t\t\t\t\t\t'range':pim_df1['range'][i],\n",
        "\t\t\t\t\t\t'score':pim_df1['score'][i], \n",
        "\t\t\t\t\t\t'brandName':pim_df1['brandName'][i],\n",
        "\t\t\t\t\t\t'imageUrl': pim_df1_dict['imageUrl'][i],\n",
        "\t\t\t\t\t\t'smartProductId':pim_df1['smartProductId'][i], \n",
        "\t\t\t\t\t\t'identifierValue': pim_df1_dict['identifierValue'][i],\n",
        "\t\t\t\t\t\t'imageAltText':pim_df1['imageAltText'][i], \n",
        "\t\t\t\t\t\t'productDescription': pim_df1_dict['productDescription'][i]}]\n",
        "            for i, productName in enumerate(pim_df1_dict['productName'].values())}\n"
      ],
      "metadata": {
        "id": "7sqwnSqtZcki"
      },
      "execution_count": 19,
      "outputs": []
    },
    {
      "cell_type": "code",
      "source": [
        "# To check the output of the dictionary\n",
        "\n",
        "result"
      ],
      "metadata": {
        "id": "LJslHv8maHCE"
      },
      "execution_count": null,
      "outputs": []
    },
    {
      "cell_type": "code",
      "source": [
        "# replacing NaN with default\n",
        "df2_new = df1.copy()\n",
        "\n",
        "df2_new = df2_new.fillna('default')"
      ],
      "metadata": {
        "id": "izfO34M3SMyD"
      },
      "execution_count": 21,
      "outputs": []
    },
    {
      "cell_type": "code",
      "source": [
        "df2_new.head()"
      ],
      "metadata": {
        "colab": {
          "base_uri": "https://localhost:8080/",
          "height": 441
        },
        "id": "wsJKH5ADWgp2",
        "outputId": "61497165-6ec4-47b6-ed95-ff1b4f32abe8"
      },
      "execution_count": 22,
      "outputs": [
        {
          "output_type": "execute_result",
          "data": {
            "text/plain": [
              "                    Q1        Q2          Q3          Q4                                   P1                                       P2                                        P3                              P4\n",
              "0  Fine, Medium, Thick  Straight   Hydration  Hair dryer  VO5 Hairdryer Protection Mist 200ml            Vo5 Serum Invisible Pump 50ml                                   default                         default\n",
              "0  Fine, Medium, Thick      Wavy   Hydration  Hair dryer  VO5 Hairdryer Protection Mist 200ml            Vo5 Serum Invisible Pump 50ml                                   default                         default\n",
              "1  Fine, Medium, Thick  Straight      Volume  Hair dryer  VO5 Hairdryer Protection Mist 200ml  Vo5 Heat Protect Lot Spr Blow Dry 200ml          Vo5 Gel Spray Volume Boost 200ml                         default\n",
              "1  Fine, Medium, Thick      Wavy      Volume  Hair dryer  VO5 Hairdryer Protection Mist 200ml  Vo5 Heat Protect Lot Spr Blow Dry 200ml          Vo5 Gel Spray Volume Boost 200ml                         default\n",
              "2  Fine, Medium, Thick  Straight  Smoothness  Hair dryer  VO5 Hairdryer Protection Mist 200ml            Vo5 Serum Invisible Pump 50ml  V05 Taming Spray Heat Defence Aero 100ml  Vo5 Cream Frizzfree Tube 125ml"
            ],
            "text/html": [
              "\n",
              "  <div id=\"df-9c87b75a-257f-4724-83da-478dce02b4bd\">\n",
              "    <div class=\"colab-df-container\">\n",
              "      <div>\n",
              "<style scoped>\n",
              "    .dataframe tbody tr th:only-of-type {\n",
              "        vertical-align: middle;\n",
              "    }\n",
              "\n",
              "    .dataframe tbody tr th {\n",
              "        vertical-align: top;\n",
              "    }\n",
              "\n",
              "    .dataframe thead th {\n",
              "        text-align: right;\n",
              "    }\n",
              "</style>\n",
              "<table border=\"1\" class=\"dataframe\">\n",
              "  <thead>\n",
              "    <tr style=\"text-align: right;\">\n",
              "      <th></th>\n",
              "      <th>Q1</th>\n",
              "      <th>Q2</th>\n",
              "      <th>Q3</th>\n",
              "      <th>Q4</th>\n",
              "      <th>P1</th>\n",
              "      <th>P2</th>\n",
              "      <th>P3</th>\n",
              "      <th>P4</th>\n",
              "    </tr>\n",
              "  </thead>\n",
              "  <tbody>\n",
              "    <tr>\n",
              "      <th>0</th>\n",
              "      <td>Fine, Medium, Thick</td>\n",
              "      <td>Straight</td>\n",
              "      <td>Hydration</td>\n",
              "      <td>Hair dryer</td>\n",
              "      <td>VO5 Hairdryer Protection Mist 200ml</td>\n",
              "      <td>Vo5 Serum Invisible Pump 50ml</td>\n",
              "      <td>default</td>\n",
              "      <td>default</td>\n",
              "    </tr>\n",
              "    <tr>\n",
              "      <th>0</th>\n",
              "      <td>Fine, Medium, Thick</td>\n",
              "      <td>Wavy</td>\n",
              "      <td>Hydration</td>\n",
              "      <td>Hair dryer</td>\n",
              "      <td>VO5 Hairdryer Protection Mist 200ml</td>\n",
              "      <td>Vo5 Serum Invisible Pump 50ml</td>\n",
              "      <td>default</td>\n",
              "      <td>default</td>\n",
              "    </tr>\n",
              "    <tr>\n",
              "      <th>1</th>\n",
              "      <td>Fine, Medium, Thick</td>\n",
              "      <td>Straight</td>\n",
              "      <td>Volume</td>\n",
              "      <td>Hair dryer</td>\n",
              "      <td>VO5 Hairdryer Protection Mist 200ml</td>\n",
              "      <td>Vo5 Heat Protect Lot Spr Blow Dry 200ml</td>\n",
              "      <td>Vo5 Gel Spray Volume Boost 200ml</td>\n",
              "      <td>default</td>\n",
              "    </tr>\n",
              "    <tr>\n",
              "      <th>1</th>\n",
              "      <td>Fine, Medium, Thick</td>\n",
              "      <td>Wavy</td>\n",
              "      <td>Volume</td>\n",
              "      <td>Hair dryer</td>\n",
              "      <td>VO5 Hairdryer Protection Mist 200ml</td>\n",
              "      <td>Vo5 Heat Protect Lot Spr Blow Dry 200ml</td>\n",
              "      <td>Vo5 Gel Spray Volume Boost 200ml</td>\n",
              "      <td>default</td>\n",
              "    </tr>\n",
              "    <tr>\n",
              "      <th>2</th>\n",
              "      <td>Fine, Medium, Thick</td>\n",
              "      <td>Straight</td>\n",
              "      <td>Smoothness</td>\n",
              "      <td>Hair dryer</td>\n",
              "      <td>VO5 Hairdryer Protection Mist 200ml</td>\n",
              "      <td>Vo5 Serum Invisible Pump 50ml</td>\n",
              "      <td>V05 Taming Spray Heat Defence Aero 100ml</td>\n",
              "      <td>Vo5 Cream Frizzfree Tube 125ml</td>\n",
              "    </tr>\n",
              "  </tbody>\n",
              "</table>\n",
              "</div>\n",
              "      <button class=\"colab-df-convert\" onclick=\"convertToInteractive('df-9c87b75a-257f-4724-83da-478dce02b4bd')\"\n",
              "              title=\"Convert this dataframe to an interactive table.\"\n",
              "              style=\"display:none;\">\n",
              "        \n",
              "  <svg xmlns=\"http://www.w3.org/2000/svg\" height=\"24px\"viewBox=\"0 0 24 24\"\n",
              "       width=\"24px\">\n",
              "    <path d=\"M0 0h24v24H0V0z\" fill=\"none\"/>\n",
              "    <path d=\"M18.56 5.44l.94 2.06.94-2.06 2.06-.94-2.06-.94-.94-2.06-.94 2.06-2.06.94zm-11 1L8.5 8.5l.94-2.06 2.06-.94-2.06-.94L8.5 2.5l-.94 2.06-2.06.94zm10 10l.94 2.06.94-2.06 2.06-.94-2.06-.94-.94-2.06-.94 2.06-2.06.94z\"/><path d=\"M17.41 7.96l-1.37-1.37c-.4-.4-.92-.59-1.43-.59-.52 0-1.04.2-1.43.59L10.3 9.45l-7.72 7.72c-.78.78-.78 2.05 0 2.83L4 21.41c.39.39.9.59 1.41.59.51 0 1.02-.2 1.41-.59l7.78-7.78 2.81-2.81c.8-.78.8-2.07 0-2.86zM5.41 20L4 18.59l7.72-7.72 1.47 1.35L5.41 20z\"/>\n",
              "  </svg>\n",
              "      </button>\n",
              "      \n",
              "  <style>\n",
              "    .colab-df-container {\n",
              "      display:flex;\n",
              "      flex-wrap:wrap;\n",
              "      gap: 12px;\n",
              "    }\n",
              "\n",
              "    .colab-df-convert {\n",
              "      background-color: #E8F0FE;\n",
              "      border: none;\n",
              "      border-radius: 50%;\n",
              "      cursor: pointer;\n",
              "      display: none;\n",
              "      fill: #1967D2;\n",
              "      height: 32px;\n",
              "      padding: 0 0 0 0;\n",
              "      width: 32px;\n",
              "    }\n",
              "\n",
              "    .colab-df-convert:hover {\n",
              "      background-color: #E2EBFA;\n",
              "      box-shadow: 0px 1px 2px rgba(60, 64, 67, 0.3), 0px 1px 3px 1px rgba(60, 64, 67, 0.15);\n",
              "      fill: #174EA6;\n",
              "    }\n",
              "\n",
              "    [theme=dark] .colab-df-convert {\n",
              "      background-color: #3B4455;\n",
              "      fill: #D2E3FC;\n",
              "    }\n",
              "\n",
              "    [theme=dark] .colab-df-convert:hover {\n",
              "      background-color: #434B5C;\n",
              "      box-shadow: 0px 1px 3px 1px rgba(0, 0, 0, 0.15);\n",
              "      filter: drop-shadow(0px 1px 2px rgba(0, 0, 0, 0.3));\n",
              "      fill: #FFFFFF;\n",
              "    }\n",
              "  </style>\n",
              "\n",
              "      <script>\n",
              "        const buttonEl =\n",
              "          document.querySelector('#df-9c87b75a-257f-4724-83da-478dce02b4bd button.colab-df-convert');\n",
              "        buttonEl.style.display =\n",
              "          google.colab.kernel.accessAllowed ? 'block' : 'none';\n",
              "\n",
              "        async function convertToInteractive(key) {\n",
              "          const element = document.querySelector('#df-9c87b75a-257f-4724-83da-478dce02b4bd');\n",
              "          const dataTable =\n",
              "            await google.colab.kernel.invokeFunction('convertToInteractive',\n",
              "                                                     [key], {});\n",
              "          if (!dataTable) return;\n",
              "\n",
              "          const docLinkHtml = 'Like what you see? Visit the ' +\n",
              "            '<a target=\"_blank\" href=https://colab.research.google.com/notebooks/data_table.ipynb>data table notebook</a>'\n",
              "            + ' to learn more about interactive tables.';\n",
              "          element.innerHTML = '';\n",
              "          dataTable['output_type'] = 'display_data';\n",
              "          await google.colab.output.renderOutput(dataTable, element);\n",
              "          const docLink = document.createElement('div');\n",
              "          docLink.innerHTML = docLinkHtml;\n",
              "          element.appendChild(docLink);\n",
              "        }\n",
              "      </script>\n",
              "    </div>\n",
              "  </div>\n",
              "  "
            ]
          },
          "metadata": {},
          "execution_count": 22
        }
      ]
    },
    {
      "cell_type": "code",
      "source": [
        "# df2_new['IdentifierValue'] = df2_new['P1'].apply(lambda x: [pim_df2.get(item) for item in x])\n",
        "df2_new['P1'] = df2_new['P1'].apply(lambda x: result.get(x))\n",
        "df2_new['P2'] = df2_new['P2'].apply(lambda x: result.get(x))\n",
        "df2_new['P3'] = df2_new['P3'].apply(lambda x: result.get(x))\n",
        "df2_new['P4'] = df2_new['P4'].apply(lambda x: result.get(x))"
      ],
      "metadata": {
        "id": "cDJSdUnWWgoK"
      },
      "execution_count": 23,
      "outputs": []
    },
    {
      "cell_type": "code",
      "source": [
        "len(df2_new)"
      ],
      "metadata": {
        "colab": {
          "base_uri": "https://localhost:8080/"
        },
        "id": "bNyMCykDiMnI",
        "outputId": "b3b9277a-8e98-4c0b-cf74-8ee7f6fec8d3"
      },
      "execution_count": 24,
      "outputs": [
        {
          "output_type": "execute_result",
          "data": {
            "text/plain": [
              "12870"
            ]
          },
          "metadata": {},
          "execution_count": 24
        }
      ]
    },
    {
      "cell_type": "code",
      "source": [
        "df2_new.columns"
      ],
      "metadata": {
        "colab": {
          "base_uri": "https://localhost:8080/"
        },
        "id": "InmRTkYVWgl5",
        "outputId": "3f4be760-50ae-4ab5-98ce-3e82e57da0d8"
      },
      "execution_count": 25,
      "outputs": [
        {
          "output_type": "execute_result",
          "data": {
            "text/plain": [
              "Index(['Q1', 'Q2', 'Q3', 'Q4', 'P1', 'P2', 'P3', 'P4'], dtype='object')"
            ]
          },
          "metadata": {},
          "execution_count": 25
        }
      ]
    },
    {
      "cell_type": "code",
      "source": [
        "df2_new.to_csv('initial_output_file.csv')"
      ],
      "metadata": {
        "id": "axofRTQ3iDZ2"
      },
      "execution_count": 26,
      "outputs": []
    },
    {
      "cell_type": "code",
      "source": [
        "df2_new.head()"
      ],
      "metadata": {
        "id": "GWHmtGGWpNnY",
        "colab": {
          "base_uri": "https://localhost:8080/",
          "height": 424
        },
        "outputId": "5d8faa66-cb15-4a2d-91f6-613ec3d4a80d"
      },
      "execution_count": 27,
      "outputs": [
        {
          "output_type": "execute_result",
          "data": {
            "text/plain": [
              "                    Q1        Q2          Q3          Q4                                                 P1                                                 P2                                                 P3                                                 P4\n",
              "0  Fine, Medium, Thick  Straight   Hydration  Hair dryer  [{'routineName': '', 'category': 'mist', 'shor...  [{'routineName': '', 'category': 'serum', 'sho...                                               None                                               None\n",
              "0  Fine, Medium, Thick      Wavy   Hydration  Hair dryer  [{'routineName': '', 'category': 'mist', 'shor...  [{'routineName': '', 'category': 'serum', 'sho...                                               None                                               None\n",
              "1  Fine, Medium, Thick  Straight      Volume  Hair dryer  [{'routineName': '', 'category': 'mist', 'shor...  [{'routineName': '', 'category': 'spray', 'sho...  [{'routineName': '', 'category': 'gel', 'short...                                               None\n",
              "1  Fine, Medium, Thick      Wavy      Volume  Hair dryer  [{'routineName': '', 'category': 'mist', 'shor...  [{'routineName': '', 'category': 'spray', 'sho...  [{'routineName': '', 'category': 'gel', 'short...                                               None\n",
              "2  Fine, Medium, Thick  Straight  Smoothness  Hair dryer  [{'routineName': '', 'category': 'mist', 'shor...  [{'routineName': '', 'category': 'serum', 'sho...  [{'routineName': '', 'category': 'spray', 'sho...  [{'routineName': '', 'category': 'cream', 'sho..."
            ],
            "text/html": [
              "\n",
              "  <div id=\"df-f701e747-a0e8-49a0-9ecb-d4e176a0a1d4\">\n",
              "    <div class=\"colab-df-container\">\n",
              "      <div>\n",
              "<style scoped>\n",
              "    .dataframe tbody tr th:only-of-type {\n",
              "        vertical-align: middle;\n",
              "    }\n",
              "\n",
              "    .dataframe tbody tr th {\n",
              "        vertical-align: top;\n",
              "    }\n",
              "\n",
              "    .dataframe thead th {\n",
              "        text-align: right;\n",
              "    }\n",
              "</style>\n",
              "<table border=\"1\" class=\"dataframe\">\n",
              "  <thead>\n",
              "    <tr style=\"text-align: right;\">\n",
              "      <th></th>\n",
              "      <th>Q1</th>\n",
              "      <th>Q2</th>\n",
              "      <th>Q3</th>\n",
              "      <th>Q4</th>\n",
              "      <th>P1</th>\n",
              "      <th>P2</th>\n",
              "      <th>P3</th>\n",
              "      <th>P4</th>\n",
              "    </tr>\n",
              "  </thead>\n",
              "  <tbody>\n",
              "    <tr>\n",
              "      <th>0</th>\n",
              "      <td>Fine, Medium, Thick</td>\n",
              "      <td>Straight</td>\n",
              "      <td>Hydration</td>\n",
              "      <td>Hair dryer</td>\n",
              "      <td>[{'routineName': '', 'category': 'mist', 'shor...</td>\n",
              "      <td>[{'routineName': '', 'category': 'serum', 'sho...</td>\n",
              "      <td>None</td>\n",
              "      <td>None</td>\n",
              "    </tr>\n",
              "    <tr>\n",
              "      <th>0</th>\n",
              "      <td>Fine, Medium, Thick</td>\n",
              "      <td>Wavy</td>\n",
              "      <td>Hydration</td>\n",
              "      <td>Hair dryer</td>\n",
              "      <td>[{'routineName': '', 'category': 'mist', 'shor...</td>\n",
              "      <td>[{'routineName': '', 'category': 'serum', 'sho...</td>\n",
              "      <td>None</td>\n",
              "      <td>None</td>\n",
              "    </tr>\n",
              "    <tr>\n",
              "      <th>1</th>\n",
              "      <td>Fine, Medium, Thick</td>\n",
              "      <td>Straight</td>\n",
              "      <td>Volume</td>\n",
              "      <td>Hair dryer</td>\n",
              "      <td>[{'routineName': '', 'category': 'mist', 'shor...</td>\n",
              "      <td>[{'routineName': '', 'category': 'spray', 'sho...</td>\n",
              "      <td>[{'routineName': '', 'category': 'gel', 'short...</td>\n",
              "      <td>None</td>\n",
              "    </tr>\n",
              "    <tr>\n",
              "      <th>1</th>\n",
              "      <td>Fine, Medium, Thick</td>\n",
              "      <td>Wavy</td>\n",
              "      <td>Volume</td>\n",
              "      <td>Hair dryer</td>\n",
              "      <td>[{'routineName': '', 'category': 'mist', 'shor...</td>\n",
              "      <td>[{'routineName': '', 'category': 'spray', 'sho...</td>\n",
              "      <td>[{'routineName': '', 'category': 'gel', 'short...</td>\n",
              "      <td>None</td>\n",
              "    </tr>\n",
              "    <tr>\n",
              "      <th>2</th>\n",
              "      <td>Fine, Medium, Thick</td>\n",
              "      <td>Straight</td>\n",
              "      <td>Smoothness</td>\n",
              "      <td>Hair dryer</td>\n",
              "      <td>[{'routineName': '', 'category': 'mist', 'shor...</td>\n",
              "      <td>[{'routineName': '', 'category': 'serum', 'sho...</td>\n",
              "      <td>[{'routineName': '', 'category': 'spray', 'sho...</td>\n",
              "      <td>[{'routineName': '', 'category': 'cream', 'sho...</td>\n",
              "    </tr>\n",
              "  </tbody>\n",
              "</table>\n",
              "</div>\n",
              "      <button class=\"colab-df-convert\" onclick=\"convertToInteractive('df-f701e747-a0e8-49a0-9ecb-d4e176a0a1d4')\"\n",
              "              title=\"Convert this dataframe to an interactive table.\"\n",
              "              style=\"display:none;\">\n",
              "        \n",
              "  <svg xmlns=\"http://www.w3.org/2000/svg\" height=\"24px\"viewBox=\"0 0 24 24\"\n",
              "       width=\"24px\">\n",
              "    <path d=\"M0 0h24v24H0V0z\" fill=\"none\"/>\n",
              "    <path d=\"M18.56 5.44l.94 2.06.94-2.06 2.06-.94-2.06-.94-.94-2.06-.94 2.06-2.06.94zm-11 1L8.5 8.5l.94-2.06 2.06-.94-2.06-.94L8.5 2.5l-.94 2.06-2.06.94zm10 10l.94 2.06.94-2.06 2.06-.94-2.06-.94-.94-2.06-.94 2.06-2.06.94z\"/><path d=\"M17.41 7.96l-1.37-1.37c-.4-.4-.92-.59-1.43-.59-.52 0-1.04.2-1.43.59L10.3 9.45l-7.72 7.72c-.78.78-.78 2.05 0 2.83L4 21.41c.39.39.9.59 1.41.59.51 0 1.02-.2 1.41-.59l7.78-7.78 2.81-2.81c.8-.78.8-2.07 0-2.86zM5.41 20L4 18.59l7.72-7.72 1.47 1.35L5.41 20z\"/>\n",
              "  </svg>\n",
              "      </button>\n",
              "      \n",
              "  <style>\n",
              "    .colab-df-container {\n",
              "      display:flex;\n",
              "      flex-wrap:wrap;\n",
              "      gap: 12px;\n",
              "    }\n",
              "\n",
              "    .colab-df-convert {\n",
              "      background-color: #E8F0FE;\n",
              "      border: none;\n",
              "      border-radius: 50%;\n",
              "      cursor: pointer;\n",
              "      display: none;\n",
              "      fill: #1967D2;\n",
              "      height: 32px;\n",
              "      padding: 0 0 0 0;\n",
              "      width: 32px;\n",
              "    }\n",
              "\n",
              "    .colab-df-convert:hover {\n",
              "      background-color: #E2EBFA;\n",
              "      box-shadow: 0px 1px 2px rgba(60, 64, 67, 0.3), 0px 1px 3px 1px rgba(60, 64, 67, 0.15);\n",
              "      fill: #174EA6;\n",
              "    }\n",
              "\n",
              "    [theme=dark] .colab-df-convert {\n",
              "      background-color: #3B4455;\n",
              "      fill: #D2E3FC;\n",
              "    }\n",
              "\n",
              "    [theme=dark] .colab-df-convert:hover {\n",
              "      background-color: #434B5C;\n",
              "      box-shadow: 0px 1px 3px 1px rgba(0, 0, 0, 0.15);\n",
              "      filter: drop-shadow(0px 1px 2px rgba(0, 0, 0, 0.3));\n",
              "      fill: #FFFFFF;\n",
              "    }\n",
              "  </style>\n",
              "\n",
              "      <script>\n",
              "        const buttonEl =\n",
              "          document.querySelector('#df-f701e747-a0e8-49a0-9ecb-d4e176a0a1d4 button.colab-df-convert');\n",
              "        buttonEl.style.display =\n",
              "          google.colab.kernel.accessAllowed ? 'block' : 'none';\n",
              "\n",
              "        async function convertToInteractive(key) {\n",
              "          const element = document.querySelector('#df-f701e747-a0e8-49a0-9ecb-d4e176a0a1d4');\n",
              "          const dataTable =\n",
              "            await google.colab.kernel.invokeFunction('convertToInteractive',\n",
              "                                                     [key], {});\n",
              "          if (!dataTable) return;\n",
              "\n",
              "          const docLinkHtml = 'Like what you see? Visit the ' +\n",
              "            '<a target=\"_blank\" href=https://colab.research.google.com/notebooks/data_table.ipynb>data table notebook</a>'\n",
              "            + ' to learn more about interactive tables.';\n",
              "          element.innerHTML = '';\n",
              "          dataTable['output_type'] = 'display_data';\n",
              "          await google.colab.output.renderOutput(dataTable, element);\n",
              "          const docLink = document.createElement('div');\n",
              "          docLink.innerHTML = docLinkHtml;\n",
              "          element.appendChild(docLink);\n",
              "        }\n",
              "      </script>\n",
              "    </div>\n",
              "  </div>\n",
              "  "
            ]
          },
          "metadata": {},
          "execution_count": 27
        }
      ]
    },
    {
      "cell_type": "markdown",
      "source": [
        "## Creating a composite key to create individual json files\n",
        "\n",
        "1.   First add P1 column in df3\n",
        "2.   Join P1 column in df3 with the dictionary created from pim_df to get the identifier value\n",
        "3. Load the json file and explode all the columns\n",
        "4. create another dictionary from this json_df\n",
        "5. join with the column Q1,Q2,Q3 and Q4 and generate the response id\n",
        "6. generate the composite key by joining r1_r2_r3_r4_identifierValue\n",
        "\n",
        "\n"
      ],
      "metadata": {
        "id": "7fZyUtv9r315"
      }
    },
    {
      "cell_type": "markdown",
      "source": [
        "Step 1 and 2 - As mentioned above"
      ],
      "metadata": {
        "id": "eVlAJ7h9vusF"
      }
    },
    {
      "cell_type": "code",
      "source": [
        "\n",
        "df3 = df2_new.copy()\n",
        "df3['IdentifierValue'] = df1['P1'].copy()\n",
        "# df3.head()\n",
        "\n",
        "pim_df2 = pim_df1[['identifierValue','productName']].copy()\n",
        "pim_df2 = pd.Series(pim_df2.identifierValue.values, index=pim_df2.productName).to_dict()\n",
        "# pim_df2\n",
        "\n",
        "df3['IdentifierValue'] = df3['IdentifierValue'].apply(lambda x: pim_df2.get(x))\n",
        "\n",
        "# Here now we have to explode Q1 column\n",
        "# Splitting the values present in the column into multiple rows based on the separator\t\n",
        "df3 = df3.assign(Q1=df1.Q1.str.split(\", \")).explode('Q1')\n",
        "col_list = ['Q1','Q2','Q3','Q4']\n",
        "for col in col_list:\n",
        "  df3[col] = df3[col].str.lower()\n",
        "len(df3)"
      ],
      "metadata": {
        "colab": {
          "base_uri": "https://localhost:8080/"
        },
        "id": "09QMrfMruMF2",
        "outputId": "5fa478ca-ddd6-4c52-8d6c-b6c01867ee83"
      },
      "execution_count": 28,
      "outputs": [
        {
          "output_type": "execute_result",
          "data": {
            "text/plain": [
              "38610"
            ]
          },
          "metadata": {},
          "execution_count": 28
        }
      ]
    },
    {
      "cell_type": "code",
      "source": [
        "df3.head()"
      ],
      "metadata": {
        "colab": {
          "base_uri": "https://localhost:8080/",
          "height": 424
        },
        "id": "2-IOgAUyuMCd",
        "outputId": "eaecd2c3-896e-47b7-e005-96dffe51aa0d"
      },
      "execution_count": 29,
      "outputs": [
        {
          "output_type": "execute_result",
          "data": {
            "text/plain": [
              "       Q1        Q2         Q3          Q4                                                 P1                                                 P2    P3    P4 IdentifierValue\n",
              "0    fine  straight  hydration  hair dryer  [{'routineName': '', 'category': 'mist', 'shor...  [{'routineName': '', 'category': 'serum', 'sho...  None  None  08710908852053\n",
              "0  medium  straight  hydration  hair dryer  [{'routineName': '', 'category': 'mist', 'shor...  [{'routineName': '', 'category': 'serum', 'sho...  None  None  08710908852053\n",
              "0   thick  straight  hydration  hair dryer  [{'routineName': '', 'category': 'mist', 'shor...  [{'routineName': '', 'category': 'serum', 'sho...  None  None  08710908852053\n",
              "0    fine      wavy  hydration  hair dryer  [{'routineName': '', 'category': 'mist', 'shor...  [{'routineName': '', 'category': 'serum', 'sho...  None  None  08710908852053\n",
              "0  medium      wavy  hydration  hair dryer  [{'routineName': '', 'category': 'mist', 'shor...  [{'routineName': '', 'category': 'serum', 'sho...  None  None  08710908852053"
            ],
            "text/html": [
              "\n",
              "  <div id=\"df-a3eaec26-cbb2-44aa-9daa-89b4cda6c369\">\n",
              "    <div class=\"colab-df-container\">\n",
              "      <div>\n",
              "<style scoped>\n",
              "    .dataframe tbody tr th:only-of-type {\n",
              "        vertical-align: middle;\n",
              "    }\n",
              "\n",
              "    .dataframe tbody tr th {\n",
              "        vertical-align: top;\n",
              "    }\n",
              "\n",
              "    .dataframe thead th {\n",
              "        text-align: right;\n",
              "    }\n",
              "</style>\n",
              "<table border=\"1\" class=\"dataframe\">\n",
              "  <thead>\n",
              "    <tr style=\"text-align: right;\">\n",
              "      <th></th>\n",
              "      <th>Q1</th>\n",
              "      <th>Q2</th>\n",
              "      <th>Q3</th>\n",
              "      <th>Q4</th>\n",
              "      <th>P1</th>\n",
              "      <th>P2</th>\n",
              "      <th>P3</th>\n",
              "      <th>P4</th>\n",
              "      <th>IdentifierValue</th>\n",
              "    </tr>\n",
              "  </thead>\n",
              "  <tbody>\n",
              "    <tr>\n",
              "      <th>0</th>\n",
              "      <td>fine</td>\n",
              "      <td>straight</td>\n",
              "      <td>hydration</td>\n",
              "      <td>hair dryer</td>\n",
              "      <td>[{'routineName': '', 'category': 'mist', 'shor...</td>\n",
              "      <td>[{'routineName': '', 'category': 'serum', 'sho...</td>\n",
              "      <td>None</td>\n",
              "      <td>None</td>\n",
              "      <td>08710908852053</td>\n",
              "    </tr>\n",
              "    <tr>\n",
              "      <th>0</th>\n",
              "      <td>medium</td>\n",
              "      <td>straight</td>\n",
              "      <td>hydration</td>\n",
              "      <td>hair dryer</td>\n",
              "      <td>[{'routineName': '', 'category': 'mist', 'shor...</td>\n",
              "      <td>[{'routineName': '', 'category': 'serum', 'sho...</td>\n",
              "      <td>None</td>\n",
              "      <td>None</td>\n",
              "      <td>08710908852053</td>\n",
              "    </tr>\n",
              "    <tr>\n",
              "      <th>0</th>\n",
              "      <td>thick</td>\n",
              "      <td>straight</td>\n",
              "      <td>hydration</td>\n",
              "      <td>hair dryer</td>\n",
              "      <td>[{'routineName': '', 'category': 'mist', 'shor...</td>\n",
              "      <td>[{'routineName': '', 'category': 'serum', 'sho...</td>\n",
              "      <td>None</td>\n",
              "      <td>None</td>\n",
              "      <td>08710908852053</td>\n",
              "    </tr>\n",
              "    <tr>\n",
              "      <th>0</th>\n",
              "      <td>fine</td>\n",
              "      <td>wavy</td>\n",
              "      <td>hydration</td>\n",
              "      <td>hair dryer</td>\n",
              "      <td>[{'routineName': '', 'category': 'mist', 'shor...</td>\n",
              "      <td>[{'routineName': '', 'category': 'serum', 'sho...</td>\n",
              "      <td>None</td>\n",
              "      <td>None</td>\n",
              "      <td>08710908852053</td>\n",
              "    </tr>\n",
              "    <tr>\n",
              "      <th>0</th>\n",
              "      <td>medium</td>\n",
              "      <td>wavy</td>\n",
              "      <td>hydration</td>\n",
              "      <td>hair dryer</td>\n",
              "      <td>[{'routineName': '', 'category': 'mist', 'shor...</td>\n",
              "      <td>[{'routineName': '', 'category': 'serum', 'sho...</td>\n",
              "      <td>None</td>\n",
              "      <td>None</td>\n",
              "      <td>08710908852053</td>\n",
              "    </tr>\n",
              "  </tbody>\n",
              "</table>\n",
              "</div>\n",
              "      <button class=\"colab-df-convert\" onclick=\"convertToInteractive('df-a3eaec26-cbb2-44aa-9daa-89b4cda6c369')\"\n",
              "              title=\"Convert this dataframe to an interactive table.\"\n",
              "              style=\"display:none;\">\n",
              "        \n",
              "  <svg xmlns=\"http://www.w3.org/2000/svg\" height=\"24px\"viewBox=\"0 0 24 24\"\n",
              "       width=\"24px\">\n",
              "    <path d=\"M0 0h24v24H0V0z\" fill=\"none\"/>\n",
              "    <path d=\"M18.56 5.44l.94 2.06.94-2.06 2.06-.94-2.06-.94-.94-2.06-.94 2.06-2.06.94zm-11 1L8.5 8.5l.94-2.06 2.06-.94-2.06-.94L8.5 2.5l-.94 2.06-2.06.94zm10 10l.94 2.06.94-2.06 2.06-.94-2.06-.94-.94-2.06-.94 2.06-2.06.94z\"/><path d=\"M17.41 7.96l-1.37-1.37c-.4-.4-.92-.59-1.43-.59-.52 0-1.04.2-1.43.59L10.3 9.45l-7.72 7.72c-.78.78-.78 2.05 0 2.83L4 21.41c.39.39.9.59 1.41.59.51 0 1.02-.2 1.41-.59l7.78-7.78 2.81-2.81c.8-.78.8-2.07 0-2.86zM5.41 20L4 18.59l7.72-7.72 1.47 1.35L5.41 20z\"/>\n",
              "  </svg>\n",
              "      </button>\n",
              "      \n",
              "  <style>\n",
              "    .colab-df-container {\n",
              "      display:flex;\n",
              "      flex-wrap:wrap;\n",
              "      gap: 12px;\n",
              "    }\n",
              "\n",
              "    .colab-df-convert {\n",
              "      background-color: #E8F0FE;\n",
              "      border: none;\n",
              "      border-radius: 50%;\n",
              "      cursor: pointer;\n",
              "      display: none;\n",
              "      fill: #1967D2;\n",
              "      height: 32px;\n",
              "      padding: 0 0 0 0;\n",
              "      width: 32px;\n",
              "    }\n",
              "\n",
              "    .colab-df-convert:hover {\n",
              "      background-color: #E2EBFA;\n",
              "      box-shadow: 0px 1px 2px rgba(60, 64, 67, 0.3), 0px 1px 3px 1px rgba(60, 64, 67, 0.15);\n",
              "      fill: #174EA6;\n",
              "    }\n",
              "\n",
              "    [theme=dark] .colab-df-convert {\n",
              "      background-color: #3B4455;\n",
              "      fill: #D2E3FC;\n",
              "    }\n",
              "\n",
              "    [theme=dark] .colab-df-convert:hover {\n",
              "      background-color: #434B5C;\n",
              "      box-shadow: 0px 1px 3px 1px rgba(0, 0, 0, 0.15);\n",
              "      filter: drop-shadow(0px 1px 2px rgba(0, 0, 0, 0.3));\n",
              "      fill: #FFFFFF;\n",
              "    }\n",
              "  </style>\n",
              "\n",
              "      <script>\n",
              "        const buttonEl =\n",
              "          document.querySelector('#df-a3eaec26-cbb2-44aa-9daa-89b4cda6c369 button.colab-df-convert');\n",
              "        buttonEl.style.display =\n",
              "          google.colab.kernel.accessAllowed ? 'block' : 'none';\n",
              "\n",
              "        async function convertToInteractive(key) {\n",
              "          const element = document.querySelector('#df-a3eaec26-cbb2-44aa-9daa-89b4cda6c369');\n",
              "          const dataTable =\n",
              "            await google.colab.kernel.invokeFunction('convertToInteractive',\n",
              "                                                     [key], {});\n",
              "          if (!dataTable) return;\n",
              "\n",
              "          const docLinkHtml = 'Like what you see? Visit the ' +\n",
              "            '<a target=\"_blank\" href=https://colab.research.google.com/notebooks/data_table.ipynb>data table notebook</a>'\n",
              "            + ' to learn more about interactive tables.';\n",
              "          element.innerHTML = '';\n",
              "          dataTable['output_type'] = 'display_data';\n",
              "          await google.colab.output.renderOutput(dataTable, element);\n",
              "          const docLink = document.createElement('div');\n",
              "          docLink.innerHTML = docLinkHtml;\n",
              "          element.appendChild(docLink);\n",
              "        }\n",
              "      </script>\n",
              "    </div>\n",
              "  </div>\n",
              "  "
            ]
          },
          "metadata": {},
          "execution_count": 29
        }
      ]
    },
    {
      "cell_type": "markdown",
      "source": [
        "Step 3 : Load the json file and explode all the columns\n",
        "4. create another dictionary from this json_df\n",
        "5. join with the column Q2,Q3 and Q4 and generate the response id\n",
        "6. generate the composite key by joining r1_r2_r3_r4_identifierValue\n"
      ],
      "metadata": {
        "id": "bzNFktiUvyoS"
      }
    },
    {
      "cell_type": "code",
      "source": [
        "# Loading the json file and creating a dataframe\n",
        "\n",
        "import json\n",
        "# load data using Python JSON module\n",
        "with open('/content/elida_beauty_testing/question_response.json','r') as f:\n",
        "    data = json.loads(f.read())\n",
        "# Flatten data\n",
        "\n",
        "json_df = pd.json_normalize(data, record_path =['Q&A','responses'],meta=[['Q&A','questionId'],['Q&A','questionText'],['Q&A','questionDescription'],['Q&A','multiSelect']])\n"
      ],
      "metadata": {
        "id": "--4unZ1UuMAU"
      },
      "execution_count": 30,
      "outputs": []
    },
    {
      "cell_type": "code",
      "source": [
        "json_df.head()"
      ],
      "metadata": {
        "colab": {
          "base_uri": "https://localhost:8080/",
          "height": 687
        },
        "id": "p3o3edsnwPeT",
        "outputId": "83524254-0110-486d-f721-fe43ad9e73bb"
      },
      "execution_count": 219,
      "outputs": [
        {
          "output_type": "execute_result",
          "data": {
            "text/plain": [
              "  answerInEnglish                                          seedWords mustKeys mustNotKeys responseDescription responseID responseText Q&A.questionId         Q&A.questionText  Q&A.questionDescription Q&A.multiSelect\n",
              "0            Fine  [fine, thick, volume, smooth, glossy, soft, sh...  [tyety]          []                Fine       1111         Fine           3031  How thick is your hair?  How thick is your hair?           False\n",
              "1          Medium  [thick, volume, strength, smooth, glossy, soft...  [tyety]          []              Medium       1112       Medium           3031  How thick is your hair?  How thick is your hair?           False\n",
              "2        Straight  [straight, sleek, shiny, smooth, glossy, soft,...  [tyety]          []            Straight       2221     Straight           3032  What is your hair type?  What is your hair type?           False\n",
              "3            Wavy  [wavy, curly, smooth, glossy, soft, shiny, hyd...  [tyety]          []                Wavy       2222         Wavy           3032  What is your hair type?  What is your hair type?           False\n",
              "4           Curly  [curl, curly, dry, messy, defined, coily, smoo...  [tyety]          []               Curly       2223        Curly           3032  What is your hair type?  What is your hair type?           False"
            ],
            "text/html": [
              "\n",
              "  <div id=\"df-6b26a7f8-d929-4112-84ba-69bb0b2632f2\">\n",
              "    <div class=\"colab-df-container\">\n",
              "      <div>\n",
              "<style scoped>\n",
              "    .dataframe tbody tr th:only-of-type {\n",
              "        vertical-align: middle;\n",
              "    }\n",
              "\n",
              "    .dataframe tbody tr th {\n",
              "        vertical-align: top;\n",
              "    }\n",
              "\n",
              "    .dataframe thead th {\n",
              "        text-align: right;\n",
              "    }\n",
              "</style>\n",
              "<table border=\"1\" class=\"dataframe\">\n",
              "  <thead>\n",
              "    <tr style=\"text-align: right;\">\n",
              "      <th></th>\n",
              "      <th>answerInEnglish</th>\n",
              "      <th>seedWords</th>\n",
              "      <th>mustKeys</th>\n",
              "      <th>mustNotKeys</th>\n",
              "      <th>responseDescription</th>\n",
              "      <th>responseID</th>\n",
              "      <th>responseText</th>\n",
              "      <th>Q&amp;A.questionId</th>\n",
              "      <th>Q&amp;A.questionText</th>\n",
              "      <th>Q&amp;A.questionDescription</th>\n",
              "      <th>Q&amp;A.multiSelect</th>\n",
              "    </tr>\n",
              "  </thead>\n",
              "  <tbody>\n",
              "    <tr>\n",
              "      <th>0</th>\n",
              "      <td>Fine</td>\n",
              "      <td>[fine, thick, volume, smooth, glossy, soft, sh...</td>\n",
              "      <td>[tyety]</td>\n",
              "      <td>[]</td>\n",
              "      <td>Fine</td>\n",
              "      <td>1111</td>\n",
              "      <td>Fine</td>\n",
              "      <td>3031</td>\n",
              "      <td>How thick is your hair?</td>\n",
              "      <td>How thick is your hair?</td>\n",
              "      <td>False</td>\n",
              "    </tr>\n",
              "    <tr>\n",
              "      <th>1</th>\n",
              "      <td>Medium</td>\n",
              "      <td>[thick, volume, strength, smooth, glossy, soft...</td>\n",
              "      <td>[tyety]</td>\n",
              "      <td>[]</td>\n",
              "      <td>Medium</td>\n",
              "      <td>1112</td>\n",
              "      <td>Medium</td>\n",
              "      <td>3031</td>\n",
              "      <td>How thick is your hair?</td>\n",
              "      <td>How thick is your hair?</td>\n",
              "      <td>False</td>\n",
              "    </tr>\n",
              "    <tr>\n",
              "      <th>2</th>\n",
              "      <td>Straight</td>\n",
              "      <td>[straight, sleek, shiny, smooth, glossy, soft,...</td>\n",
              "      <td>[tyety]</td>\n",
              "      <td>[]</td>\n",
              "      <td>Straight</td>\n",
              "      <td>2221</td>\n",
              "      <td>Straight</td>\n",
              "      <td>3032</td>\n",
              "      <td>What is your hair type?</td>\n",
              "      <td>What is your hair type?</td>\n",
              "      <td>False</td>\n",
              "    </tr>\n",
              "    <tr>\n",
              "      <th>3</th>\n",
              "      <td>Wavy</td>\n",
              "      <td>[wavy, curly, smooth, glossy, soft, shiny, hyd...</td>\n",
              "      <td>[tyety]</td>\n",
              "      <td>[]</td>\n",
              "      <td>Wavy</td>\n",
              "      <td>2222</td>\n",
              "      <td>Wavy</td>\n",
              "      <td>3032</td>\n",
              "      <td>What is your hair type?</td>\n",
              "      <td>What is your hair type?</td>\n",
              "      <td>False</td>\n",
              "    </tr>\n",
              "    <tr>\n",
              "      <th>4</th>\n",
              "      <td>Curly</td>\n",
              "      <td>[curl, curly, dry, messy, defined, coily, smoo...</td>\n",
              "      <td>[tyety]</td>\n",
              "      <td>[]</td>\n",
              "      <td>Curly</td>\n",
              "      <td>2223</td>\n",
              "      <td>Curly</td>\n",
              "      <td>3032</td>\n",
              "      <td>What is your hair type?</td>\n",
              "      <td>What is your hair type?</td>\n",
              "      <td>False</td>\n",
              "    </tr>\n",
              "  </tbody>\n",
              "</table>\n",
              "</div>\n",
              "      <button class=\"colab-df-convert\" onclick=\"convertToInteractive('df-6b26a7f8-d929-4112-84ba-69bb0b2632f2')\"\n",
              "              title=\"Convert this dataframe to an interactive table.\"\n",
              "              style=\"display:none;\">\n",
              "        \n",
              "  <svg xmlns=\"http://www.w3.org/2000/svg\" height=\"24px\"viewBox=\"0 0 24 24\"\n",
              "       width=\"24px\">\n",
              "    <path d=\"M0 0h24v24H0V0z\" fill=\"none\"/>\n",
              "    <path d=\"M18.56 5.44l.94 2.06.94-2.06 2.06-.94-2.06-.94-.94-2.06-.94 2.06-2.06.94zm-11 1L8.5 8.5l.94-2.06 2.06-.94-2.06-.94L8.5 2.5l-.94 2.06-2.06.94zm10 10l.94 2.06.94-2.06 2.06-.94-2.06-.94-.94-2.06-.94 2.06-2.06.94z\"/><path d=\"M17.41 7.96l-1.37-1.37c-.4-.4-.92-.59-1.43-.59-.52 0-1.04.2-1.43.59L10.3 9.45l-7.72 7.72c-.78.78-.78 2.05 0 2.83L4 21.41c.39.39.9.59 1.41.59.51 0 1.02-.2 1.41-.59l7.78-7.78 2.81-2.81c.8-.78.8-2.07 0-2.86zM5.41 20L4 18.59l7.72-7.72 1.47 1.35L5.41 20z\"/>\n",
              "  </svg>\n",
              "      </button>\n",
              "      \n",
              "  <style>\n",
              "    .colab-df-container {\n",
              "      display:flex;\n",
              "      flex-wrap:wrap;\n",
              "      gap: 12px;\n",
              "    }\n",
              "\n",
              "    .colab-df-convert {\n",
              "      background-color: #E8F0FE;\n",
              "      border: none;\n",
              "      border-radius: 50%;\n",
              "      cursor: pointer;\n",
              "      display: none;\n",
              "      fill: #1967D2;\n",
              "      height: 32px;\n",
              "      padding: 0 0 0 0;\n",
              "      width: 32px;\n",
              "    }\n",
              "\n",
              "    .colab-df-convert:hover {\n",
              "      background-color: #E2EBFA;\n",
              "      box-shadow: 0px 1px 2px rgba(60, 64, 67, 0.3), 0px 1px 3px 1px rgba(60, 64, 67, 0.15);\n",
              "      fill: #174EA6;\n",
              "    }\n",
              "\n",
              "    [theme=dark] .colab-df-convert {\n",
              "      background-color: #3B4455;\n",
              "      fill: #D2E3FC;\n",
              "    }\n",
              "\n",
              "    [theme=dark] .colab-df-convert:hover {\n",
              "      background-color: #434B5C;\n",
              "      box-shadow: 0px 1px 3px 1px rgba(0, 0, 0, 0.15);\n",
              "      filter: drop-shadow(0px 1px 2px rgba(0, 0, 0, 0.3));\n",
              "      fill: #FFFFFF;\n",
              "    }\n",
              "  </style>\n",
              "\n",
              "      <script>\n",
              "        const buttonEl =\n",
              "          document.querySelector('#df-6b26a7f8-d929-4112-84ba-69bb0b2632f2 button.colab-df-convert');\n",
              "        buttonEl.style.display =\n",
              "          google.colab.kernel.accessAllowed ? 'block' : 'none';\n",
              "\n",
              "        async function convertToInteractive(key) {\n",
              "          const element = document.querySelector('#df-6b26a7f8-d929-4112-84ba-69bb0b2632f2');\n",
              "          const dataTable =\n",
              "            await google.colab.kernel.invokeFunction('convertToInteractive',\n",
              "                                                     [key], {});\n",
              "          if (!dataTable) return;\n",
              "\n",
              "          const docLinkHtml = 'Like what you see? Visit the ' +\n",
              "            '<a target=\"_blank\" href=https://colab.research.google.com/notebooks/data_table.ipynb>data table notebook</a>'\n",
              "            + ' to learn more about interactive tables.';\n",
              "          element.innerHTML = '';\n",
              "          dataTable['output_type'] = 'display_data';\n",
              "          await google.colab.output.renderOutput(dataTable, element);\n",
              "          const docLink = document.createElement('div');\n",
              "          docLink.innerHTML = docLinkHtml;\n",
              "          element.appendChild(docLink);\n",
              "        }\n",
              "      </script>\n",
              "    </div>\n",
              "  </div>\n",
              "  "
            ]
          },
          "metadata": {},
          "execution_count": 219
        }
      ]
    },
    {
      "cell_type": "code",
      "source": [
        "json_df1 = json_df[['responseText','responseID']].copy()\n",
        "\n",
        "col_list = ['responseText','responseID']\n",
        "for col in col_list:\n",
        "  json_df1[col] = json_df1[col].str.lower()\n",
        "\n",
        "# Removing the leading and trailing spaces from Q1 column\n",
        "\n",
        "json_df1['responseText'] = json_df1['responseText'].str.strip()\n",
        "print(json_df1['responseText'].unique())\n",
        "\n",
        "# Converting json_df1 into dictionary\n",
        "\n",
        "json_df1_dict = pd.Series(json_df1.responseID.values, index=json_df1.responseText).to_dict()\n",
        "json_df1_dict"
      ],
      "metadata": {
        "colab": {
          "base_uri": "https://localhost:8080/"
        },
        "id": "HQXTbw-pwPW7",
        "outputId": "4fad9f52-5be9-475f-9654-c7a103d3f104"
      },
      "execution_count": 31,
      "outputs": [
        {
          "output_type": "stream",
          "name": "stdout",
          "text": [
            "['fine' 'medium' 'straight' 'wavy' 'curly' 'coily' 'hair dryer' 'curler'\n",
            " 'straightener' 'air drying' 'hydration' 'volume' 'smoothness' 'shine'\n",
            " 'clean & refresh' 'curl definition' 'strength' 'preventing frizz'\n",
            " 'repair' 'colour protection']\n"
          ]
        },
        {
          "output_type": "execute_result",
          "data": {
            "text/plain": [
              "{'fine': '1111',\n",
              " 'medium': '1112',\n",
              " 'straight': '2221',\n",
              " 'wavy': '2222',\n",
              " 'curly': '2223',\n",
              " 'coily': '2224',\n",
              " 'hair dryer': '3331',\n",
              " 'curler': '3332',\n",
              " 'straightener': '3333',\n",
              " 'air drying': '3334',\n",
              " 'hydration': '4441',\n",
              " 'volume': '4442',\n",
              " 'smoothness': '4443',\n",
              " 'shine': '4444',\n",
              " 'clean & refresh': '4445',\n",
              " 'curl definition': '4446',\n",
              " 'strength': '4447',\n",
              " 'preventing frizz': '4448',\n",
              " 'repair': '4449',\n",
              " 'colour protection': '44450'}"
            ]
          },
          "metadata": {},
          "execution_count": 31
        }
      ]
    },
    {
      "cell_type": "code",
      "source": [
        "# Replacing the values with the referance code\n",
        "\n",
        "df3.replace(to_replace={'straightner':'straightener'},value=None, inplace=True)\n",
        "df3.replace(to_replace={'meduim hold':'medium hold'},value=None, inplace=True)\n",
        "col_list=['Q1','Q2','Q3','Q4','IdentifierValue']\n",
        "dummy_val_dict = {'thick':'99990','light hold':'99991',\n",
        "                  'medium hold':'99992', 'strong hold': '99993', 'texture': '99994'}\n",
        "for col in col_list:\n",
        "  df3.replace(to_replace={col:json_df1_dict},value=None,inplace=True)\n",
        "  df3.replace(to_replace={col:dummy_val_dict},value=None,inplace=True)\n",
        "  print(df3[col].unique())\n",
        "  \n",
        "\n",
        "\n",
        "df3=df3.loc[:,['Q1','Q2', 'Q3', 'Q4','IdentifierValue','P1','P2', 'P3',  'P4' ]]"
      ],
      "metadata": {
        "colab": {
          "base_uri": "https://localhost:8080/"
        },
        "id": "SJPnDpnywPUl",
        "outputId": "01387cd7-6d88-48fc-f161-df61794c91ba"
      },
      "execution_count": 32,
      "outputs": [
        {
          "output_type": "stream",
          "name": "stdout",
          "text": [
            "['1111' '1112' '99990']\n",
            "['2221' '2222' '2223' '2224']\n",
            "['4441' '4442' '4443' '4444' '4446' '4447' '4448' '4449' '44450' '99991'\n",
            " '99992' '99993' '99994']\n",
            "['3331' '3333' '3332' '3334']\n",
            "['08710908852053' '00000050398850' '05012254064351' '08717163784365'\n",
            " '00000050297825' '05012254058541' '08717163784358' '08710908779145'\n",
            " '00000050297092' '00000050398645' '05012254066409' '08710447330296']\n"
          ]
        }
      ]
    },
    {
      "cell_type": "code",
      "source": [
        "df3.head()"
      ],
      "metadata": {
        "colab": {
          "base_uri": "https://localhost:8080/",
          "height": 337
        },
        "id": "tk-eGQ7QwPS7",
        "outputId": "874ad2f8-e361-4481-e7f0-33fc7b53f3bb"
      },
      "execution_count": 33,
      "outputs": [
        {
          "output_type": "execute_result",
          "data": {
            "text/plain": [
              "      Q1    Q2    Q3    Q4 IdentifierValue                                                 P1                                                 P2    P3    P4\n",
              "0   1111  2221  4441  3331  08710908852053  [{'routineName': '', 'category': 'mist', 'shor...  [{'routineName': '', 'category': 'serum', 'sho...  None  None\n",
              "0   1112  2221  4441  3331  08710908852053  [{'routineName': '', 'category': 'mist', 'shor...  [{'routineName': '', 'category': 'serum', 'sho...  None  None\n",
              "0  99990  2221  4441  3331  08710908852053  [{'routineName': '', 'category': 'mist', 'shor...  [{'routineName': '', 'category': 'serum', 'sho...  None  None\n",
              "0   1111  2222  4441  3331  08710908852053  [{'routineName': '', 'category': 'mist', 'shor...  [{'routineName': '', 'category': 'serum', 'sho...  None  None\n",
              "0   1112  2222  4441  3331  08710908852053  [{'routineName': '', 'category': 'mist', 'shor...  [{'routineName': '', 'category': 'serum', 'sho...  None  None"
            ],
            "text/html": [
              "\n",
              "  <div id=\"df-d8f65bc3-c366-424a-8236-74c6ceb9ebdc\">\n",
              "    <div class=\"colab-df-container\">\n",
              "      <div>\n",
              "<style scoped>\n",
              "    .dataframe tbody tr th:only-of-type {\n",
              "        vertical-align: middle;\n",
              "    }\n",
              "\n",
              "    .dataframe tbody tr th {\n",
              "        vertical-align: top;\n",
              "    }\n",
              "\n",
              "    .dataframe thead th {\n",
              "        text-align: right;\n",
              "    }\n",
              "</style>\n",
              "<table border=\"1\" class=\"dataframe\">\n",
              "  <thead>\n",
              "    <tr style=\"text-align: right;\">\n",
              "      <th></th>\n",
              "      <th>Q1</th>\n",
              "      <th>Q2</th>\n",
              "      <th>Q3</th>\n",
              "      <th>Q4</th>\n",
              "      <th>IdentifierValue</th>\n",
              "      <th>P1</th>\n",
              "      <th>P2</th>\n",
              "      <th>P3</th>\n",
              "      <th>P4</th>\n",
              "    </tr>\n",
              "  </thead>\n",
              "  <tbody>\n",
              "    <tr>\n",
              "      <th>0</th>\n",
              "      <td>1111</td>\n",
              "      <td>2221</td>\n",
              "      <td>4441</td>\n",
              "      <td>3331</td>\n",
              "      <td>08710908852053</td>\n",
              "      <td>[{'routineName': '', 'category': 'mist', 'shor...</td>\n",
              "      <td>[{'routineName': '', 'category': 'serum', 'sho...</td>\n",
              "      <td>None</td>\n",
              "      <td>None</td>\n",
              "    </tr>\n",
              "    <tr>\n",
              "      <th>0</th>\n",
              "      <td>1112</td>\n",
              "      <td>2221</td>\n",
              "      <td>4441</td>\n",
              "      <td>3331</td>\n",
              "      <td>08710908852053</td>\n",
              "      <td>[{'routineName': '', 'category': 'mist', 'shor...</td>\n",
              "      <td>[{'routineName': '', 'category': 'serum', 'sho...</td>\n",
              "      <td>None</td>\n",
              "      <td>None</td>\n",
              "    </tr>\n",
              "    <tr>\n",
              "      <th>0</th>\n",
              "      <td>99990</td>\n",
              "      <td>2221</td>\n",
              "      <td>4441</td>\n",
              "      <td>3331</td>\n",
              "      <td>08710908852053</td>\n",
              "      <td>[{'routineName': '', 'category': 'mist', 'shor...</td>\n",
              "      <td>[{'routineName': '', 'category': 'serum', 'sho...</td>\n",
              "      <td>None</td>\n",
              "      <td>None</td>\n",
              "    </tr>\n",
              "    <tr>\n",
              "      <th>0</th>\n",
              "      <td>1111</td>\n",
              "      <td>2222</td>\n",
              "      <td>4441</td>\n",
              "      <td>3331</td>\n",
              "      <td>08710908852053</td>\n",
              "      <td>[{'routineName': '', 'category': 'mist', 'shor...</td>\n",
              "      <td>[{'routineName': '', 'category': 'serum', 'sho...</td>\n",
              "      <td>None</td>\n",
              "      <td>None</td>\n",
              "    </tr>\n",
              "    <tr>\n",
              "      <th>0</th>\n",
              "      <td>1112</td>\n",
              "      <td>2222</td>\n",
              "      <td>4441</td>\n",
              "      <td>3331</td>\n",
              "      <td>08710908852053</td>\n",
              "      <td>[{'routineName': '', 'category': 'mist', 'shor...</td>\n",
              "      <td>[{'routineName': '', 'category': 'serum', 'sho...</td>\n",
              "      <td>None</td>\n",
              "      <td>None</td>\n",
              "    </tr>\n",
              "  </tbody>\n",
              "</table>\n",
              "</div>\n",
              "      <button class=\"colab-df-convert\" onclick=\"convertToInteractive('df-d8f65bc3-c366-424a-8236-74c6ceb9ebdc')\"\n",
              "              title=\"Convert this dataframe to an interactive table.\"\n",
              "              style=\"display:none;\">\n",
              "        \n",
              "  <svg xmlns=\"http://www.w3.org/2000/svg\" height=\"24px\"viewBox=\"0 0 24 24\"\n",
              "       width=\"24px\">\n",
              "    <path d=\"M0 0h24v24H0V0z\" fill=\"none\"/>\n",
              "    <path d=\"M18.56 5.44l.94 2.06.94-2.06 2.06-.94-2.06-.94-.94-2.06-.94 2.06-2.06.94zm-11 1L8.5 8.5l.94-2.06 2.06-.94-2.06-.94L8.5 2.5l-.94 2.06-2.06.94zm10 10l.94 2.06.94-2.06 2.06-.94-2.06-.94-.94-2.06-.94 2.06-2.06.94z\"/><path d=\"M17.41 7.96l-1.37-1.37c-.4-.4-.92-.59-1.43-.59-.52 0-1.04.2-1.43.59L10.3 9.45l-7.72 7.72c-.78.78-.78 2.05 0 2.83L4 21.41c.39.39.9.59 1.41.59.51 0 1.02-.2 1.41-.59l7.78-7.78 2.81-2.81c.8-.78.8-2.07 0-2.86zM5.41 20L4 18.59l7.72-7.72 1.47 1.35L5.41 20z\"/>\n",
              "  </svg>\n",
              "      </button>\n",
              "      \n",
              "  <style>\n",
              "    .colab-df-container {\n",
              "      display:flex;\n",
              "      flex-wrap:wrap;\n",
              "      gap: 12px;\n",
              "    }\n",
              "\n",
              "    .colab-df-convert {\n",
              "      background-color: #E8F0FE;\n",
              "      border: none;\n",
              "      border-radius: 50%;\n",
              "      cursor: pointer;\n",
              "      display: none;\n",
              "      fill: #1967D2;\n",
              "      height: 32px;\n",
              "      padding: 0 0 0 0;\n",
              "      width: 32px;\n",
              "    }\n",
              "\n",
              "    .colab-df-convert:hover {\n",
              "      background-color: #E2EBFA;\n",
              "      box-shadow: 0px 1px 2px rgba(60, 64, 67, 0.3), 0px 1px 3px 1px rgba(60, 64, 67, 0.15);\n",
              "      fill: #174EA6;\n",
              "    }\n",
              "\n",
              "    [theme=dark] .colab-df-convert {\n",
              "      background-color: #3B4455;\n",
              "      fill: #D2E3FC;\n",
              "    }\n",
              "\n",
              "    [theme=dark] .colab-df-convert:hover {\n",
              "      background-color: #434B5C;\n",
              "      box-shadow: 0px 1px 3px 1px rgba(0, 0, 0, 0.15);\n",
              "      filter: drop-shadow(0px 1px 2px rgba(0, 0, 0, 0.3));\n",
              "      fill: #FFFFFF;\n",
              "    }\n",
              "  </style>\n",
              "\n",
              "      <script>\n",
              "        const buttonEl =\n",
              "          document.querySelector('#df-d8f65bc3-c366-424a-8236-74c6ceb9ebdc button.colab-df-convert');\n",
              "        buttonEl.style.display =\n",
              "          google.colab.kernel.accessAllowed ? 'block' : 'none';\n",
              "\n",
              "        async function convertToInteractive(key) {\n",
              "          const element = document.querySelector('#df-d8f65bc3-c366-424a-8236-74c6ceb9ebdc');\n",
              "          const dataTable =\n",
              "            await google.colab.kernel.invokeFunction('convertToInteractive',\n",
              "                                                     [key], {});\n",
              "          if (!dataTable) return;\n",
              "\n",
              "          const docLinkHtml = 'Like what you see? Visit the ' +\n",
              "            '<a target=\"_blank\" href=https://colab.research.google.com/notebooks/data_table.ipynb>data table notebook</a>'\n",
              "            + ' to learn more about interactive tables.';\n",
              "          element.innerHTML = '';\n",
              "          dataTable['output_type'] = 'display_data';\n",
              "          await google.colab.output.renderOutput(dataTable, element);\n",
              "          const docLink = document.createElement('div');\n",
              "          docLink.innerHTML = docLinkHtml;\n",
              "          element.appendChild(docLink);\n",
              "        }\n",
              "      </script>\n",
              "    </div>\n",
              "  </div>\n",
              "  "
            ]
          },
          "metadata": {},
          "execution_count": 33
        }
      ]
    },
    {
      "cell_type": "code",
      "source": [
        "# Dropping unwanted columns from the dataframe\n",
        "\n",
        "df4 = df3.copy()\n",
        "df4.head()\n",
        "col_list = ['Q1','Q2','Q3','Q4','IdentifierValue']\n",
        "df4.drop(col_list, axis=1, inplace=True)\n",
        "df4.to_csv('final_output_file.csv')\n",
        "len(df4)"
      ],
      "metadata": {
        "colab": {
          "base_uri": "https://localhost:8080/"
        },
        "id": "5DLFjgsr0pLZ",
        "outputId": "6913a1d8-3c64-4fb8-9c15-42e7a1947b82"
      },
      "execution_count": 34,
      "outputs": [
        {
          "output_type": "execute_result",
          "data": {
            "text/plain": [
              "38610"
            ]
          },
          "metadata": {},
          "execution_count": 34
        }
      ]
    },
    {
      "cell_type": "code",
      "source": [
        "# Creating a composite key to save the individual json files\n",
        "composite_key = df3[['Q1','Q2','Q3','Q4','IdentifierValue']].apply(lambda x: '_'.join(x.astype(str)), axis=1)\n",
        "\n",
        "\n",
        "# Converting the df to json string\n",
        "for index, row in df4.iterrows():\n",
        "  json_string = row.to_json(orient='records')\n",
        "  # json_string = row.replace({pd.np.nan: None}).to_json(indent=None)\n",
        "  # json_string = row.replace({pd.np.nan: None}).to_json(orient='records')\n",
        "  # using the json module to create a nested structure\n",
        "  json_data = json.loads(json_string)\n",
        "  # writing the nested json to a file\n",
        "  \n",
        "  # composite_key = [1,2,3,4]\n",
        "\n",
        "  for key,row in zip(composite_key, df4.iterrows()):\n",
        "    json_string = row[1].to_json(orient='records')\n",
        "    json_data = json.loads(json_string)\n",
        "    output = {'recommendations': json_data}\n",
        "    with open(f'{key}.json', 'w') as outfile:\n",
        "      json.dump(output,outfile, indent=4)\n",
        "\n"
      ],
      "metadata": {
        "id": "UawnNRqGwPOH"
      },
      "execution_count": null,
      "outputs": []
    },
    {
      "cell_type": "code",
      "source": [],
      "metadata": {
        "id": "wONxfVW3ABeh"
      },
      "execution_count": null,
      "outputs": []
    },
    {
      "cell_type": "code",
      "source": [],
      "metadata": {
        "id": "pmpPRQZ-wPLu"
      },
      "execution_count": 75,
      "outputs": []
    },
    {
      "cell_type": "code",
      "source": [],
      "metadata": {
        "id": "ENbdjWF7wPJY"
      },
      "execution_count": null,
      "outputs": []
    },
    {
      "cell_type": "code",
      "source": [],
      "metadata": {
        "id": "u5TRUL22wPG2"
      },
      "execution_count": null,
      "outputs": []
    },
    {
      "cell_type": "code",
      "source": [],
      "metadata": {
        "id": "ek7fKhj3wPEd"
      },
      "execution_count": null,
      "outputs": []
    },
    {
      "cell_type": "code",
      "source": [],
      "metadata": {
        "id": "80RjCXMdwPCC"
      },
      "execution_count": null,
      "outputs": []
    },
    {
      "cell_type": "code",
      "source": [],
      "metadata": {
        "id": "3KXNLOcIuLwx"
      },
      "execution_count": null,
      "outputs": []
    },
    {
      "cell_type": "code",
      "source": [],
      "metadata": {
        "id": "4cM3jSKdrU_n"
      },
      "execution_count": null,
      "outputs": []
    },
    {
      "cell_type": "code",
      "source": [],
      "metadata": {
        "id": "pGhZ6DBurU9H"
      },
      "execution_count": null,
      "outputs": []
    },
    {
      "cell_type": "code",
      "source": [],
      "metadata": {
        "id": "ANCeFwKQrU6t"
      },
      "execution_count": null,
      "outputs": []
    },
    {
      "cell_type": "code",
      "source": [],
      "metadata": {
        "id": "dcqBqEnHrU4W"
      },
      "execution_count": null,
      "outputs": []
    }
  ]
}