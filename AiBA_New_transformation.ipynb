{
  "nbformat": 4,
  "nbformat_minor": 0,
  "metadata": {
    "colab": {
      "provenance": [],
      "authorship_tag": "ABX9TyNNjroah7KciyRaNFwHB/Wj",
      "include_colab_link": true
    },
    "kernelspec": {
      "name": "python3",
      "display_name": "Python 3"
    },
    "language_info": {
      "name": "python"
    }
  },
  "cells": [
    {
      "cell_type": "markdown",
      "metadata": {
        "id": "view-in-github",
        "colab_type": "text"
      },
      "source": [
        "<a href=\"https://colab.research.google.com/github/shiv2022/elida_beauty_testing/blob/elida_beauty_testing/AiBA_New_transformation.ipynb\" target=\"_parent\"><img src=\"https://colab.research.google.com/assets/colab-badge.svg\" alt=\"Open In Colab\"/></a>"
      ]
    },
    {
      "cell_type": "code",
      "execution_count": 255,
      "metadata": {
        "id": "QDJ9FkCLog7Q"
      },
      "outputs": [],
      "source": [
        "import numpy as np\n",
        "import pandas as pd\n",
        "import json\n",
        "import warnings\n",
        "warnings.filterwarnings(\"ignore\")\n",
        "\n",
        "pd.set_option('display.max_rows', 500)\n",
        "pd.set_option('display.max_columns', 500)\n",
        "pd.set_option('display.width', 1000)\n",
        "pd.set_option('display.expand_frame_repr', False)"
      ]
    },
    {
      "cell_type": "code",
      "source": [
        "# Loading the csv file \n",
        "df1 = pd.read_csv('/content/elida_beauty_testing/elida_data.csv')\n",
        "df1.columns"
      ],
      "metadata": {
        "colab": {
          "base_uri": "https://localhost:8080/"
        },
        "id": "MIiNMcpjon5z",
        "outputId": "d40ae765-a2be-4205-ac05-7f9a9b01f10c"
      },
      "execution_count": 256,
      "outputs": [
        {
          "output_type": "execute_result",
          "data": {
            "text/plain": [
              "Index(['How thick is your hair?', 'What is your hair type?', 'When it comes to your hair, you care the most about:', 'What do you use to style your hair? ', 'P1', 'P2', 'P3', 'P4'], dtype='object')"
            ]
          },
          "metadata": {},
          "execution_count": 256
        }
      ]
    },
    {
      "cell_type": "code",
      "source": [
        "df1.count()"
      ],
      "metadata": {
        "colab": {
          "base_uri": "https://localhost:8080/"
        },
        "id": "ufK98FdRpk8S",
        "outputId": "17486970-bf56-4919-e5e0-db60f063e8e5"
      },
      "execution_count": 257,
      "outputs": [
        {
          "output_type": "execute_result",
          "data": {
            "text/plain": [
              "How thick is your hair?                                 1789\n",
              "What is your hair type?                                 1789\n",
              "When it comes to your hair, you care the most about:    1789\n",
              "What do you use to style your hair?                     1789\n",
              "P1                                                      1789\n",
              "P2                                                      1781\n",
              "P3                                                      1756\n",
              "P4                                                      1290\n",
              "dtype: int64"
            ]
          },
          "metadata": {},
          "execution_count": 257
        }
      ]
    },
    {
      "cell_type": "code",
      "source": [
        "df1.head()"
      ],
      "metadata": {
        "colab": {
          "base_uri": "https://localhost:8080/",
          "height": 736
        },
        "id": "jsWpcZEFopz8",
        "outputId": "d9b61b25-74de-4134-8558-a2c9de9178b3"
      },
      "execution_count": 258,
      "outputs": [
        {
          "output_type": "execute_result",
          "data": {
            "text/plain": [
              "  How thick is your hair? What is your hair type? When it comes to your hair, you care the most about: What do you use to style your hair?                                    P1                                        P2                                        P3                              P4\n",
              "0    Fine, Medium, Thick           Straight/ Wavy                                          Hydration                             Hair dryer  VO5 Hairdryer Protection Mist 200ml             Vo5 Serum Invisible Pump 50ml                                       NaN                             NaN\n",
              "1    Fine, Medium, Thick           Straight/ Wavy                                             Volume                             Hair dryer  VO5 Hairdryer Protection Mist 200ml   Vo5 Heat Protect Lot Spr Blow Dry 200ml          Vo5 Gel Spray Volume Boost 200ml                             NaN\n",
              "2    Fine, Medium, Thick           Straight/ Wavy                                         Smoothness                             Hair dryer  VO5 Hairdryer Protection Mist 200ml             Vo5 Serum Invisible Pump 50ml  V05 Taming Spray Heat Defence Aero 100ml  Vo5 Cream Frizzfree Tube 125ml\n",
              "3    Fine, Medium, Thick           Straight/ Wavy                                             Shine                              Hair dryer  VO5 Hairdryer Protection Mist 200ml  V05 Taming Spray Heat Defence Aero 100ml                                       NaN                             NaN\n",
              "4    Fine, Medium, Thick           Straight/ Wavy                                    Curl Definition                             Hair dryer  VO5 Hairdryer Protection Mist 200ml            Vo5 Cream Frizzfree Tube 125ml            Vo5 Mousse Curl Defining 200ml                             NaN"
            ],
            "text/html": [
              "\n",
              "  <div id=\"df-14223fef-4f37-4de1-b293-160533d2d66b\">\n",
              "    <div class=\"colab-df-container\">\n",
              "      <div>\n",
              "<style scoped>\n",
              "    .dataframe tbody tr th:only-of-type {\n",
              "        vertical-align: middle;\n",
              "    }\n",
              "\n",
              "    .dataframe tbody tr th {\n",
              "        vertical-align: top;\n",
              "    }\n",
              "\n",
              "    .dataframe thead th {\n",
              "        text-align: right;\n",
              "    }\n",
              "</style>\n",
              "<table border=\"1\" class=\"dataframe\">\n",
              "  <thead>\n",
              "    <tr style=\"text-align: right;\">\n",
              "      <th></th>\n",
              "      <th>How thick is your hair?</th>\n",
              "      <th>What is your hair type?</th>\n",
              "      <th>When it comes to your hair, you care the most about:</th>\n",
              "      <th>What do you use to style your hair?</th>\n",
              "      <th>P1</th>\n",
              "      <th>P2</th>\n",
              "      <th>P3</th>\n",
              "      <th>P4</th>\n",
              "    </tr>\n",
              "  </thead>\n",
              "  <tbody>\n",
              "    <tr>\n",
              "      <th>0</th>\n",
              "      <td>Fine, Medium, Thick</td>\n",
              "      <td>Straight/ Wavy</td>\n",
              "      <td>Hydration</td>\n",
              "      <td>Hair dryer</td>\n",
              "      <td>VO5 Hairdryer Protection Mist 200ml</td>\n",
              "      <td>Vo5 Serum Invisible Pump 50ml</td>\n",
              "      <td>NaN</td>\n",
              "      <td>NaN</td>\n",
              "    </tr>\n",
              "    <tr>\n",
              "      <th>1</th>\n",
              "      <td>Fine, Medium, Thick</td>\n",
              "      <td>Straight/ Wavy</td>\n",
              "      <td>Volume</td>\n",
              "      <td>Hair dryer</td>\n",
              "      <td>VO5 Hairdryer Protection Mist 200ml</td>\n",
              "      <td>Vo5 Heat Protect Lot Spr Blow Dry 200ml</td>\n",
              "      <td>Vo5 Gel Spray Volume Boost 200ml</td>\n",
              "      <td>NaN</td>\n",
              "    </tr>\n",
              "    <tr>\n",
              "      <th>2</th>\n",
              "      <td>Fine, Medium, Thick</td>\n",
              "      <td>Straight/ Wavy</td>\n",
              "      <td>Smoothness</td>\n",
              "      <td>Hair dryer</td>\n",
              "      <td>VO5 Hairdryer Protection Mist 200ml</td>\n",
              "      <td>Vo5 Serum Invisible Pump 50ml</td>\n",
              "      <td>V05 Taming Spray Heat Defence Aero 100ml</td>\n",
              "      <td>Vo5 Cream Frizzfree Tube 125ml</td>\n",
              "    </tr>\n",
              "    <tr>\n",
              "      <th>3</th>\n",
              "      <td>Fine, Medium, Thick</td>\n",
              "      <td>Straight/ Wavy</td>\n",
              "      <td>Shine</td>\n",
              "      <td>Hair dryer</td>\n",
              "      <td>VO5 Hairdryer Protection Mist 200ml</td>\n",
              "      <td>V05 Taming Spray Heat Defence Aero 100ml</td>\n",
              "      <td>NaN</td>\n",
              "      <td>NaN</td>\n",
              "    </tr>\n",
              "    <tr>\n",
              "      <th>4</th>\n",
              "      <td>Fine, Medium, Thick</td>\n",
              "      <td>Straight/ Wavy</td>\n",
              "      <td>Curl Definition</td>\n",
              "      <td>Hair dryer</td>\n",
              "      <td>VO5 Hairdryer Protection Mist 200ml</td>\n",
              "      <td>Vo5 Cream Frizzfree Tube 125ml</td>\n",
              "      <td>Vo5 Mousse Curl Defining 200ml</td>\n",
              "      <td>NaN</td>\n",
              "    </tr>\n",
              "  </tbody>\n",
              "</table>\n",
              "</div>\n",
              "      <button class=\"colab-df-convert\" onclick=\"convertToInteractive('df-14223fef-4f37-4de1-b293-160533d2d66b')\"\n",
              "              title=\"Convert this dataframe to an interactive table.\"\n",
              "              style=\"display:none;\">\n",
              "        \n",
              "  <svg xmlns=\"http://www.w3.org/2000/svg\" height=\"24px\"viewBox=\"0 0 24 24\"\n",
              "       width=\"24px\">\n",
              "    <path d=\"M0 0h24v24H0V0z\" fill=\"none\"/>\n",
              "    <path d=\"M18.56 5.44l.94 2.06.94-2.06 2.06-.94-2.06-.94-.94-2.06-.94 2.06-2.06.94zm-11 1L8.5 8.5l.94-2.06 2.06-.94-2.06-.94L8.5 2.5l-.94 2.06-2.06.94zm10 10l.94 2.06.94-2.06 2.06-.94-2.06-.94-.94-2.06-.94 2.06-2.06.94z\"/><path d=\"M17.41 7.96l-1.37-1.37c-.4-.4-.92-.59-1.43-.59-.52 0-1.04.2-1.43.59L10.3 9.45l-7.72 7.72c-.78.78-.78 2.05 0 2.83L4 21.41c.39.39.9.59 1.41.59.51 0 1.02-.2 1.41-.59l7.78-7.78 2.81-2.81c.8-.78.8-2.07 0-2.86zM5.41 20L4 18.59l7.72-7.72 1.47 1.35L5.41 20z\"/>\n",
              "  </svg>\n",
              "      </button>\n",
              "      \n",
              "  <style>\n",
              "    .colab-df-container {\n",
              "      display:flex;\n",
              "      flex-wrap:wrap;\n",
              "      gap: 12px;\n",
              "    }\n",
              "\n",
              "    .colab-df-convert {\n",
              "      background-color: #E8F0FE;\n",
              "      border: none;\n",
              "      border-radius: 50%;\n",
              "      cursor: pointer;\n",
              "      display: none;\n",
              "      fill: #1967D2;\n",
              "      height: 32px;\n",
              "      padding: 0 0 0 0;\n",
              "      width: 32px;\n",
              "    }\n",
              "\n",
              "    .colab-df-convert:hover {\n",
              "      background-color: #E2EBFA;\n",
              "      box-shadow: 0px 1px 2px rgba(60, 64, 67, 0.3), 0px 1px 3px 1px rgba(60, 64, 67, 0.15);\n",
              "      fill: #174EA6;\n",
              "    }\n",
              "\n",
              "    [theme=dark] .colab-df-convert {\n",
              "      background-color: #3B4455;\n",
              "      fill: #D2E3FC;\n",
              "    }\n",
              "\n",
              "    [theme=dark] .colab-df-convert:hover {\n",
              "      background-color: #434B5C;\n",
              "      box-shadow: 0px 1px 3px 1px rgba(0, 0, 0, 0.15);\n",
              "      filter: drop-shadow(0px 1px 2px rgba(0, 0, 0, 0.3));\n",
              "      fill: #FFFFFF;\n",
              "    }\n",
              "  </style>\n",
              "\n",
              "      <script>\n",
              "        const buttonEl =\n",
              "          document.querySelector('#df-14223fef-4f37-4de1-b293-160533d2d66b button.colab-df-convert');\n",
              "        buttonEl.style.display =\n",
              "          google.colab.kernel.accessAllowed ? 'block' : 'none';\n",
              "\n",
              "        async function convertToInteractive(key) {\n",
              "          const element = document.querySelector('#df-14223fef-4f37-4de1-b293-160533d2d66b');\n",
              "          const dataTable =\n",
              "            await google.colab.kernel.invokeFunction('convertToInteractive',\n",
              "                                                     [key], {});\n",
              "          if (!dataTable) return;\n",
              "\n",
              "          const docLinkHtml = 'Like what you see? Visit the ' +\n",
              "            '<a target=\"_blank\" href=https://colab.research.google.com/notebooks/data_table.ipynb>data table notebook</a>'\n",
              "            + ' to learn more about interactive tables.';\n",
              "          element.innerHTML = '';\n",
              "          dataTable['output_type'] = 'display_data';\n",
              "          await google.colab.output.renderOutput(dataTable, element);\n",
              "          const docLink = document.createElement('div');\n",
              "          docLink.innerHTML = docLinkHtml;\n",
              "          element.appendChild(docLink);\n",
              "        }\n",
              "      </script>\n",
              "    </div>\n",
              "  </div>\n",
              "  "
            ]
          },
          "metadata": {},
          "execution_count": 258
        }
      ]
    },
    {
      "cell_type": "code",
      "source": [
        "cols = df1.columns\n",
        "df1.rename (columns = {cols[0]:'Q1',cols[1]:'Q2',cols[2]:'Q3',cols[3]:'Q4'}, inplace=True)\n",
        "\n",
        "df1.columns"
      ],
      "metadata": {
        "colab": {
          "base_uri": "https://localhost:8080/"
        },
        "id": "8m_4E2J2povV",
        "outputId": "c3e1a1eb-0203-4e19-e7b4-bf351f67fc3e"
      },
      "execution_count": 259,
      "outputs": [
        {
          "output_type": "execute_result",
          "data": {
            "text/plain": [
              "Index(['Q1', 'Q2', 'Q3', 'Q4', 'P1', 'P2', 'P3', 'P4'], dtype='object')"
            ]
          },
          "metadata": {},
          "execution_count": 259
        }
      ]
    },
    {
      "cell_type": "code",
      "source": [
        "# Splitting the values present in the column into multiple values based on the separator\t\n",
        "df1 = df1.assign(Q2=df1.Q2.str.split(\"/ \")).explode('Q2')\n",
        "df1 = df1.assign(Q3=df1.Q3.str.split(\",\")).explode('Q3')\n",
        "df1 = df1.assign(Q4=df1.Q4.str.split(\"/ \")).explode('Q4')"
      ],
      "metadata": {
        "id": "VCRxAm8tpGBU"
      },
      "execution_count": 260,
      "outputs": []
    },
    {
      "cell_type": "code",
      "source": [
        "len(df1)"
      ],
      "metadata": {
        "colab": {
          "base_uri": "https://localhost:8080/"
        },
        "id": "zRp4YlW3qaZ0",
        "outputId": "70615579-c1dc-4baa-a62b-da6d7e6186ae"
      },
      "execution_count": 261,
      "outputs": [
        {
          "output_type": "execute_result",
          "data": {
            "text/plain": [
              "12870"
            ]
          },
          "metadata": {},
          "execution_count": 261
        }
      ]
    },
    {
      "cell_type": "code",
      "source": [
        "# Removing the leading and trailing spaces from columns\n",
        "\n",
        "col_list = ['Q1','Q2','Q3','Q4']\n",
        "for col in df1.columns:\n",
        "  df1[col] = df1[col].str.strip()\n",
        "  "
      ],
      "metadata": {
        "id": "GTirOE2Wqg3s"
      },
      "execution_count": 262,
      "outputs": []
    },
    {
      "cell_type": "code",
      "source": [
        "df1.head()"
      ],
      "metadata": {
        "colab": {
          "base_uri": "https://localhost:8080/",
          "height": 510
        },
        "id": "MOZ542GBqsn6",
        "outputId": "42b4bf16-5564-463f-d6e1-ae782663755b"
      },
      "execution_count": 263,
      "outputs": [
        {
          "output_type": "execute_result",
          "data": {
            "text/plain": [
              "                    Q1        Q2          Q3          Q4                                   P1                                       P2                                        P3                              P4\n",
              "0  Fine, Medium, Thick  Straight   Hydration  Hair dryer  VO5 Hairdryer Protection Mist 200ml            Vo5 Serum Invisible Pump 50ml                                       NaN                             NaN\n",
              "0  Fine, Medium, Thick      Wavy   Hydration  Hair dryer  VO5 Hairdryer Protection Mist 200ml            Vo5 Serum Invisible Pump 50ml                                       NaN                             NaN\n",
              "1  Fine, Medium, Thick  Straight      Volume  Hair dryer  VO5 Hairdryer Protection Mist 200ml  Vo5 Heat Protect Lot Spr Blow Dry 200ml          Vo5 Gel Spray Volume Boost 200ml                             NaN\n",
              "1  Fine, Medium, Thick      Wavy      Volume  Hair dryer  VO5 Hairdryer Protection Mist 200ml  Vo5 Heat Protect Lot Spr Blow Dry 200ml          Vo5 Gel Spray Volume Boost 200ml                             NaN\n",
              "2  Fine, Medium, Thick  Straight  Smoothness  Hair dryer  VO5 Hairdryer Protection Mist 200ml            Vo5 Serum Invisible Pump 50ml  V05 Taming Spray Heat Defence Aero 100ml  Vo5 Cream Frizzfree Tube 125ml"
            ],
            "text/html": [
              "\n",
              "  <div id=\"df-6596c711-ad66-458c-9f78-de2079b56626\">\n",
              "    <div class=\"colab-df-container\">\n",
              "      <div>\n",
              "<style scoped>\n",
              "    .dataframe tbody tr th:only-of-type {\n",
              "        vertical-align: middle;\n",
              "    }\n",
              "\n",
              "    .dataframe tbody tr th {\n",
              "        vertical-align: top;\n",
              "    }\n",
              "\n",
              "    .dataframe thead th {\n",
              "        text-align: right;\n",
              "    }\n",
              "</style>\n",
              "<table border=\"1\" class=\"dataframe\">\n",
              "  <thead>\n",
              "    <tr style=\"text-align: right;\">\n",
              "      <th></th>\n",
              "      <th>Q1</th>\n",
              "      <th>Q2</th>\n",
              "      <th>Q3</th>\n",
              "      <th>Q4</th>\n",
              "      <th>P1</th>\n",
              "      <th>P2</th>\n",
              "      <th>P3</th>\n",
              "      <th>P4</th>\n",
              "    </tr>\n",
              "  </thead>\n",
              "  <tbody>\n",
              "    <tr>\n",
              "      <th>0</th>\n",
              "      <td>Fine, Medium, Thick</td>\n",
              "      <td>Straight</td>\n",
              "      <td>Hydration</td>\n",
              "      <td>Hair dryer</td>\n",
              "      <td>VO5 Hairdryer Protection Mist 200ml</td>\n",
              "      <td>Vo5 Serum Invisible Pump 50ml</td>\n",
              "      <td>NaN</td>\n",
              "      <td>NaN</td>\n",
              "    </tr>\n",
              "    <tr>\n",
              "      <th>0</th>\n",
              "      <td>Fine, Medium, Thick</td>\n",
              "      <td>Wavy</td>\n",
              "      <td>Hydration</td>\n",
              "      <td>Hair dryer</td>\n",
              "      <td>VO5 Hairdryer Protection Mist 200ml</td>\n",
              "      <td>Vo5 Serum Invisible Pump 50ml</td>\n",
              "      <td>NaN</td>\n",
              "      <td>NaN</td>\n",
              "    </tr>\n",
              "    <tr>\n",
              "      <th>1</th>\n",
              "      <td>Fine, Medium, Thick</td>\n",
              "      <td>Straight</td>\n",
              "      <td>Volume</td>\n",
              "      <td>Hair dryer</td>\n",
              "      <td>VO5 Hairdryer Protection Mist 200ml</td>\n",
              "      <td>Vo5 Heat Protect Lot Spr Blow Dry 200ml</td>\n",
              "      <td>Vo5 Gel Spray Volume Boost 200ml</td>\n",
              "      <td>NaN</td>\n",
              "    </tr>\n",
              "    <tr>\n",
              "      <th>1</th>\n",
              "      <td>Fine, Medium, Thick</td>\n",
              "      <td>Wavy</td>\n",
              "      <td>Volume</td>\n",
              "      <td>Hair dryer</td>\n",
              "      <td>VO5 Hairdryer Protection Mist 200ml</td>\n",
              "      <td>Vo5 Heat Protect Lot Spr Blow Dry 200ml</td>\n",
              "      <td>Vo5 Gel Spray Volume Boost 200ml</td>\n",
              "      <td>NaN</td>\n",
              "    </tr>\n",
              "    <tr>\n",
              "      <th>2</th>\n",
              "      <td>Fine, Medium, Thick</td>\n",
              "      <td>Straight</td>\n",
              "      <td>Smoothness</td>\n",
              "      <td>Hair dryer</td>\n",
              "      <td>VO5 Hairdryer Protection Mist 200ml</td>\n",
              "      <td>Vo5 Serum Invisible Pump 50ml</td>\n",
              "      <td>V05 Taming Spray Heat Defence Aero 100ml</td>\n",
              "      <td>Vo5 Cream Frizzfree Tube 125ml</td>\n",
              "    </tr>\n",
              "  </tbody>\n",
              "</table>\n",
              "</div>\n",
              "      <button class=\"colab-df-convert\" onclick=\"convertToInteractive('df-6596c711-ad66-458c-9f78-de2079b56626')\"\n",
              "              title=\"Convert this dataframe to an interactive table.\"\n",
              "              style=\"display:none;\">\n",
              "        \n",
              "  <svg xmlns=\"http://www.w3.org/2000/svg\" height=\"24px\"viewBox=\"0 0 24 24\"\n",
              "       width=\"24px\">\n",
              "    <path d=\"M0 0h24v24H0V0z\" fill=\"none\"/>\n",
              "    <path d=\"M18.56 5.44l.94 2.06.94-2.06 2.06-.94-2.06-.94-.94-2.06-.94 2.06-2.06.94zm-11 1L8.5 8.5l.94-2.06 2.06-.94-2.06-.94L8.5 2.5l-.94 2.06-2.06.94zm10 10l.94 2.06.94-2.06 2.06-.94-2.06-.94-.94-2.06-.94 2.06-2.06.94z\"/><path d=\"M17.41 7.96l-1.37-1.37c-.4-.4-.92-.59-1.43-.59-.52 0-1.04.2-1.43.59L10.3 9.45l-7.72 7.72c-.78.78-.78 2.05 0 2.83L4 21.41c.39.39.9.59 1.41.59.51 0 1.02-.2 1.41-.59l7.78-7.78 2.81-2.81c.8-.78.8-2.07 0-2.86zM5.41 20L4 18.59l7.72-7.72 1.47 1.35L5.41 20z\"/>\n",
              "  </svg>\n",
              "      </button>\n",
              "      \n",
              "  <style>\n",
              "    .colab-df-container {\n",
              "      display:flex;\n",
              "      flex-wrap:wrap;\n",
              "      gap: 12px;\n",
              "    }\n",
              "\n",
              "    .colab-df-convert {\n",
              "      background-color: #E8F0FE;\n",
              "      border: none;\n",
              "      border-radius: 50%;\n",
              "      cursor: pointer;\n",
              "      display: none;\n",
              "      fill: #1967D2;\n",
              "      height: 32px;\n",
              "      padding: 0 0 0 0;\n",
              "      width: 32px;\n",
              "    }\n",
              "\n",
              "    .colab-df-convert:hover {\n",
              "      background-color: #E2EBFA;\n",
              "      box-shadow: 0px 1px 2px rgba(60, 64, 67, 0.3), 0px 1px 3px 1px rgba(60, 64, 67, 0.15);\n",
              "      fill: #174EA6;\n",
              "    }\n",
              "\n",
              "    [theme=dark] .colab-df-convert {\n",
              "      background-color: #3B4455;\n",
              "      fill: #D2E3FC;\n",
              "    }\n",
              "\n",
              "    [theme=dark] .colab-df-convert:hover {\n",
              "      background-color: #434B5C;\n",
              "      box-shadow: 0px 1px 3px 1px rgba(0, 0, 0, 0.15);\n",
              "      filter: drop-shadow(0px 1px 2px rgba(0, 0, 0, 0.3));\n",
              "      fill: #FFFFFF;\n",
              "    }\n",
              "  </style>\n",
              "\n",
              "      <script>\n",
              "        const buttonEl =\n",
              "          document.querySelector('#df-6596c711-ad66-458c-9f78-de2079b56626 button.colab-df-convert');\n",
              "        buttonEl.style.display =\n",
              "          google.colab.kernel.accessAllowed ? 'block' : 'none';\n",
              "\n",
              "        async function convertToInteractive(key) {\n",
              "          const element = document.querySelector('#df-6596c711-ad66-458c-9f78-de2079b56626');\n",
              "          const dataTable =\n",
              "            await google.colab.kernel.invokeFunction('convertToInteractive',\n",
              "                                                     [key], {});\n",
              "          if (!dataTable) return;\n",
              "\n",
              "          const docLinkHtml = 'Like what you see? Visit the ' +\n",
              "            '<a target=\"_blank\" href=https://colab.research.google.com/notebooks/data_table.ipynb>data table notebook</a>'\n",
              "            + ' to learn more about interactive tables.';\n",
              "          element.innerHTML = '';\n",
              "          dataTable['output_type'] = 'display_data';\n",
              "          await google.colab.output.renderOutput(dataTable, element);\n",
              "          const docLink = document.createElement('div');\n",
              "          docLink.innerHTML = docLinkHtml;\n",
              "          element.appendChild(docLink);\n",
              "        }\n",
              "      </script>\n",
              "    </div>\n",
              "  </div>\n",
              "  "
            ]
          },
          "metadata": {},
          "execution_count": 263
        }
      ]
    },
    {
      "cell_type": "code",
      "source": [
        "df2 = df1.copy()"
      ],
      "metadata": {
        "id": "01HWB9a-tgtn"
      },
      "execution_count": 264,
      "outputs": []
    },
    {
      "cell_type": "code",
      "source": [
        "# Working with pim_df sheet\n",
        "\n",
        "pim_df = pd.read_csv('/content/elida_beauty_testing/Updated_Pim_sheet.csv')\n",
        "pim_df.columns\n"
      ],
      "metadata": {
        "colab": {
          "base_uri": "https://localhost:8080/"
        },
        "id": "MH2kK3X5tgqL",
        "outputId": "38da659e-8725-4157-8287-29488d78ee55"
      },
      "execution_count": 265,
      "outputs": [
        {
          "output_type": "execute_result",
          "data": {
            "text/plain": [
              "Index(['identifierValue', 'category', 'productName', 'productDescription', 'lastModifiedTime', 'productTags', 'binidentifier', 'pdpUrl', 'imageUrl'], dtype='object')"
            ]
          },
          "metadata": {},
          "execution_count": 265
        }
      ]
    },
    {
      "cell_type": "code",
      "source": [
        "# Working with pim_df sheet\n",
        "\n",
        "pim_df = pd.read_csv('/content/elida_beauty_testing/Updated_Pim_sheet.csv')\n",
        "pim_df.columns\n"
      ],
      "metadata": {
        "colab": {
          "base_uri": "https://localhost:8080/"
        },
        "id": "nygqguuWB1dh",
        "outputId": "bed6d580-a9f0-440b-c7bf-ec58f4335753"
      },
      "execution_count": 266,
      "outputs": [
        {
          "output_type": "execute_result",
          "data": {
            "text/plain": [
              "Index(['identifierValue', 'category', 'productName', 'productDescription', 'lastModifiedTime', 'productTags', 'binidentifier', 'pdpUrl', 'imageUrl'], dtype='object')"
            ]
          },
          "metadata": {},
          "execution_count": 266
        }
      ]
    },
    {
      "cell_type": "code",
      "source": [
        "pim_df = pim_df.dropna(how='all', axis=1)\n",
        "pim_df.columns\n"
      ],
      "metadata": {
        "colab": {
          "base_uri": "https://localhost:8080/"
        },
        "id": "IXVF-1M4CUkI",
        "outputId": "a4726680-a9a2-43fd-c07d-b4aded56cd72"
      },
      "execution_count": 267,
      "outputs": [
        {
          "output_type": "execute_result",
          "data": {
            "text/plain": [
              "Index(['identifierValue', 'category', 'productName', 'productDescription', 'pdpUrl', 'imageUrl'], dtype='object')"
            ]
          },
          "metadata": {},
          "execution_count": 267
        }
      ]
    },
    {
      "cell_type": "code",
      "source": [
        "pim_df1 = pim_df.copy()\n",
        "# pim_df1.columns\n",
        "pim_df1['identifierValue'] = pim_df1['identifierValue'].str.strip('GTIN:')\n",
        "\n",
        "# Stripping any unwanted space before and after the values in the columns\n",
        "for col in pim_df1.columns:\n",
        "  pim_df1[col] = pim_df1[col].str.strip()"
      ],
      "metadata": {
        "id": "aWPEGIcvCUqH"
      },
      "execution_count": 268,
      "outputs": []
    },
    {
      "cell_type": "code",
      "source": [
        "pim_df1.columns"
      ],
      "metadata": {
        "colab": {
          "base_uri": "https://localhost:8080/"
        },
        "id": "bdW3nrr6CUsf",
        "outputId": "059e35b2-7894-43c8-e25a-fc374dac6568"
      },
      "execution_count": null,
      "outputs": [
        {
          "output_type": "execute_result",
          "data": {
            "text/plain": [
              "Index(['identifierValue', 'category', 'productName', 'productDescription', 'pdpUrl', 'imageUrl'], dtype='object')"
            ]
          },
          "metadata": {},
          "execution_count": 195
        }
      ]
    },
    {
      "cell_type": "code",
      "source": [
        "# Adding additional columns to pim_df1\n",
        "\n",
        "pim_df1.rename(columns={'pdpUrl': 'pageUrl'},inplace=True)\n",
        "pim_df1[['shortDescription','variants','range','score','smartProductId','routineName']]=''\n",
        "pim_df1['imageAltText'] = pim_df1['productName'].copy()\n",
        "pim_df1['brandName']='elida'\n",
        "pim_df1.columns\n",
        "# pim_df1.head()"
      ],
      "metadata": {
        "colab": {
          "base_uri": "https://localhost:8080/"
        },
        "id": "-aMvZjFUbMi5",
        "outputId": "37f0e792-4e87-4e51-a7ae-1983820437a9"
      },
      "execution_count": 269,
      "outputs": [
        {
          "output_type": "execute_result",
          "data": {
            "text/plain": [
              "Index(['identifierValue', 'category', 'productName', 'productDescription', 'pageUrl', 'imageUrl', 'shortDescription', 'variants', 'range', 'score', 'smartProductId', 'routineName', 'imageAltText', 'brandName'], dtype='object')"
            ]
          },
          "metadata": {},
          "execution_count": 269
        }
      ]
    },
    {
      "cell_type": "code",
      "source": [
        "pim_df1.head()"
      ],
      "metadata": {
        "colab": {
          "base_uri": "https://localhost:8080/",
          "height": 461
        },
        "id": "h9LDRzS2djm5",
        "outputId": "a9fc687d-20bc-4695-8683-5a837346c7fb"
      },
      "execution_count": 270,
      "outputs": [
        {
          "output_type": "execute_result",
          "data": {
            "text/plain": [
              "  identifierValue category                              productName                                 productDescription                                            pageUrl                     imageUrl shortDescription variants range score smartProductId routineName                             imageAltText brandName\n",
              "0  00000050398645      wax           Vo5 Wax Rework Putty Jar 150ml  Rework Putty offers all day reworkable hold an...  https://www.vo5.co.uk/products/men/rework-hold...  https://postimg.cc/3WJhKFFY                                                                            Vo5 Wax Rework Putty Jar 150ml     elida\n",
              "1  08710908578656    paste               VO5 Matt Rework Paste 75ml  Matt Rework Paste combines a matt finish with ...  https://www.vo5.co.uk/products/men/rework-hold...  https://postimg.cc/hzzkN2q0                                                                                VO5 Matt Rework Paste 75ml     elida\n",
              "2  00000050398621      wax                 Vo5 Wax Styling Jar 75ml  Styling Wax Creates a long lasting firm hold w...  https://www.vo5.co.uk/products/men/rework-hold...  https://postimg.cc/k283j1qF                                                                                  Vo5 Wax Styling Jar 75ml     elida\n",
              "3  00000050398676      gum             Vo5 Gum Texturising Tin 75ml  Texturising Gum shapes hair and is great for s...  https://www.vo5.co.uk/products/men/extra-hold/...  https://postimg.cc/N5FDp3sZ                                                                              Vo5 Gum Texturising Tin 75ml     elida\n",
              "4  05012254066409    paste  Vo5 Paste Extreme Style Matt Pump 100ml  Use Matt Styling Paste to shape hair with rewo...  https://www.vo5.co.uk/products/men/extra-hold/...  https://postimg.cc/PPh7MXNy                                                                   Vo5 Paste Extreme Style Matt Pump 100ml     elida"
            ],
            "text/html": [
              "\n",
              "  <div id=\"df-3e51e523-0d4d-4e13-b98c-a77daa8e755e\">\n",
              "    <div class=\"colab-df-container\">\n",
              "      <div>\n",
              "<style scoped>\n",
              "    .dataframe tbody tr th:only-of-type {\n",
              "        vertical-align: middle;\n",
              "    }\n",
              "\n",
              "    .dataframe tbody tr th {\n",
              "        vertical-align: top;\n",
              "    }\n",
              "\n",
              "    .dataframe thead th {\n",
              "        text-align: right;\n",
              "    }\n",
              "</style>\n",
              "<table border=\"1\" class=\"dataframe\">\n",
              "  <thead>\n",
              "    <tr style=\"text-align: right;\">\n",
              "      <th></th>\n",
              "      <th>identifierValue</th>\n",
              "      <th>category</th>\n",
              "      <th>productName</th>\n",
              "      <th>productDescription</th>\n",
              "      <th>pageUrl</th>\n",
              "      <th>imageUrl</th>\n",
              "      <th>shortDescription</th>\n",
              "      <th>variants</th>\n",
              "      <th>range</th>\n",
              "      <th>score</th>\n",
              "      <th>smartProductId</th>\n",
              "      <th>routineName</th>\n",
              "      <th>imageAltText</th>\n",
              "      <th>brandName</th>\n",
              "    </tr>\n",
              "  </thead>\n",
              "  <tbody>\n",
              "    <tr>\n",
              "      <th>0</th>\n",
              "      <td>00000050398645</td>\n",
              "      <td>wax</td>\n",
              "      <td>Vo5 Wax Rework Putty Jar 150ml</td>\n",
              "      <td>Rework Putty offers all day reworkable hold an...</td>\n",
              "      <td>https://www.vo5.co.uk/products/men/rework-hold...</td>\n",
              "      <td>https://postimg.cc/3WJhKFFY</td>\n",
              "      <td></td>\n",
              "      <td></td>\n",
              "      <td></td>\n",
              "      <td></td>\n",
              "      <td></td>\n",
              "      <td></td>\n",
              "      <td>Vo5 Wax Rework Putty Jar 150ml</td>\n",
              "      <td>elida</td>\n",
              "    </tr>\n",
              "    <tr>\n",
              "      <th>1</th>\n",
              "      <td>08710908578656</td>\n",
              "      <td>paste</td>\n",
              "      <td>VO5 Matt Rework Paste 75ml</td>\n",
              "      <td>Matt Rework Paste combines a matt finish with ...</td>\n",
              "      <td>https://www.vo5.co.uk/products/men/rework-hold...</td>\n",
              "      <td>https://postimg.cc/hzzkN2q0</td>\n",
              "      <td></td>\n",
              "      <td></td>\n",
              "      <td></td>\n",
              "      <td></td>\n",
              "      <td></td>\n",
              "      <td></td>\n",
              "      <td>VO5 Matt Rework Paste 75ml</td>\n",
              "      <td>elida</td>\n",
              "    </tr>\n",
              "    <tr>\n",
              "      <th>2</th>\n",
              "      <td>00000050398621</td>\n",
              "      <td>wax</td>\n",
              "      <td>Vo5 Wax Styling Jar 75ml</td>\n",
              "      <td>Styling Wax Creates a long lasting firm hold w...</td>\n",
              "      <td>https://www.vo5.co.uk/products/men/rework-hold...</td>\n",
              "      <td>https://postimg.cc/k283j1qF</td>\n",
              "      <td></td>\n",
              "      <td></td>\n",
              "      <td></td>\n",
              "      <td></td>\n",
              "      <td></td>\n",
              "      <td></td>\n",
              "      <td>Vo5 Wax Styling Jar 75ml</td>\n",
              "      <td>elida</td>\n",
              "    </tr>\n",
              "    <tr>\n",
              "      <th>3</th>\n",
              "      <td>00000050398676</td>\n",
              "      <td>gum</td>\n",
              "      <td>Vo5 Gum Texturising Tin 75ml</td>\n",
              "      <td>Texturising Gum shapes hair and is great for s...</td>\n",
              "      <td>https://www.vo5.co.uk/products/men/extra-hold/...</td>\n",
              "      <td>https://postimg.cc/N5FDp3sZ</td>\n",
              "      <td></td>\n",
              "      <td></td>\n",
              "      <td></td>\n",
              "      <td></td>\n",
              "      <td></td>\n",
              "      <td></td>\n",
              "      <td>Vo5 Gum Texturising Tin 75ml</td>\n",
              "      <td>elida</td>\n",
              "    </tr>\n",
              "    <tr>\n",
              "      <th>4</th>\n",
              "      <td>05012254066409</td>\n",
              "      <td>paste</td>\n",
              "      <td>Vo5 Paste Extreme Style Matt Pump 100ml</td>\n",
              "      <td>Use Matt Styling Paste to shape hair with rewo...</td>\n",
              "      <td>https://www.vo5.co.uk/products/men/extra-hold/...</td>\n",
              "      <td>https://postimg.cc/PPh7MXNy</td>\n",
              "      <td></td>\n",
              "      <td></td>\n",
              "      <td></td>\n",
              "      <td></td>\n",
              "      <td></td>\n",
              "      <td></td>\n",
              "      <td>Vo5 Paste Extreme Style Matt Pump 100ml</td>\n",
              "      <td>elida</td>\n",
              "    </tr>\n",
              "  </tbody>\n",
              "</table>\n",
              "</div>\n",
              "      <button class=\"colab-df-convert\" onclick=\"convertToInteractive('df-3e51e523-0d4d-4e13-b98c-a77daa8e755e')\"\n",
              "              title=\"Convert this dataframe to an interactive table.\"\n",
              "              style=\"display:none;\">\n",
              "        \n",
              "  <svg xmlns=\"http://www.w3.org/2000/svg\" height=\"24px\"viewBox=\"0 0 24 24\"\n",
              "       width=\"24px\">\n",
              "    <path d=\"M0 0h24v24H0V0z\" fill=\"none\"/>\n",
              "    <path d=\"M18.56 5.44l.94 2.06.94-2.06 2.06-.94-2.06-.94-.94-2.06-.94 2.06-2.06.94zm-11 1L8.5 8.5l.94-2.06 2.06-.94-2.06-.94L8.5 2.5l-.94 2.06-2.06.94zm10 10l.94 2.06.94-2.06 2.06-.94-2.06-.94-.94-2.06-.94 2.06-2.06.94z\"/><path d=\"M17.41 7.96l-1.37-1.37c-.4-.4-.92-.59-1.43-.59-.52 0-1.04.2-1.43.59L10.3 9.45l-7.72 7.72c-.78.78-.78 2.05 0 2.83L4 21.41c.39.39.9.59 1.41.59.51 0 1.02-.2 1.41-.59l7.78-7.78 2.81-2.81c.8-.78.8-2.07 0-2.86zM5.41 20L4 18.59l7.72-7.72 1.47 1.35L5.41 20z\"/>\n",
              "  </svg>\n",
              "      </button>\n",
              "      \n",
              "  <style>\n",
              "    .colab-df-container {\n",
              "      display:flex;\n",
              "      flex-wrap:wrap;\n",
              "      gap: 12px;\n",
              "    }\n",
              "\n",
              "    .colab-df-convert {\n",
              "      background-color: #E8F0FE;\n",
              "      border: none;\n",
              "      border-radius: 50%;\n",
              "      cursor: pointer;\n",
              "      display: none;\n",
              "      fill: #1967D2;\n",
              "      height: 32px;\n",
              "      padding: 0 0 0 0;\n",
              "      width: 32px;\n",
              "    }\n",
              "\n",
              "    .colab-df-convert:hover {\n",
              "      background-color: #E2EBFA;\n",
              "      box-shadow: 0px 1px 2px rgba(60, 64, 67, 0.3), 0px 1px 3px 1px rgba(60, 64, 67, 0.15);\n",
              "      fill: #174EA6;\n",
              "    }\n",
              "\n",
              "    [theme=dark] .colab-df-convert {\n",
              "      background-color: #3B4455;\n",
              "      fill: #D2E3FC;\n",
              "    }\n",
              "\n",
              "    [theme=dark] .colab-df-convert:hover {\n",
              "      background-color: #434B5C;\n",
              "      box-shadow: 0px 1px 3px 1px rgba(0, 0, 0, 0.15);\n",
              "      filter: drop-shadow(0px 1px 2px rgba(0, 0, 0, 0.3));\n",
              "      fill: #FFFFFF;\n",
              "    }\n",
              "  </style>\n",
              "\n",
              "      <script>\n",
              "        const buttonEl =\n",
              "          document.querySelector('#df-3e51e523-0d4d-4e13-b98c-a77daa8e755e button.colab-df-convert');\n",
              "        buttonEl.style.display =\n",
              "          google.colab.kernel.accessAllowed ? 'block' : 'none';\n",
              "\n",
              "        async function convertToInteractive(key) {\n",
              "          const element = document.querySelector('#df-3e51e523-0d4d-4e13-b98c-a77daa8e755e');\n",
              "          const dataTable =\n",
              "            await google.colab.kernel.invokeFunction('convertToInteractive',\n",
              "                                                     [key], {});\n",
              "          if (!dataTable) return;\n",
              "\n",
              "          const docLinkHtml = 'Like what you see? Visit the ' +\n",
              "            '<a target=\"_blank\" href=https://colab.research.google.com/notebooks/data_table.ipynb>data table notebook</a>'\n",
              "            + ' to learn more about interactive tables.';\n",
              "          element.innerHTML = '';\n",
              "          dataTable['output_type'] = 'display_data';\n",
              "          await google.colab.output.renderOutput(dataTable, element);\n",
              "          const docLink = document.createElement('div');\n",
              "          docLink.innerHTML = docLinkHtml;\n",
              "          element.appendChild(docLink);\n",
              "        }\n",
              "      </script>\n",
              "    </div>\n",
              "  </div>\n",
              "  "
            ]
          },
          "metadata": {},
          "execution_count": 270
        }
      ]
    },
    {
      "cell_type": "code",
      "source": [
        "\n",
        "\n",
        "# use to_dict() to convert dataframe to dictionary\n",
        "pim_df1_dict = pim_df1.to_dict()\n",
        "\n",
        "# create a new dictionary with desired structure\n",
        "result = {productName: [{'routineName': pim_df1_dict['routineName'][i],\n",
        "\t\t\t\t\t\t'category': pim_df1_dict['category'][i],\n",
        "\t\t\t\t\t\t'shortDescription':pim_df1_dict['shortDescription'][i],\n",
        "\t\t\t\t\t\t'pageUrl': pim_df1_dict['pageUrl'][i],\n",
        "\t\t\t\t\t\t'productName': pim_df1_dict['productName'][i],\n",
        "\t\t\t\t\t\t'variants':pim_df1['variants'][i], \n",
        "\t\t\t\t\t\t'range':pim_df1['range'][i],\n",
        "\t\t\t\t\t\t'score':pim_df1['score'][i], \n",
        "\t\t\t\t\t\t'brandName':pim_df1['brandName'][i],\n",
        "\t\t\t\t\t\t'imageUrl': pim_df1_dict['imageUrl'][i],\n",
        "\t\t\t\t\t\t'smartProductId':pim_df1['smartProductId'][i], \n",
        "\t\t\t\t\t\t'identifierValue': pim_df1_dict['identifierValue'][i],\n",
        "\t\t\t\t\t\t'imageAltText':pim_df1['imageAltText'][i], \n",
        "\t\t\t\t\t\t'productDescription': pim_df1_dict['productDescription'][i]}]\n",
        "            for i, productName in enumerate(pim_df1_dict['productName'].values())}\n"
      ],
      "metadata": {
        "id": "7sqwnSqtZcki"
      },
      "execution_count": 272,
      "outputs": []
    },
    {
      "cell_type": "code",
      "source": [
        "# To check the output of the dictionary\n",
        "\n",
        "result"
      ],
      "metadata": {
        "id": "LJslHv8maHCE"
      },
      "execution_count": null,
      "outputs": []
    },
    {
      "cell_type": "code",
      "source": [
        "# replacing NaN with default\n",
        "df2_new = df1.copy()\n",
        "\n",
        "df2_new = df2_new.fillna('default')"
      ],
      "metadata": {
        "id": "izfO34M3SMyD"
      },
      "execution_count": 274,
      "outputs": []
    },
    {
      "cell_type": "code",
      "source": [
        "df2_new.head()"
      ],
      "metadata": {
        "colab": {
          "base_uri": "https://localhost:8080/",
          "height": 510
        },
        "id": "wsJKH5ADWgp2",
        "outputId": "1fd7b126-e5d2-4bd4-e203-dc012e7ea625"
      },
      "execution_count": 275,
      "outputs": [
        {
          "output_type": "execute_result",
          "data": {
            "text/plain": [
              "                    Q1        Q2          Q3          Q4                                   P1                                       P2                                        P3                              P4\n",
              "0  Fine, Medium, Thick  Straight   Hydration  Hair dryer  VO5 Hairdryer Protection Mist 200ml            Vo5 Serum Invisible Pump 50ml                                   default                         default\n",
              "0  Fine, Medium, Thick      Wavy   Hydration  Hair dryer  VO5 Hairdryer Protection Mist 200ml            Vo5 Serum Invisible Pump 50ml                                   default                         default\n",
              "1  Fine, Medium, Thick  Straight      Volume  Hair dryer  VO5 Hairdryer Protection Mist 200ml  Vo5 Heat Protect Lot Spr Blow Dry 200ml          Vo5 Gel Spray Volume Boost 200ml                         default\n",
              "1  Fine, Medium, Thick      Wavy      Volume  Hair dryer  VO5 Hairdryer Protection Mist 200ml  Vo5 Heat Protect Lot Spr Blow Dry 200ml          Vo5 Gel Spray Volume Boost 200ml                         default\n",
              "2  Fine, Medium, Thick  Straight  Smoothness  Hair dryer  VO5 Hairdryer Protection Mist 200ml            Vo5 Serum Invisible Pump 50ml  V05 Taming Spray Heat Defence Aero 100ml  Vo5 Cream Frizzfree Tube 125ml"
            ],
            "text/html": [
              "\n",
              "  <div id=\"df-8d7054b2-5c29-4939-8f64-d4d22f9d4814\">\n",
              "    <div class=\"colab-df-container\">\n",
              "      <div>\n",
              "<style scoped>\n",
              "    .dataframe tbody tr th:only-of-type {\n",
              "        vertical-align: middle;\n",
              "    }\n",
              "\n",
              "    .dataframe tbody tr th {\n",
              "        vertical-align: top;\n",
              "    }\n",
              "\n",
              "    .dataframe thead th {\n",
              "        text-align: right;\n",
              "    }\n",
              "</style>\n",
              "<table border=\"1\" class=\"dataframe\">\n",
              "  <thead>\n",
              "    <tr style=\"text-align: right;\">\n",
              "      <th></th>\n",
              "      <th>Q1</th>\n",
              "      <th>Q2</th>\n",
              "      <th>Q3</th>\n",
              "      <th>Q4</th>\n",
              "      <th>P1</th>\n",
              "      <th>P2</th>\n",
              "      <th>P3</th>\n",
              "      <th>P4</th>\n",
              "    </tr>\n",
              "  </thead>\n",
              "  <tbody>\n",
              "    <tr>\n",
              "      <th>0</th>\n",
              "      <td>Fine, Medium, Thick</td>\n",
              "      <td>Straight</td>\n",
              "      <td>Hydration</td>\n",
              "      <td>Hair dryer</td>\n",
              "      <td>VO5 Hairdryer Protection Mist 200ml</td>\n",
              "      <td>Vo5 Serum Invisible Pump 50ml</td>\n",
              "      <td>default</td>\n",
              "      <td>default</td>\n",
              "    </tr>\n",
              "    <tr>\n",
              "      <th>0</th>\n",
              "      <td>Fine, Medium, Thick</td>\n",
              "      <td>Wavy</td>\n",
              "      <td>Hydration</td>\n",
              "      <td>Hair dryer</td>\n",
              "      <td>VO5 Hairdryer Protection Mist 200ml</td>\n",
              "      <td>Vo5 Serum Invisible Pump 50ml</td>\n",
              "      <td>default</td>\n",
              "      <td>default</td>\n",
              "    </tr>\n",
              "    <tr>\n",
              "      <th>1</th>\n",
              "      <td>Fine, Medium, Thick</td>\n",
              "      <td>Straight</td>\n",
              "      <td>Volume</td>\n",
              "      <td>Hair dryer</td>\n",
              "      <td>VO5 Hairdryer Protection Mist 200ml</td>\n",
              "      <td>Vo5 Heat Protect Lot Spr Blow Dry 200ml</td>\n",
              "      <td>Vo5 Gel Spray Volume Boost 200ml</td>\n",
              "      <td>default</td>\n",
              "    </tr>\n",
              "    <tr>\n",
              "      <th>1</th>\n",
              "      <td>Fine, Medium, Thick</td>\n",
              "      <td>Wavy</td>\n",
              "      <td>Volume</td>\n",
              "      <td>Hair dryer</td>\n",
              "      <td>VO5 Hairdryer Protection Mist 200ml</td>\n",
              "      <td>Vo5 Heat Protect Lot Spr Blow Dry 200ml</td>\n",
              "      <td>Vo5 Gel Spray Volume Boost 200ml</td>\n",
              "      <td>default</td>\n",
              "    </tr>\n",
              "    <tr>\n",
              "      <th>2</th>\n",
              "      <td>Fine, Medium, Thick</td>\n",
              "      <td>Straight</td>\n",
              "      <td>Smoothness</td>\n",
              "      <td>Hair dryer</td>\n",
              "      <td>VO5 Hairdryer Protection Mist 200ml</td>\n",
              "      <td>Vo5 Serum Invisible Pump 50ml</td>\n",
              "      <td>V05 Taming Spray Heat Defence Aero 100ml</td>\n",
              "      <td>Vo5 Cream Frizzfree Tube 125ml</td>\n",
              "    </tr>\n",
              "  </tbody>\n",
              "</table>\n",
              "</div>\n",
              "      <button class=\"colab-df-convert\" onclick=\"convertToInteractive('df-8d7054b2-5c29-4939-8f64-d4d22f9d4814')\"\n",
              "              title=\"Convert this dataframe to an interactive table.\"\n",
              "              style=\"display:none;\">\n",
              "        \n",
              "  <svg xmlns=\"http://www.w3.org/2000/svg\" height=\"24px\"viewBox=\"0 0 24 24\"\n",
              "       width=\"24px\">\n",
              "    <path d=\"M0 0h24v24H0V0z\" fill=\"none\"/>\n",
              "    <path d=\"M18.56 5.44l.94 2.06.94-2.06 2.06-.94-2.06-.94-.94-2.06-.94 2.06-2.06.94zm-11 1L8.5 8.5l.94-2.06 2.06-.94-2.06-.94L8.5 2.5l-.94 2.06-2.06.94zm10 10l.94 2.06.94-2.06 2.06-.94-2.06-.94-.94-2.06-.94 2.06-2.06.94z\"/><path d=\"M17.41 7.96l-1.37-1.37c-.4-.4-.92-.59-1.43-.59-.52 0-1.04.2-1.43.59L10.3 9.45l-7.72 7.72c-.78.78-.78 2.05 0 2.83L4 21.41c.39.39.9.59 1.41.59.51 0 1.02-.2 1.41-.59l7.78-7.78 2.81-2.81c.8-.78.8-2.07 0-2.86zM5.41 20L4 18.59l7.72-7.72 1.47 1.35L5.41 20z\"/>\n",
              "  </svg>\n",
              "      </button>\n",
              "      \n",
              "  <style>\n",
              "    .colab-df-container {\n",
              "      display:flex;\n",
              "      flex-wrap:wrap;\n",
              "      gap: 12px;\n",
              "    }\n",
              "\n",
              "    .colab-df-convert {\n",
              "      background-color: #E8F0FE;\n",
              "      border: none;\n",
              "      border-radius: 50%;\n",
              "      cursor: pointer;\n",
              "      display: none;\n",
              "      fill: #1967D2;\n",
              "      height: 32px;\n",
              "      padding: 0 0 0 0;\n",
              "      width: 32px;\n",
              "    }\n",
              "\n",
              "    .colab-df-convert:hover {\n",
              "      background-color: #E2EBFA;\n",
              "      box-shadow: 0px 1px 2px rgba(60, 64, 67, 0.3), 0px 1px 3px 1px rgba(60, 64, 67, 0.15);\n",
              "      fill: #174EA6;\n",
              "    }\n",
              "\n",
              "    [theme=dark] .colab-df-convert {\n",
              "      background-color: #3B4455;\n",
              "      fill: #D2E3FC;\n",
              "    }\n",
              "\n",
              "    [theme=dark] .colab-df-convert:hover {\n",
              "      background-color: #434B5C;\n",
              "      box-shadow: 0px 1px 3px 1px rgba(0, 0, 0, 0.15);\n",
              "      filter: drop-shadow(0px 1px 2px rgba(0, 0, 0, 0.3));\n",
              "      fill: #FFFFFF;\n",
              "    }\n",
              "  </style>\n",
              "\n",
              "      <script>\n",
              "        const buttonEl =\n",
              "          document.querySelector('#df-8d7054b2-5c29-4939-8f64-d4d22f9d4814 button.colab-df-convert');\n",
              "        buttonEl.style.display =\n",
              "          google.colab.kernel.accessAllowed ? 'block' : 'none';\n",
              "\n",
              "        async function convertToInteractive(key) {\n",
              "          const element = document.querySelector('#df-8d7054b2-5c29-4939-8f64-d4d22f9d4814');\n",
              "          const dataTable =\n",
              "            await google.colab.kernel.invokeFunction('convertToInteractive',\n",
              "                                                     [key], {});\n",
              "          if (!dataTable) return;\n",
              "\n",
              "          const docLinkHtml = 'Like what you see? Visit the ' +\n",
              "            '<a target=\"_blank\" href=https://colab.research.google.com/notebooks/data_table.ipynb>data table notebook</a>'\n",
              "            + ' to learn more about interactive tables.';\n",
              "          element.innerHTML = '';\n",
              "          dataTable['output_type'] = 'display_data';\n",
              "          await google.colab.output.renderOutput(dataTable, element);\n",
              "          const docLink = document.createElement('div');\n",
              "          docLink.innerHTML = docLinkHtml;\n",
              "          element.appendChild(docLink);\n",
              "        }\n",
              "      </script>\n",
              "    </div>\n",
              "  </div>\n",
              "  "
            ]
          },
          "metadata": {},
          "execution_count": 275
        }
      ]
    },
    {
      "cell_type": "code",
      "source": [
        "# df2_new['IdentifierValue'] = df2_new['P1'].apply(lambda x: [pim_df2.get(item) for item in x])\n",
        "df2_new['P1'] = df2_new['P1'].apply(lambda x: result.get(x))\n",
        "df2_new['P2'] = df2_new['P2'].apply(lambda x: result.get(x))\n",
        "df2_new['P3'] = df2_new['P3'].apply(lambda x: result.get(x))\n",
        "df2_new['P4'] = df2_new['P4'].apply(lambda x: result.get(x))"
      ],
      "metadata": {
        "id": "cDJSdUnWWgoK"
      },
      "execution_count": 276,
      "outputs": []
    },
    {
      "cell_type": "code",
      "source": [
        "len(df2_new)"
      ],
      "metadata": {
        "colab": {
          "base_uri": "https://localhost:8080/"
        },
        "id": "bNyMCykDiMnI",
        "outputId": "5c322d75-0738-47db-ce2d-ab1cd090afce"
      },
      "execution_count": 277,
      "outputs": [
        {
          "output_type": "execute_result",
          "data": {
            "text/plain": [
              "12870"
            ]
          },
          "metadata": {},
          "execution_count": 277
        }
      ]
    },
    {
      "cell_type": "code",
      "source": [
        "df2_new.columns"
      ],
      "metadata": {
        "colab": {
          "base_uri": "https://localhost:8080/"
        },
        "id": "InmRTkYVWgl5",
        "outputId": "171ea265-c40f-46e0-eaea-5b26eae7e7b2"
      },
      "execution_count": 278,
      "outputs": [
        {
          "output_type": "execute_result",
          "data": {
            "text/plain": [
              "Index(['Q1', 'Q2', 'Q3', 'Q4', 'P1', 'P2', 'P3', 'P4'], dtype='object')"
            ]
          },
          "metadata": {},
          "execution_count": 278
        }
      ]
    },
    {
      "cell_type": "code",
      "source": [
        "df2_new.to_csv('final_output_file.csv')"
      ],
      "metadata": {
        "id": "axofRTQ3iDZ2"
      },
      "execution_count": 296,
      "outputs": []
    },
    {
      "cell_type": "code",
      "source": [
        "df2_new.head()"
      ],
      "metadata": {
        "id": "GWHmtGGWpNnY",
        "colab": {
          "base_uri": "https://localhost:8080/",
          "height": 444
        },
        "outputId": "d6f108d9-6492-494b-d1cd-417c4668879e"
      },
      "execution_count": 280,
      "outputs": [
        {
          "output_type": "execute_result",
          "data": {
            "text/plain": [
              "                    Q1        Q2          Q3          Q4                                                 P1                                                 P2                                                 P3                                                 P4\n",
              "0  Fine, Medium, Thick  Straight   Hydration  Hair dryer  [{'routineName': '', 'category': 'mist', 'shor...  [{'routineName': '', 'category': 'serum', 'sho...                                               None                                               None\n",
              "0  Fine, Medium, Thick      Wavy   Hydration  Hair dryer  [{'routineName': '', 'category': 'mist', 'shor...  [{'routineName': '', 'category': 'serum', 'sho...                                               None                                               None\n",
              "1  Fine, Medium, Thick  Straight      Volume  Hair dryer  [{'routineName': '', 'category': 'mist', 'shor...  [{'routineName': '', 'category': 'spray', 'sho...  [{'routineName': '', 'category': 'gel', 'short...                                               None\n",
              "1  Fine, Medium, Thick      Wavy      Volume  Hair dryer  [{'routineName': '', 'category': 'mist', 'shor...  [{'routineName': '', 'category': 'spray', 'sho...  [{'routineName': '', 'category': 'gel', 'short...                                               None\n",
              "2  Fine, Medium, Thick  Straight  Smoothness  Hair dryer  [{'routineName': '', 'category': 'mist', 'shor...  [{'routineName': '', 'category': 'serum', 'sho...  [{'routineName': '', 'category': 'spray', 'sho...  [{'routineName': '', 'category': 'cream', 'sho..."
            ],
            "text/html": [
              "\n",
              "  <div id=\"df-688d6ef7-b83e-46e7-929a-07b88cb68078\">\n",
              "    <div class=\"colab-df-container\">\n",
              "      <div>\n",
              "<style scoped>\n",
              "    .dataframe tbody tr th:only-of-type {\n",
              "        vertical-align: middle;\n",
              "    }\n",
              "\n",
              "    .dataframe tbody tr th {\n",
              "        vertical-align: top;\n",
              "    }\n",
              "\n",
              "    .dataframe thead th {\n",
              "        text-align: right;\n",
              "    }\n",
              "</style>\n",
              "<table border=\"1\" class=\"dataframe\">\n",
              "  <thead>\n",
              "    <tr style=\"text-align: right;\">\n",
              "      <th></th>\n",
              "      <th>Q1</th>\n",
              "      <th>Q2</th>\n",
              "      <th>Q3</th>\n",
              "      <th>Q4</th>\n",
              "      <th>P1</th>\n",
              "      <th>P2</th>\n",
              "      <th>P3</th>\n",
              "      <th>P4</th>\n",
              "    </tr>\n",
              "  </thead>\n",
              "  <tbody>\n",
              "    <tr>\n",
              "      <th>0</th>\n",
              "      <td>Fine, Medium, Thick</td>\n",
              "      <td>Straight</td>\n",
              "      <td>Hydration</td>\n",
              "      <td>Hair dryer</td>\n",
              "      <td>[{'routineName': '', 'category': 'mist', 'shor...</td>\n",
              "      <td>[{'routineName': '', 'category': 'serum', 'sho...</td>\n",
              "      <td>None</td>\n",
              "      <td>None</td>\n",
              "    </tr>\n",
              "    <tr>\n",
              "      <th>0</th>\n",
              "      <td>Fine, Medium, Thick</td>\n",
              "      <td>Wavy</td>\n",
              "      <td>Hydration</td>\n",
              "      <td>Hair dryer</td>\n",
              "      <td>[{'routineName': '', 'category': 'mist', 'shor...</td>\n",
              "      <td>[{'routineName': '', 'category': 'serum', 'sho...</td>\n",
              "      <td>None</td>\n",
              "      <td>None</td>\n",
              "    </tr>\n",
              "    <tr>\n",
              "      <th>1</th>\n",
              "      <td>Fine, Medium, Thick</td>\n",
              "      <td>Straight</td>\n",
              "      <td>Volume</td>\n",
              "      <td>Hair dryer</td>\n",
              "      <td>[{'routineName': '', 'category': 'mist', 'shor...</td>\n",
              "      <td>[{'routineName': '', 'category': 'spray', 'sho...</td>\n",
              "      <td>[{'routineName': '', 'category': 'gel', 'short...</td>\n",
              "      <td>None</td>\n",
              "    </tr>\n",
              "    <tr>\n",
              "      <th>1</th>\n",
              "      <td>Fine, Medium, Thick</td>\n",
              "      <td>Wavy</td>\n",
              "      <td>Volume</td>\n",
              "      <td>Hair dryer</td>\n",
              "      <td>[{'routineName': '', 'category': 'mist', 'shor...</td>\n",
              "      <td>[{'routineName': '', 'category': 'spray', 'sho...</td>\n",
              "      <td>[{'routineName': '', 'category': 'gel', 'short...</td>\n",
              "      <td>None</td>\n",
              "    </tr>\n",
              "    <tr>\n",
              "      <th>2</th>\n",
              "      <td>Fine, Medium, Thick</td>\n",
              "      <td>Straight</td>\n",
              "      <td>Smoothness</td>\n",
              "      <td>Hair dryer</td>\n",
              "      <td>[{'routineName': '', 'category': 'mist', 'shor...</td>\n",
              "      <td>[{'routineName': '', 'category': 'serum', 'sho...</td>\n",
              "      <td>[{'routineName': '', 'category': 'spray', 'sho...</td>\n",
              "      <td>[{'routineName': '', 'category': 'cream', 'sho...</td>\n",
              "    </tr>\n",
              "  </tbody>\n",
              "</table>\n",
              "</div>\n",
              "      <button class=\"colab-df-convert\" onclick=\"convertToInteractive('df-688d6ef7-b83e-46e7-929a-07b88cb68078')\"\n",
              "              title=\"Convert this dataframe to an interactive table.\"\n",
              "              style=\"display:none;\">\n",
              "        \n",
              "  <svg xmlns=\"http://www.w3.org/2000/svg\" height=\"24px\"viewBox=\"0 0 24 24\"\n",
              "       width=\"24px\">\n",
              "    <path d=\"M0 0h24v24H0V0z\" fill=\"none\"/>\n",
              "    <path d=\"M18.56 5.44l.94 2.06.94-2.06 2.06-.94-2.06-.94-.94-2.06-.94 2.06-2.06.94zm-11 1L8.5 8.5l.94-2.06 2.06-.94-2.06-.94L8.5 2.5l-.94 2.06-2.06.94zm10 10l.94 2.06.94-2.06 2.06-.94-2.06-.94-.94-2.06-.94 2.06-2.06.94z\"/><path d=\"M17.41 7.96l-1.37-1.37c-.4-.4-.92-.59-1.43-.59-.52 0-1.04.2-1.43.59L10.3 9.45l-7.72 7.72c-.78.78-.78 2.05 0 2.83L4 21.41c.39.39.9.59 1.41.59.51 0 1.02-.2 1.41-.59l7.78-7.78 2.81-2.81c.8-.78.8-2.07 0-2.86zM5.41 20L4 18.59l7.72-7.72 1.47 1.35L5.41 20z\"/>\n",
              "  </svg>\n",
              "      </button>\n",
              "      \n",
              "  <style>\n",
              "    .colab-df-container {\n",
              "      display:flex;\n",
              "      flex-wrap:wrap;\n",
              "      gap: 12px;\n",
              "    }\n",
              "\n",
              "    .colab-df-convert {\n",
              "      background-color: #E8F0FE;\n",
              "      border: none;\n",
              "      border-radius: 50%;\n",
              "      cursor: pointer;\n",
              "      display: none;\n",
              "      fill: #1967D2;\n",
              "      height: 32px;\n",
              "      padding: 0 0 0 0;\n",
              "      width: 32px;\n",
              "    }\n",
              "\n",
              "    .colab-df-convert:hover {\n",
              "      background-color: #E2EBFA;\n",
              "      box-shadow: 0px 1px 2px rgba(60, 64, 67, 0.3), 0px 1px 3px 1px rgba(60, 64, 67, 0.15);\n",
              "      fill: #174EA6;\n",
              "    }\n",
              "\n",
              "    [theme=dark] .colab-df-convert {\n",
              "      background-color: #3B4455;\n",
              "      fill: #D2E3FC;\n",
              "    }\n",
              "\n",
              "    [theme=dark] .colab-df-convert:hover {\n",
              "      background-color: #434B5C;\n",
              "      box-shadow: 0px 1px 3px 1px rgba(0, 0, 0, 0.15);\n",
              "      filter: drop-shadow(0px 1px 2px rgba(0, 0, 0, 0.3));\n",
              "      fill: #FFFFFF;\n",
              "    }\n",
              "  </style>\n",
              "\n",
              "      <script>\n",
              "        const buttonEl =\n",
              "          document.querySelector('#df-688d6ef7-b83e-46e7-929a-07b88cb68078 button.colab-df-convert');\n",
              "        buttonEl.style.display =\n",
              "          google.colab.kernel.accessAllowed ? 'block' : 'none';\n",
              "\n",
              "        async function convertToInteractive(key) {\n",
              "          const element = document.querySelector('#df-688d6ef7-b83e-46e7-929a-07b88cb68078');\n",
              "          const dataTable =\n",
              "            await google.colab.kernel.invokeFunction('convertToInteractive',\n",
              "                                                     [key], {});\n",
              "          if (!dataTable) return;\n",
              "\n",
              "          const docLinkHtml = 'Like what you see? Visit the ' +\n",
              "            '<a target=\"_blank\" href=https://colab.research.google.com/notebooks/data_table.ipynb>data table notebook</a>'\n",
              "            + ' to learn more about interactive tables.';\n",
              "          element.innerHTML = '';\n",
              "          dataTable['output_type'] = 'display_data';\n",
              "          await google.colab.output.renderOutput(dataTable, element);\n",
              "          const docLink = document.createElement('div');\n",
              "          docLink.innerHTML = docLinkHtml;\n",
              "          element.appendChild(docLink);\n",
              "        }\n",
              "      </script>\n",
              "    </div>\n",
              "  </div>\n",
              "  "
            ]
          },
          "metadata": {},
          "execution_count": 280
        }
      ]
    },
    {
      "cell_type": "markdown",
      "source": [
        "## Creating a composite key to create individual json files\n",
        "\n",
        "1.   First add P1 column in df3\n",
        "2.   Join P1 column in df3 with the dictionary created from pim_df to get the identifier value\n",
        "3. Load the json file and explode all the columns\n",
        "4. create another dictionary from this json_df\n",
        "5. join with the column Q1,Q2,Q3 and Q4 and generate the response id\n",
        "6. generate the composite key by joining r1_r2_r3_r4_identifierValue\n",
        "\n",
        "\n"
      ],
      "metadata": {
        "id": "7fZyUtv9r315"
      }
    },
    {
      "cell_type": "markdown",
      "source": [
        "Step 1 and 2 - As mentioned above"
      ],
      "metadata": {
        "id": "eVlAJ7h9vusF"
      }
    },
    {
      "cell_type": "code",
      "source": [
        "\n",
        "df3 = df2_new.copy()\n",
        "df3['IdentifierValue'] = df1['P1'].copy()\n",
        "# df3.head()\n",
        "\n",
        "pim_df2 = pim_df1[['identifierValue','productName']].copy()\n",
        "pim_df2 = pd.Series(pim_df2.identifierValue.values, index=pim_df2.productName).to_dict()\n",
        "# pim_df2\n",
        "\n",
        "df3['IdentifierValue'] = df3['IdentifierValue'].apply(lambda x: pim_df2.get(x))\n",
        "\n",
        "# Here now we have to explode Q1 column\n",
        "# Splitting the values present in the column into multiple rows based on the separator\t\n",
        "df3 = df3.assign(Q1=df1.Q1.str.split(\", \")).explode('Q1')\n",
        "col_list = ['Q1','Q2','Q3','Q4']\n",
        "for col in col_list:\n",
        "  df3[col] = df3[col].str.lower()\n",
        "len(df3)"
      ],
      "metadata": {
        "colab": {
          "base_uri": "https://localhost:8080/"
        },
        "id": "09QMrfMruMF2",
        "outputId": "b7db4cda-6180-4e14-a891-04bc25751280"
      },
      "execution_count": 306,
      "outputs": [
        {
          "output_type": "execute_result",
          "data": {
            "text/plain": [
              "38610"
            ]
          },
          "metadata": {},
          "execution_count": 306
        }
      ]
    },
    {
      "cell_type": "code",
      "source": [
        "df3.head()"
      ],
      "metadata": {
        "colab": {
          "base_uri": "https://localhost:8080/",
          "height": 444
        },
        "id": "2-IOgAUyuMCd",
        "outputId": "8e926685-0e56-49f8-81a0-b0984ad69b73"
      },
      "execution_count": 307,
      "outputs": [
        {
          "output_type": "execute_result",
          "data": {
            "text/plain": [
              "       Q1        Q2         Q3          Q4                                                 P1                                                 P2    P3    P4 IdentifierValue\n",
              "0    fine  straight  hydration  hair dryer  [{'routineName': '', 'category': 'mist', 'shor...  [{'routineName': '', 'category': 'serum', 'sho...  None  None  08710908852053\n",
              "0  medium  straight  hydration  hair dryer  [{'routineName': '', 'category': 'mist', 'shor...  [{'routineName': '', 'category': 'serum', 'sho...  None  None  08710908852053\n",
              "0   thick  straight  hydration  hair dryer  [{'routineName': '', 'category': 'mist', 'shor...  [{'routineName': '', 'category': 'serum', 'sho...  None  None  08710908852053\n",
              "0    fine      wavy  hydration  hair dryer  [{'routineName': '', 'category': 'mist', 'shor...  [{'routineName': '', 'category': 'serum', 'sho...  None  None  08710908852053\n",
              "0  medium      wavy  hydration  hair dryer  [{'routineName': '', 'category': 'mist', 'shor...  [{'routineName': '', 'category': 'serum', 'sho...  None  None  08710908852053"
            ],
            "text/html": [
              "\n",
              "  <div id=\"df-d508de8f-ed82-4d06-8151-b3fe24271e8f\">\n",
              "    <div class=\"colab-df-container\">\n",
              "      <div>\n",
              "<style scoped>\n",
              "    .dataframe tbody tr th:only-of-type {\n",
              "        vertical-align: middle;\n",
              "    }\n",
              "\n",
              "    .dataframe tbody tr th {\n",
              "        vertical-align: top;\n",
              "    }\n",
              "\n",
              "    .dataframe thead th {\n",
              "        text-align: right;\n",
              "    }\n",
              "</style>\n",
              "<table border=\"1\" class=\"dataframe\">\n",
              "  <thead>\n",
              "    <tr style=\"text-align: right;\">\n",
              "      <th></th>\n",
              "      <th>Q1</th>\n",
              "      <th>Q2</th>\n",
              "      <th>Q3</th>\n",
              "      <th>Q4</th>\n",
              "      <th>P1</th>\n",
              "      <th>P2</th>\n",
              "      <th>P3</th>\n",
              "      <th>P4</th>\n",
              "      <th>IdentifierValue</th>\n",
              "    </tr>\n",
              "  </thead>\n",
              "  <tbody>\n",
              "    <tr>\n",
              "      <th>0</th>\n",
              "      <td>fine</td>\n",
              "      <td>straight</td>\n",
              "      <td>hydration</td>\n",
              "      <td>hair dryer</td>\n",
              "      <td>[{'routineName': '', 'category': 'mist', 'shor...</td>\n",
              "      <td>[{'routineName': '', 'category': 'serum', 'sho...</td>\n",
              "      <td>None</td>\n",
              "      <td>None</td>\n",
              "      <td>08710908852053</td>\n",
              "    </tr>\n",
              "    <tr>\n",
              "      <th>0</th>\n",
              "      <td>medium</td>\n",
              "      <td>straight</td>\n",
              "      <td>hydration</td>\n",
              "      <td>hair dryer</td>\n",
              "      <td>[{'routineName': '', 'category': 'mist', 'shor...</td>\n",
              "      <td>[{'routineName': '', 'category': 'serum', 'sho...</td>\n",
              "      <td>None</td>\n",
              "      <td>None</td>\n",
              "      <td>08710908852053</td>\n",
              "    </tr>\n",
              "    <tr>\n",
              "      <th>0</th>\n",
              "      <td>thick</td>\n",
              "      <td>straight</td>\n",
              "      <td>hydration</td>\n",
              "      <td>hair dryer</td>\n",
              "      <td>[{'routineName': '', 'category': 'mist', 'shor...</td>\n",
              "      <td>[{'routineName': '', 'category': 'serum', 'sho...</td>\n",
              "      <td>None</td>\n",
              "      <td>None</td>\n",
              "      <td>08710908852053</td>\n",
              "    </tr>\n",
              "    <tr>\n",
              "      <th>0</th>\n",
              "      <td>fine</td>\n",
              "      <td>wavy</td>\n",
              "      <td>hydration</td>\n",
              "      <td>hair dryer</td>\n",
              "      <td>[{'routineName': '', 'category': 'mist', 'shor...</td>\n",
              "      <td>[{'routineName': '', 'category': 'serum', 'sho...</td>\n",
              "      <td>None</td>\n",
              "      <td>None</td>\n",
              "      <td>08710908852053</td>\n",
              "    </tr>\n",
              "    <tr>\n",
              "      <th>0</th>\n",
              "      <td>medium</td>\n",
              "      <td>wavy</td>\n",
              "      <td>hydration</td>\n",
              "      <td>hair dryer</td>\n",
              "      <td>[{'routineName': '', 'category': 'mist', 'shor...</td>\n",
              "      <td>[{'routineName': '', 'category': 'serum', 'sho...</td>\n",
              "      <td>None</td>\n",
              "      <td>None</td>\n",
              "      <td>08710908852053</td>\n",
              "    </tr>\n",
              "  </tbody>\n",
              "</table>\n",
              "</div>\n",
              "      <button class=\"colab-df-convert\" onclick=\"convertToInteractive('df-d508de8f-ed82-4d06-8151-b3fe24271e8f')\"\n",
              "              title=\"Convert this dataframe to an interactive table.\"\n",
              "              style=\"display:none;\">\n",
              "        \n",
              "  <svg xmlns=\"http://www.w3.org/2000/svg\" height=\"24px\"viewBox=\"0 0 24 24\"\n",
              "       width=\"24px\">\n",
              "    <path d=\"M0 0h24v24H0V0z\" fill=\"none\"/>\n",
              "    <path d=\"M18.56 5.44l.94 2.06.94-2.06 2.06-.94-2.06-.94-.94-2.06-.94 2.06-2.06.94zm-11 1L8.5 8.5l.94-2.06 2.06-.94-2.06-.94L8.5 2.5l-.94 2.06-2.06.94zm10 10l.94 2.06.94-2.06 2.06-.94-2.06-.94-.94-2.06-.94 2.06-2.06.94z\"/><path d=\"M17.41 7.96l-1.37-1.37c-.4-.4-.92-.59-1.43-.59-.52 0-1.04.2-1.43.59L10.3 9.45l-7.72 7.72c-.78.78-.78 2.05 0 2.83L4 21.41c.39.39.9.59 1.41.59.51 0 1.02-.2 1.41-.59l7.78-7.78 2.81-2.81c.8-.78.8-2.07 0-2.86zM5.41 20L4 18.59l7.72-7.72 1.47 1.35L5.41 20z\"/>\n",
              "  </svg>\n",
              "      </button>\n",
              "      \n",
              "  <style>\n",
              "    .colab-df-container {\n",
              "      display:flex;\n",
              "      flex-wrap:wrap;\n",
              "      gap: 12px;\n",
              "    }\n",
              "\n",
              "    .colab-df-convert {\n",
              "      background-color: #E8F0FE;\n",
              "      border: none;\n",
              "      border-radius: 50%;\n",
              "      cursor: pointer;\n",
              "      display: none;\n",
              "      fill: #1967D2;\n",
              "      height: 32px;\n",
              "      padding: 0 0 0 0;\n",
              "      width: 32px;\n",
              "    }\n",
              "\n",
              "    .colab-df-convert:hover {\n",
              "      background-color: #E2EBFA;\n",
              "      box-shadow: 0px 1px 2px rgba(60, 64, 67, 0.3), 0px 1px 3px 1px rgba(60, 64, 67, 0.15);\n",
              "      fill: #174EA6;\n",
              "    }\n",
              "\n",
              "    [theme=dark] .colab-df-convert {\n",
              "      background-color: #3B4455;\n",
              "      fill: #D2E3FC;\n",
              "    }\n",
              "\n",
              "    [theme=dark] .colab-df-convert:hover {\n",
              "      background-color: #434B5C;\n",
              "      box-shadow: 0px 1px 3px 1px rgba(0, 0, 0, 0.15);\n",
              "      filter: drop-shadow(0px 1px 2px rgba(0, 0, 0, 0.3));\n",
              "      fill: #FFFFFF;\n",
              "    }\n",
              "  </style>\n",
              "\n",
              "      <script>\n",
              "        const buttonEl =\n",
              "          document.querySelector('#df-d508de8f-ed82-4d06-8151-b3fe24271e8f button.colab-df-convert');\n",
              "        buttonEl.style.display =\n",
              "          google.colab.kernel.accessAllowed ? 'block' : 'none';\n",
              "\n",
              "        async function convertToInteractive(key) {\n",
              "          const element = document.querySelector('#df-d508de8f-ed82-4d06-8151-b3fe24271e8f');\n",
              "          const dataTable =\n",
              "            await google.colab.kernel.invokeFunction('convertToInteractive',\n",
              "                                                     [key], {});\n",
              "          if (!dataTable) return;\n",
              "\n",
              "          const docLinkHtml = 'Like what you see? Visit the ' +\n",
              "            '<a target=\"_blank\" href=https://colab.research.google.com/notebooks/data_table.ipynb>data table notebook</a>'\n",
              "            + ' to learn more about interactive tables.';\n",
              "          element.innerHTML = '';\n",
              "          dataTable['output_type'] = 'display_data';\n",
              "          await google.colab.output.renderOutput(dataTable, element);\n",
              "          const docLink = document.createElement('div');\n",
              "          docLink.innerHTML = docLinkHtml;\n",
              "          element.appendChild(docLink);\n",
              "        }\n",
              "      </script>\n",
              "    </div>\n",
              "  </div>\n",
              "  "
            ]
          },
          "metadata": {},
          "execution_count": 307
        }
      ]
    },
    {
      "cell_type": "markdown",
      "source": [
        "Step 3 : Load the json file and explode all the columns\n",
        "4. create another dictionary from this json_df\n",
        "5. join with the column Q2,Q3 and Q4 and generate the response id\n",
        "6. generate the composite key by joining r1_r2_r3_r4_identifierValue\n"
      ],
      "metadata": {
        "id": "bzNFktiUvyoS"
      }
    },
    {
      "cell_type": "code",
      "source": [
        "# Loading the json file and creating a dataframe\n",
        "\n",
        "import json\n",
        "# load data using Python JSON module\n",
        "with open('/content/elida_beauty_testing/question_response.json','r') as f:\n",
        "    data = json.loads(f.read())\n",
        "# Flatten data\n",
        "\n",
        "json_df = pd.json_normalize(data, record_path =['Q&A','responses'],meta=[['Q&A','questionId'],['Q&A','questionText'],['Q&A','questionDescription'],['Q&A','multiSelect']])\n"
      ],
      "metadata": {
        "id": "--4unZ1UuMAU"
      },
      "execution_count": 283,
      "outputs": []
    },
    {
      "cell_type": "code",
      "source": [
        "json_df.head()"
      ],
      "metadata": {
        "colab": {
          "base_uri": "https://localhost:8080/",
          "height": 687
        },
        "id": "p3o3edsnwPeT",
        "outputId": "83524254-0110-486d-f721-fe43ad9e73bb"
      },
      "execution_count": 219,
      "outputs": [
        {
          "output_type": "execute_result",
          "data": {
            "text/plain": [
              "  answerInEnglish                                          seedWords mustKeys mustNotKeys responseDescription responseID responseText Q&A.questionId         Q&A.questionText  Q&A.questionDescription Q&A.multiSelect\n",
              "0            Fine  [fine, thick, volume, smooth, glossy, soft, sh...  [tyety]          []                Fine       1111         Fine           3031  How thick is your hair?  How thick is your hair?           False\n",
              "1          Medium  [thick, volume, strength, smooth, glossy, soft...  [tyety]          []              Medium       1112       Medium           3031  How thick is your hair?  How thick is your hair?           False\n",
              "2        Straight  [straight, sleek, shiny, smooth, glossy, soft,...  [tyety]          []            Straight       2221     Straight           3032  What is your hair type?  What is your hair type?           False\n",
              "3            Wavy  [wavy, curly, smooth, glossy, soft, shiny, hyd...  [tyety]          []                Wavy       2222         Wavy           3032  What is your hair type?  What is your hair type?           False\n",
              "4           Curly  [curl, curly, dry, messy, defined, coily, smoo...  [tyety]          []               Curly       2223        Curly           3032  What is your hair type?  What is your hair type?           False"
            ],
            "text/html": [
              "\n",
              "  <div id=\"df-6b26a7f8-d929-4112-84ba-69bb0b2632f2\">\n",
              "    <div class=\"colab-df-container\">\n",
              "      <div>\n",
              "<style scoped>\n",
              "    .dataframe tbody tr th:only-of-type {\n",
              "        vertical-align: middle;\n",
              "    }\n",
              "\n",
              "    .dataframe tbody tr th {\n",
              "        vertical-align: top;\n",
              "    }\n",
              "\n",
              "    .dataframe thead th {\n",
              "        text-align: right;\n",
              "    }\n",
              "</style>\n",
              "<table border=\"1\" class=\"dataframe\">\n",
              "  <thead>\n",
              "    <tr style=\"text-align: right;\">\n",
              "      <th></th>\n",
              "      <th>answerInEnglish</th>\n",
              "      <th>seedWords</th>\n",
              "      <th>mustKeys</th>\n",
              "      <th>mustNotKeys</th>\n",
              "      <th>responseDescription</th>\n",
              "      <th>responseID</th>\n",
              "      <th>responseText</th>\n",
              "      <th>Q&amp;A.questionId</th>\n",
              "      <th>Q&amp;A.questionText</th>\n",
              "      <th>Q&amp;A.questionDescription</th>\n",
              "      <th>Q&amp;A.multiSelect</th>\n",
              "    </tr>\n",
              "  </thead>\n",
              "  <tbody>\n",
              "    <tr>\n",
              "      <th>0</th>\n",
              "      <td>Fine</td>\n",
              "      <td>[fine, thick, volume, smooth, glossy, soft, sh...</td>\n",
              "      <td>[tyety]</td>\n",
              "      <td>[]</td>\n",
              "      <td>Fine</td>\n",
              "      <td>1111</td>\n",
              "      <td>Fine</td>\n",
              "      <td>3031</td>\n",
              "      <td>How thick is your hair?</td>\n",
              "      <td>How thick is your hair?</td>\n",
              "      <td>False</td>\n",
              "    </tr>\n",
              "    <tr>\n",
              "      <th>1</th>\n",
              "      <td>Medium</td>\n",
              "      <td>[thick, volume, strength, smooth, glossy, soft...</td>\n",
              "      <td>[tyety]</td>\n",
              "      <td>[]</td>\n",
              "      <td>Medium</td>\n",
              "      <td>1112</td>\n",
              "      <td>Medium</td>\n",
              "      <td>3031</td>\n",
              "      <td>How thick is your hair?</td>\n",
              "      <td>How thick is your hair?</td>\n",
              "      <td>False</td>\n",
              "    </tr>\n",
              "    <tr>\n",
              "      <th>2</th>\n",
              "      <td>Straight</td>\n",
              "      <td>[straight, sleek, shiny, smooth, glossy, soft,...</td>\n",
              "      <td>[tyety]</td>\n",
              "      <td>[]</td>\n",
              "      <td>Straight</td>\n",
              "      <td>2221</td>\n",
              "      <td>Straight</td>\n",
              "      <td>3032</td>\n",
              "      <td>What is your hair type?</td>\n",
              "      <td>What is your hair type?</td>\n",
              "      <td>False</td>\n",
              "    </tr>\n",
              "    <tr>\n",
              "      <th>3</th>\n",
              "      <td>Wavy</td>\n",
              "      <td>[wavy, curly, smooth, glossy, soft, shiny, hyd...</td>\n",
              "      <td>[tyety]</td>\n",
              "      <td>[]</td>\n",
              "      <td>Wavy</td>\n",
              "      <td>2222</td>\n",
              "      <td>Wavy</td>\n",
              "      <td>3032</td>\n",
              "      <td>What is your hair type?</td>\n",
              "      <td>What is your hair type?</td>\n",
              "      <td>False</td>\n",
              "    </tr>\n",
              "    <tr>\n",
              "      <th>4</th>\n",
              "      <td>Curly</td>\n",
              "      <td>[curl, curly, dry, messy, defined, coily, smoo...</td>\n",
              "      <td>[tyety]</td>\n",
              "      <td>[]</td>\n",
              "      <td>Curly</td>\n",
              "      <td>2223</td>\n",
              "      <td>Curly</td>\n",
              "      <td>3032</td>\n",
              "      <td>What is your hair type?</td>\n",
              "      <td>What is your hair type?</td>\n",
              "      <td>False</td>\n",
              "    </tr>\n",
              "  </tbody>\n",
              "</table>\n",
              "</div>\n",
              "      <button class=\"colab-df-convert\" onclick=\"convertToInteractive('df-6b26a7f8-d929-4112-84ba-69bb0b2632f2')\"\n",
              "              title=\"Convert this dataframe to an interactive table.\"\n",
              "              style=\"display:none;\">\n",
              "        \n",
              "  <svg xmlns=\"http://www.w3.org/2000/svg\" height=\"24px\"viewBox=\"0 0 24 24\"\n",
              "       width=\"24px\">\n",
              "    <path d=\"M0 0h24v24H0V0z\" fill=\"none\"/>\n",
              "    <path d=\"M18.56 5.44l.94 2.06.94-2.06 2.06-.94-2.06-.94-.94-2.06-.94 2.06-2.06.94zm-11 1L8.5 8.5l.94-2.06 2.06-.94-2.06-.94L8.5 2.5l-.94 2.06-2.06.94zm10 10l.94 2.06.94-2.06 2.06-.94-2.06-.94-.94-2.06-.94 2.06-2.06.94z\"/><path d=\"M17.41 7.96l-1.37-1.37c-.4-.4-.92-.59-1.43-.59-.52 0-1.04.2-1.43.59L10.3 9.45l-7.72 7.72c-.78.78-.78 2.05 0 2.83L4 21.41c.39.39.9.59 1.41.59.51 0 1.02-.2 1.41-.59l7.78-7.78 2.81-2.81c.8-.78.8-2.07 0-2.86zM5.41 20L4 18.59l7.72-7.72 1.47 1.35L5.41 20z\"/>\n",
              "  </svg>\n",
              "      </button>\n",
              "      \n",
              "  <style>\n",
              "    .colab-df-container {\n",
              "      display:flex;\n",
              "      flex-wrap:wrap;\n",
              "      gap: 12px;\n",
              "    }\n",
              "\n",
              "    .colab-df-convert {\n",
              "      background-color: #E8F0FE;\n",
              "      border: none;\n",
              "      border-radius: 50%;\n",
              "      cursor: pointer;\n",
              "      display: none;\n",
              "      fill: #1967D2;\n",
              "      height: 32px;\n",
              "      padding: 0 0 0 0;\n",
              "      width: 32px;\n",
              "    }\n",
              "\n",
              "    .colab-df-convert:hover {\n",
              "      background-color: #E2EBFA;\n",
              "      box-shadow: 0px 1px 2px rgba(60, 64, 67, 0.3), 0px 1px 3px 1px rgba(60, 64, 67, 0.15);\n",
              "      fill: #174EA6;\n",
              "    }\n",
              "\n",
              "    [theme=dark] .colab-df-convert {\n",
              "      background-color: #3B4455;\n",
              "      fill: #D2E3FC;\n",
              "    }\n",
              "\n",
              "    [theme=dark] .colab-df-convert:hover {\n",
              "      background-color: #434B5C;\n",
              "      box-shadow: 0px 1px 3px 1px rgba(0, 0, 0, 0.15);\n",
              "      filter: drop-shadow(0px 1px 2px rgba(0, 0, 0, 0.3));\n",
              "      fill: #FFFFFF;\n",
              "    }\n",
              "  </style>\n",
              "\n",
              "      <script>\n",
              "        const buttonEl =\n",
              "          document.querySelector('#df-6b26a7f8-d929-4112-84ba-69bb0b2632f2 button.colab-df-convert');\n",
              "        buttonEl.style.display =\n",
              "          google.colab.kernel.accessAllowed ? 'block' : 'none';\n",
              "\n",
              "        async function convertToInteractive(key) {\n",
              "          const element = document.querySelector('#df-6b26a7f8-d929-4112-84ba-69bb0b2632f2');\n",
              "          const dataTable =\n",
              "            await google.colab.kernel.invokeFunction('convertToInteractive',\n",
              "                                                     [key], {});\n",
              "          if (!dataTable) return;\n",
              "\n",
              "          const docLinkHtml = 'Like what you see? Visit the ' +\n",
              "            '<a target=\"_blank\" href=https://colab.research.google.com/notebooks/data_table.ipynb>data table notebook</a>'\n",
              "            + ' to learn more about interactive tables.';\n",
              "          element.innerHTML = '';\n",
              "          dataTable['output_type'] = 'display_data';\n",
              "          await google.colab.output.renderOutput(dataTable, element);\n",
              "          const docLink = document.createElement('div');\n",
              "          docLink.innerHTML = docLinkHtml;\n",
              "          element.appendChild(docLink);\n",
              "        }\n",
              "      </script>\n",
              "    </div>\n",
              "  </div>\n",
              "  "
            ]
          },
          "metadata": {},
          "execution_count": 219
        }
      ]
    },
    {
      "cell_type": "code",
      "source": [
        "json_df1 = json_df[['responseText','responseID']].copy()\n",
        "\n",
        "col_list = ['responseText','responseID']\n",
        "for col in col_list:\n",
        "  json_df1[col] = json_df1[col].str.lower()\n",
        "\n",
        "# Removing the leading and trailing spaces from Q1 column\n",
        "\n",
        "json_df1['responseText'] = json_df1['responseText'].str.strip()\n",
        "print(json_df1['responseText'].unique())\n",
        "\n",
        "# Converting json_df1 into dictionary\n",
        "\n",
        "json_df1_dict = pd.Series(json_df1.responseID.values, index=json_df1.responseText).to_dict()\n",
        "json_df1_dict"
      ],
      "metadata": {
        "colab": {
          "base_uri": "https://localhost:8080/"
        },
        "id": "HQXTbw-pwPW7",
        "outputId": "7e8877a0-1db2-4ce5-a6e7-8e20f7b728a0"
      },
      "execution_count": 308,
      "outputs": [
        {
          "output_type": "stream",
          "name": "stdout",
          "text": [
            "['fine' 'medium' 'straight' 'wavy' 'curly' 'coily' 'hair dryer' 'curler'\n",
            " 'straightener' 'air drying' 'hydration' 'volume' 'smoothness' 'shine'\n",
            " 'clean & refresh' 'curl definition' 'strength' 'preventing frizz'\n",
            " 'repair' 'colour protection']\n"
          ]
        },
        {
          "output_type": "execute_result",
          "data": {
            "text/plain": [
              "{'fine': '1111',\n",
              " 'medium': '1112',\n",
              " 'straight': '2221',\n",
              " 'wavy': '2222',\n",
              " 'curly': '2223',\n",
              " 'coily': '2224',\n",
              " 'hair dryer': '3331',\n",
              " 'curler': '3332',\n",
              " 'straightener': '3333',\n",
              " 'air drying': '3334',\n",
              " 'hydration': '4441',\n",
              " 'volume': '4442',\n",
              " 'smoothness': '4443',\n",
              " 'shine': '4444',\n",
              " 'clean & refresh': '4445',\n",
              " 'curl definition': '4446',\n",
              " 'strength': '4447',\n",
              " 'preventing frizz': '4448',\n",
              " 'repair': '4449',\n",
              " 'colour protection': '44450'}"
            ]
          },
          "metadata": {},
          "execution_count": 308
        }
      ]
    },
    {
      "cell_type": "code",
      "source": [
        "# Replacing the values with the referance code\n",
        "\n",
        "df3.replace(to_replace={'straightner':'straightener'},value=None, inplace=True)\n",
        "df3.replace(to_replace={'meduim hold':'medium hold'},value=None, inplace=True)\n",
        "col_list=['Q1','Q2','Q3','Q4','IdentifierValue']\n",
        "dummy_val_dict = {'thick':'99990','light hold':'99991',\n",
        "                  'medium hold':'99992', 'strong hold': '99993', 'texture': '99994'}\n",
        "for col in col_list:\n",
        "  df3.replace(to_replace={col:json_df1_dict},value=None,inplace=True)\n",
        "  df3.replace(to_replace={col:dummy_val_dict},value=None,inplace=True)\n",
        "  print(df3[col].unique())\n",
        "  \n",
        "\n",
        "\n",
        "df3=df3.loc[:,['Q1','Q2', 'Q3', 'Q4','IdentifierValue','P1','P2', 'P3',  'P4' ]]"
      ],
      "metadata": {
        "colab": {
          "base_uri": "https://localhost:8080/"
        },
        "id": "SJPnDpnywPUl",
        "outputId": "1c4209b1-a56d-4a93-8fd3-6fc3e3b228c1"
      },
      "execution_count": 318,
      "outputs": [
        {
          "output_type": "stream",
          "name": "stdout",
          "text": [
            "['1111' '1112' 99990]\n",
            "['2221' '2222' '2223' '2224']\n",
            "['4441' '4442' '4443' '4444' '4446' '4447' '4448' '4449' '44450' 99991\n",
            " 99992 99993 99994]\n",
            "['3331' '3333' '3332' '3334']\n",
            "['08710908852053' '00000050398850' '05012254064351' '08717163784365'\n",
            " '00000050297825' '05012254058541' '08717163784358' '08710908779145'\n",
            " '00000050297092' '00000050398645' '05012254066409' '08710447330296']\n"
          ]
        }
      ]
    },
    {
      "cell_type": "code",
      "source": [
        "df3.head()"
      ],
      "metadata": {
        "colab": {
          "base_uri": "https://localhost:8080/",
          "height": 424
        },
        "id": "tk-eGQ7QwPS7",
        "outputId": "66986c5f-2cbc-4d49-dd0b-eedacf9adc89"
      },
      "execution_count": 320,
      "outputs": [
        {
          "output_type": "execute_result",
          "data": {
            "text/plain": [
              "      Q1    Q2    Q3    Q4 IdentifierValue                                                 P1                                                 P2    P3    P4\n",
              "0   1111  2221  4441  3331  08710908852053  [{'routineName': '', 'category': 'mist', 'shor...  [{'routineName': '', 'category': 'serum', 'sho...  None  None\n",
              "0   1112  2221  4441  3331  08710908852053  [{'routineName': '', 'category': 'mist', 'shor...  [{'routineName': '', 'category': 'serum', 'sho...  None  None\n",
              "0  99990  2221  4441  3331  08710908852053  [{'routineName': '', 'category': 'mist', 'shor...  [{'routineName': '', 'category': 'serum', 'sho...  None  None\n",
              "0   1111  2222  4441  3331  08710908852053  [{'routineName': '', 'category': 'mist', 'shor...  [{'routineName': '', 'category': 'serum', 'sho...  None  None\n",
              "0   1112  2222  4441  3331  08710908852053  [{'routineName': '', 'category': 'mist', 'shor...  [{'routineName': '', 'category': 'serum', 'sho...  None  None"
            ],
            "text/html": [
              "\n",
              "  <div id=\"df-625c97ee-2691-49a3-98c0-b8aab28f3046\">\n",
              "    <div class=\"colab-df-container\">\n",
              "      <div>\n",
              "<style scoped>\n",
              "    .dataframe tbody tr th:only-of-type {\n",
              "        vertical-align: middle;\n",
              "    }\n",
              "\n",
              "    .dataframe tbody tr th {\n",
              "        vertical-align: top;\n",
              "    }\n",
              "\n",
              "    .dataframe thead th {\n",
              "        text-align: right;\n",
              "    }\n",
              "</style>\n",
              "<table border=\"1\" class=\"dataframe\">\n",
              "  <thead>\n",
              "    <tr style=\"text-align: right;\">\n",
              "      <th></th>\n",
              "      <th>Q1</th>\n",
              "      <th>Q2</th>\n",
              "      <th>Q3</th>\n",
              "      <th>Q4</th>\n",
              "      <th>IdentifierValue</th>\n",
              "      <th>P1</th>\n",
              "      <th>P2</th>\n",
              "      <th>P3</th>\n",
              "      <th>P4</th>\n",
              "    </tr>\n",
              "  </thead>\n",
              "  <tbody>\n",
              "    <tr>\n",
              "      <th>0</th>\n",
              "      <td>1111</td>\n",
              "      <td>2221</td>\n",
              "      <td>4441</td>\n",
              "      <td>3331</td>\n",
              "      <td>08710908852053</td>\n",
              "      <td>[{'routineName': '', 'category': 'mist', 'shor...</td>\n",
              "      <td>[{'routineName': '', 'category': 'serum', 'sho...</td>\n",
              "      <td>None</td>\n",
              "      <td>None</td>\n",
              "    </tr>\n",
              "    <tr>\n",
              "      <th>0</th>\n",
              "      <td>1112</td>\n",
              "      <td>2221</td>\n",
              "      <td>4441</td>\n",
              "      <td>3331</td>\n",
              "      <td>08710908852053</td>\n",
              "      <td>[{'routineName': '', 'category': 'mist', 'shor...</td>\n",
              "      <td>[{'routineName': '', 'category': 'serum', 'sho...</td>\n",
              "      <td>None</td>\n",
              "      <td>None</td>\n",
              "    </tr>\n",
              "    <tr>\n",
              "      <th>0</th>\n",
              "      <td>99990</td>\n",
              "      <td>2221</td>\n",
              "      <td>4441</td>\n",
              "      <td>3331</td>\n",
              "      <td>08710908852053</td>\n",
              "      <td>[{'routineName': '', 'category': 'mist', 'shor...</td>\n",
              "      <td>[{'routineName': '', 'category': 'serum', 'sho...</td>\n",
              "      <td>None</td>\n",
              "      <td>None</td>\n",
              "    </tr>\n",
              "    <tr>\n",
              "      <th>0</th>\n",
              "      <td>1111</td>\n",
              "      <td>2222</td>\n",
              "      <td>4441</td>\n",
              "      <td>3331</td>\n",
              "      <td>08710908852053</td>\n",
              "      <td>[{'routineName': '', 'category': 'mist', 'shor...</td>\n",
              "      <td>[{'routineName': '', 'category': 'serum', 'sho...</td>\n",
              "      <td>None</td>\n",
              "      <td>None</td>\n",
              "    </tr>\n",
              "    <tr>\n",
              "      <th>0</th>\n",
              "      <td>1112</td>\n",
              "      <td>2222</td>\n",
              "      <td>4441</td>\n",
              "      <td>3331</td>\n",
              "      <td>08710908852053</td>\n",
              "      <td>[{'routineName': '', 'category': 'mist', 'shor...</td>\n",
              "      <td>[{'routineName': '', 'category': 'serum', 'sho...</td>\n",
              "      <td>None</td>\n",
              "      <td>None</td>\n",
              "    </tr>\n",
              "  </tbody>\n",
              "</table>\n",
              "</div>\n",
              "      <button class=\"colab-df-convert\" onclick=\"convertToInteractive('df-625c97ee-2691-49a3-98c0-b8aab28f3046')\"\n",
              "              title=\"Convert this dataframe to an interactive table.\"\n",
              "              style=\"display:none;\">\n",
              "        \n",
              "  <svg xmlns=\"http://www.w3.org/2000/svg\" height=\"24px\"viewBox=\"0 0 24 24\"\n",
              "       width=\"24px\">\n",
              "    <path d=\"M0 0h24v24H0V0z\" fill=\"none\"/>\n",
              "    <path d=\"M18.56 5.44l.94 2.06.94-2.06 2.06-.94-2.06-.94-.94-2.06-.94 2.06-2.06.94zm-11 1L8.5 8.5l.94-2.06 2.06-.94-2.06-.94L8.5 2.5l-.94 2.06-2.06.94zm10 10l.94 2.06.94-2.06 2.06-.94-2.06-.94-.94-2.06-.94 2.06-2.06.94z\"/><path d=\"M17.41 7.96l-1.37-1.37c-.4-.4-.92-.59-1.43-.59-.52 0-1.04.2-1.43.59L10.3 9.45l-7.72 7.72c-.78.78-.78 2.05 0 2.83L4 21.41c.39.39.9.59 1.41.59.51 0 1.02-.2 1.41-.59l7.78-7.78 2.81-2.81c.8-.78.8-2.07 0-2.86zM5.41 20L4 18.59l7.72-7.72 1.47 1.35L5.41 20z\"/>\n",
              "  </svg>\n",
              "      </button>\n",
              "      \n",
              "  <style>\n",
              "    .colab-df-container {\n",
              "      display:flex;\n",
              "      flex-wrap:wrap;\n",
              "      gap: 12px;\n",
              "    }\n",
              "\n",
              "    .colab-df-convert {\n",
              "      background-color: #E8F0FE;\n",
              "      border: none;\n",
              "      border-radius: 50%;\n",
              "      cursor: pointer;\n",
              "      display: none;\n",
              "      fill: #1967D2;\n",
              "      height: 32px;\n",
              "      padding: 0 0 0 0;\n",
              "      width: 32px;\n",
              "    }\n",
              "\n",
              "    .colab-df-convert:hover {\n",
              "      background-color: #E2EBFA;\n",
              "      box-shadow: 0px 1px 2px rgba(60, 64, 67, 0.3), 0px 1px 3px 1px rgba(60, 64, 67, 0.15);\n",
              "      fill: #174EA6;\n",
              "    }\n",
              "\n",
              "    [theme=dark] .colab-df-convert {\n",
              "      background-color: #3B4455;\n",
              "      fill: #D2E3FC;\n",
              "    }\n",
              "\n",
              "    [theme=dark] .colab-df-convert:hover {\n",
              "      background-color: #434B5C;\n",
              "      box-shadow: 0px 1px 3px 1px rgba(0, 0, 0, 0.15);\n",
              "      filter: drop-shadow(0px 1px 2px rgba(0, 0, 0, 0.3));\n",
              "      fill: #FFFFFF;\n",
              "    }\n",
              "  </style>\n",
              "\n",
              "      <script>\n",
              "        const buttonEl =\n",
              "          document.querySelector('#df-625c97ee-2691-49a3-98c0-b8aab28f3046 button.colab-df-convert');\n",
              "        buttonEl.style.display =\n",
              "          google.colab.kernel.accessAllowed ? 'block' : 'none';\n",
              "\n",
              "        async function convertToInteractive(key) {\n",
              "          const element = document.querySelector('#df-625c97ee-2691-49a3-98c0-b8aab28f3046');\n",
              "          const dataTable =\n",
              "            await google.colab.kernel.invokeFunction('convertToInteractive',\n",
              "                                                     [key], {});\n",
              "          if (!dataTable) return;\n",
              "\n",
              "          const docLinkHtml = 'Like what you see? Visit the ' +\n",
              "            '<a target=\"_blank\" href=https://colab.research.google.com/notebooks/data_table.ipynb>data table notebook</a>'\n",
              "            + ' to learn more about interactive tables.';\n",
              "          element.innerHTML = '';\n",
              "          dataTable['output_type'] = 'display_data';\n",
              "          await google.colab.output.renderOutput(dataTable, element);\n",
              "          const docLink = document.createElement('div');\n",
              "          docLink.innerHTML = docLinkHtml;\n",
              "          element.appendChild(docLink);\n",
              "        }\n",
              "      </script>\n",
              "    </div>\n",
              "  </div>\n",
              "  "
            ]
          },
          "metadata": {},
          "execution_count": 320
        }
      ]
    },
    {
      "cell_type": "code",
      "source": [
        "# Dropping unwanted columns from the dataframe\n",
        "\n",
        "df4 = df3.copy()\n",
        "df4.head()\n",
        "col_list = ['Q1','Q2','Q3','Q4','IdentifierValue']\n",
        "df4.drop(col_list, axis=1, inplace=True)\n",
        "len(df4)"
      ],
      "metadata": {
        "colab": {
          "base_uri": "https://localhost:8080/"
        },
        "id": "5DLFjgsr0pLZ",
        "outputId": "33fbf7cc-fd88-4166-9901-9220130a6eb6"
      },
      "execution_count": 321,
      "outputs": [
        {
          "output_type": "execute_result",
          "data": {
            "text/plain": [
              "38610"
            ]
          },
          "metadata": {},
          "execution_count": 321
        }
      ]
    },
    {
      "cell_type": "code",
      "source": [
        "# # Creating a composite key to save the individual json files\n",
        "\n",
        "# composite_key = df3[['Q1','Q2','Q3','Q4','IdentifierValue']].apply(lambda x: '_'.join(x.astype(str)), axis=1)\n",
        "\n",
        "# # for i in composite_key:\n",
        "# #   print(i)\n",
        "\n",
        "\n",
        "# # iterate through each row of the dataframe\n",
        "# for index, row in df4.iterrows():\n",
        "#     # convert the row to a dictionary\n",
        "#     data = row.to_dict()\n",
        "#     # write the dictionary to a json file using composite_key\n",
        "#     for key in composite_key:\n",
        "#       with open(f'{key}.json', 'w') as f:\n",
        "#         json.dump(data, f, indent=4)\n"
      ],
      "metadata": {
        "id": "yB78kvMewPQe"
      },
      "execution_count": null,
      "outputs": []
    },
    {
      "cell_type": "code",
      "source": [
        "# Creating a composite key to save the individual json files\n",
        "composite_key = df3[['Q1','Q2','Q3','Q4','IdentifierValue']].apply(lambda x: '_'.join(x.astype(str)), axis=1)\n",
        "\n",
        "# Converting the df to json string\n",
        "for index, row in df4.iterrows():\n",
        "  json_string = row.to_json(orient='records')\n",
        "  # using the json module to create a nested structure\n",
        "  json_data = json.loads(json_string)\n",
        "  # writing the nested json to a file\n",
        "  for key in composite_key:\n",
        "    output = {'recommendations': json_data}\n",
        "    with open(f'{key}.json', 'w') as outfile:\n",
        "      json.dump(output,outfile, indent=4)\n",
        "\n"
      ],
      "metadata": {
        "id": "UawnNRqGwPOH"
      },
      "execution_count": null,
      "outputs": []
    },
    {
      "cell_type": "code",
      "source": [
        "!rm -rf *.json\n",
        "json_string = row.replace({pd.np.nan: None}).to_json(indent=None)"
      ],
      "metadata": {
        "id": "pmpPRQZ-wPLu"
      },
      "execution_count": 319,
      "outputs": []
    },
    {
      "cell_type": "code",
      "source": [],
      "metadata": {
        "id": "ENbdjWF7wPJY"
      },
      "execution_count": null,
      "outputs": []
    },
    {
      "cell_type": "code",
      "source": [],
      "metadata": {
        "id": "u5TRUL22wPG2"
      },
      "execution_count": null,
      "outputs": []
    },
    {
      "cell_type": "code",
      "source": [],
      "metadata": {
        "id": "ek7fKhj3wPEd"
      },
      "execution_count": null,
      "outputs": []
    },
    {
      "cell_type": "code",
      "source": [],
      "metadata": {
        "id": "80RjCXMdwPCC"
      },
      "execution_count": null,
      "outputs": []
    },
    {
      "cell_type": "code",
      "source": [],
      "metadata": {
        "id": "3KXNLOcIuLwx"
      },
      "execution_count": null,
      "outputs": []
    },
    {
      "cell_type": "code",
      "source": [
        "# rows_list = df1.columns[:4]\n",
        "pim_df2 = pim_df1[['identifierValue','productName']].copy()\n",
        "pim_df2 = pd.Series(pim_df2.identifierValue.values, index=pim_df2.productName).to_dict()\n",
        "pim_df2\n",
        "\n",
        "df2 = df2.fillna('default')\n",
        "response_rows_list = []\n",
        "\n",
        "for index, row in df2[df2.columns[:4]].iterrows():\n",
        "    response_rows_list.append(list(row))\n"
      ],
      "metadata": {
        "id": "4cM3jSKdrU_n"
      },
      "execution_count": null,
      "outputs": []
    },
    {
      "cell_type": "code",
      "source": [
        "# writing the nested json to a file\n",
        "\n",
        "with open(\"output.json\",'w') as outfile:\n",
        "  json.dump(output,outfile, indent=4)\n",
        "\n",
        "\n"
      ],
      "metadata": {
        "id": "pGhZ6DBurU9H"
      },
      "execution_count": null,
      "outputs": []
    },
    {
      "cell_type": "code",
      "source": [],
      "metadata": {
        "id": "ANCeFwKQrU6t"
      },
      "execution_count": null,
      "outputs": []
    },
    {
      "cell_type": "code",
      "source": [],
      "metadata": {
        "id": "dcqBqEnHrU4W"
      },
      "execution_count": null,
      "outputs": []
    }
  ]
}